{
 "cells": [
  {
   "cell_type": "markdown",
   "metadata": {
    "application/vnd.databricks.v1+cell": {
     "cellMetadata": {
      "byteLimit": 2048000,
      "rowLimit": 10000
     },
     "inputWidgets": {},
     "nuid": "97ffa25d-b5ea-4b3c-a90e-b7b57bf15801",
     "showTitle": false,
     "title": ""
    }
   },
   "source": [
    "## Using Window Functions Over Partitions (Pandas)"
   ]
  },
  {
   "cell_type": "code",
   "execution_count": 0,
   "metadata": {
    "application/vnd.databricks.v1+cell": {
     "cellMetadata": {
      "byteLimit": 2048000,
      "rowLimit": 10000
     },
     "inputWidgets": {},
     "nuid": "ef07f77e-2a00-42b4-bb5d-77a91ee404b4",
     "showTitle": false,
     "title": ""
    }
   },
   "outputs": [],
   "source": [
    "import pandas as pd\n",
    "\n",
    "#reading cleaned & merged datasets\n",
    "order_items_data_cleaned = pd.read_csv('order_items_data_cleaned.csv')\n",
    "orders_customers_data_cleaned = pd.read_csv('orders_customers_data_cleaned.csv')\n",
    "products_data_cleaned = pd.read_csv('products_data_cleaned.csv')\n",
    "order_payments_data_cleaned = pd.read_csv('order_payments_data_cleaned.csv')"
   ]
  },
  {
   "cell_type": "code",
   "execution_count": 0,
   "metadata": {
    "application/vnd.databricks.v1+cell": {
     "cellMetadata": {
      "byteLimit": 2048000,
      "rowLimit": 10000
     },
     "inputWidgets": {},
     "nuid": "63a60432-2f40-437f-a650-a737a51bfe82",
     "showTitle": false,
     "title": ""
    }
   },
   "outputs": [
    {
     "output_type": "stream",
     "name": "stdout",
     "output_type": "stream",
     "text": [
      "                        customer_id  total_price  total_sales_per_customer\n0  3ce436f183e68e07877b285a838db11a        72.19                     72.19\n1  f6dd3ec061db4e3987629fe6b26e5cce       259.83                    259.83\n2  6489ae5e4333f3693df5ad4372dab6d3       216.87                    216.87\n3  d4eb9395c8c0431ee92fce09860c5a06        25.78                     25.78\n4  58dbd0b2d70206bf40e62cd34e84d795       218.04                    218.04\n"
     ]
    }
   ],
   "source": [
    "#1. Create a rolling sum or cumulative metric for: Total Sales per Customer: A running total of product price for each customer partitioned by Customer ID.\n",
    "\n",
    "order_items_data_cleaned['total_sales_per_customer'] = order_items_data_cleaned.groupby('customer_id')['total_price'].cumsum()\n",
    "\n",
    "#display(order_items_data_cleaned.head(10))\n",
    "print(order_items_data_cleaned[['customer_id', 'total_price', 'total_sales_per_customer']].head())\n"
   ]
  },
  {
   "cell_type": "code",
   "execution_count": 0,
   "metadata": {
    "application/vnd.databricks.v1+cell": {
     "cellMetadata": {
      "byteLimit": 2048000,
      "rowLimit": 10000
     },
     "inputWidgets": {},
     "nuid": "000643d0-a592-459b-bf90-47b37477da14",
     "showTitle": false,
     "title": ""
    }
   },
   "outputs": [
    {
     "output_type": "stream",
     "name": "stdout",
     "output_type": "stream",
     "text": [
      "  product_category_name  delivery_time  avg_delivery_time_per_category\n0            cool_stuff              7                             7.0\n1              pet_shop             16                            16.0\n2      moveis_decoracao              7                             7.0\n3            perfumaria              6                             6.0\n4    ferramentas_jardim             25                            25.0\n"
     ]
    }
   ],
   "source": [
    "#2. Average Delivery Time per Product Category: A rolling average of delivery time partitioned by product category.\n",
    "\n",
    "#Using sorted values and rolling\n",
    "overwritten_index = order_items_data_cleaned.groupby('product_category_name')['delivery_time'].rolling(window=5, min_periods=1).mean().reset_index(level=0, drop=True)\n",
    "order_items_data_cleaned['avg_delivery_time_per_category'] = overwritten_index\n",
    "\n",
    "#Displaying the result to verify\n",
    "print(order_items_data_cleaned[['product_category_name', 'delivery_time', 'avg_delivery_time_per_category']].head())"
   ]
  },
  {
   "cell_type": "code",
   "execution_count": 0,
   "metadata": {
    "application/vnd.databricks.v1+cell": {
     "cellMetadata": {
      "byteLimit": 2048000,
      "rowLimit": 10000
     },
     "inputWidgets": {},
     "nuid": "4142fed2-f5b1-47ac-9f79-248105e99db6",
     "showTitle": false,
     "title": ""
    }
   },
   "outputs": [],
   "source": [
    "# Save the cleaned order items data to a CSV file\n",
    "order_items_data_cleaned.to_csv('order_items_data_cleaned.csv', index=False) "
   ]
  }
 ],
 "metadata": {
  "application/vnd.databricks.v1+notebook": {
   "dashboards": [],
   "environmentMetadata": null,
   "language": "python",
   "notebookMetadata": {
    "pythonIndentUnit": 4
   },
   "notebookName": "4.3 Using Window Functions Over Partitions",
   "widgets": {}
  }
 },
 "nbformat": 4,
 "nbformat_minor": 0
}
