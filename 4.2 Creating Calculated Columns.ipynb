{
 "cells": [
  {
   "cell_type": "markdown",
   "metadata": {
    "application/vnd.databricks.v1+cell": {
     "cellMetadata": {
      "byteLimit": 2048000,
      "rowLimit": 10000
     },
     "inputWidgets": {},
     "nuid": "841ec4c7-0cac-4b69-b23f-2b0db04c360c",
     "showTitle": false,
     "title": ""
    }
   },
   "source": [
    "## Creating Calculated Columns"
   ]
  },
  {
   "cell_type": "code",
   "execution_count": 0,
   "metadata": {
    "application/vnd.databricks.v1+cell": {
     "cellMetadata": {
      "byteLimit": 2048000,
      "rowLimit": 10000
     },
     "inputWidgets": {},
     "nuid": "77649745-7207-4661-8597-caecb1b9d628",
     "showTitle": false,
     "title": ""
    }
   },
   "outputs": [],
   "source": [
    "import pandas as pd\n",
    "\n",
    "#reading cleaned & merged datasets\n",
    "order_items_data_cleaned = pd.read_csv('order_items_data_cleaned.csv')\n",
    "orders_customers_data_cleaned = pd.read_csv('orders_customers_data_cleaned.csv')\n",
    "products_data_cleaned = pd.read_csv('products_data_cleaned.csv')\n",
    "order_payments_data_cleaned = pd.read_csv('order_payments_data_cleaned.csv')\n"
   ]
  },
  {
   "cell_type": "code",
   "execution_count": 0,
   "metadata": {
    "application/vnd.databricks.v1+cell": {
     "cellMetadata": {
      "byteLimit": 2048000,
      "rowLimit": 10000
     },
     "inputWidgets": {},
     "nuid": "25de9acf-e67c-4e6f-9a37-55e0128c7a47",
     "showTitle": false,
     "title": ""
    }
   },
   "outputs": [
    {
     "output_type": "display_data",
     "data": {
      "text/html": [
       "<style scoped>\n",
       "  .table-result-container {\n",
       "    max-height: 300px;\n",
       "    overflow: auto;\n",
       "  }\n",
       "  table, th, td {\n",
       "    border: 1px solid black;\n",
       "    border-collapse: collapse;\n",
       "  }\n",
       "  th, td {\n",
       "    padding: 5px;\n",
       "  }\n",
       "  th {\n",
       "    text-align: left;\n",
       "  }\n",
       "</style><div class='table-result-container'><table class='table-result'><thead style='background-color: white'><tr><th>order_id</th><th>order_item_id</th><th>product_id</th><th>seller_id</th><th>shipping_limit_date</th><th>price</th><th>freight_value</th><th>customer_id</th><th>order_status</th><th>order_purchase_timestamp</th><th>order_approved_at</th><th>order_delivered_carrier_date</th><th>order_delivered_customer_date</th><th>order_estimated_delivery_date</th><th>product_category_name</th><th>product_name_length</th><th>product_description_length</th><th>product_photos_qty</th><th>product_weight_g</th><th>product_length_cm</th><th>product_height_cm</th><th>product_width_cm</th><th>product_category_name_english</th><th>seller_zip_code_prefix</th><th>seller_city</th><th>seller_state</th><th>total_price</th><th>delivery_time</th><th>payment_count</th><th>profit_margin</th></tr></thead><tbody><tr><td>00010242fe8c5a6d1ba2dd792cb16214</td><td>1</td><td>4244733e06e7ecb4970a6e2683c13e61</td><td>48436dade18ac8b2bce089ec2a041202</td><td>2017-09-19 09:45:35</td><td>58.9</td><td>13.29</td><td>3ce436f183e68e07877b285a838db11a</td><td>delivered</td><td>2017-09-13 08:59:02</td><td>2017-09-13 09:45:35</td><td>2017-09-19 18:34:16</td><td>2017-09-20 23:43:48</td><td>2017-09-29</td><td>cool_stuff</td><td>58.0</td><td>598.0</td><td>4.0</td><td>650.0</td><td>28.0</td><td>9.0</td><td>14.0</td><td>cool_stuff</td><td>27277</td><td>Volta Redonda</td><td>SP</td><td>72.19</td><td>7</td><td>2.0</td><td>45.61</td></tr><tr><td>00018f77f2f0320c557190d7a144bdd3</td><td>1</td><td>e5f2d52b802189ee658865ca93d83a8f</td><td>dd7ddc04e1b6c2c614352b383efe2d36</td><td>2017-05-03 11:05:13</td><td>239.9</td><td>19.93</td><td>f6dd3ec061db4e3987629fe6b26e5cce</td><td>delivered</td><td>2017-04-26 10:53:06</td><td>2017-04-26 11:05:13</td><td>2017-05-04 14:35:00</td><td>2017-05-12 16:04:24</td><td>2017-05-15</td><td>pet_shop</td><td>56.0</td><td>239.0</td><td>2.0</td><td>30000.0</td><td>50.0</td><td>30.0</td><td>40.0</td><td>pet_shop</td><td>3471</td><td>Sao Paulo</td><td>SP</td><td>259.83</td><td>16</td><td>3.0</td><td>219.97</td></tr><tr><td>000229ec398224ef6ca0657da4fc703e</td><td>1</td><td>c777355d18b72b67abbeef9df44fd0fd</td><td>5b51032eddd242adc84c38acab88f23d</td><td>2018-01-18 14:48:30</td><td>199.0</td><td>17.87</td><td>6489ae5e4333f3693df5ad4372dab6d3</td><td>delivered</td><td>2018-01-14 14:33:31</td><td>2018-01-14 14:48:30</td><td>2018-01-16 12:36:48</td><td>2018-01-22 13:19:16</td><td>2018-02-05</td><td>moveis_decoracao</td><td>59.0</td><td>695.0</td><td>2.0</td><td>3050.0</td><td>33.0</td><td>13.0</td><td>33.0</td><td>furniture_decor</td><td>37564</td><td>Borda Da Mata</td><td>MG</td><td>216.87</td><td>7</td><td>5.0</td><td>181.13</td></tr><tr><td>00024acbcdf0a6daa1e931b038114c75</td><td>1</td><td>7634da152a4610f1595efa32f14722fc</td><td>9d7a1d34a5052409006425275ba1c2b4</td><td>2018-08-15 10:10:18</td><td>12.99</td><td>12.79</td><td>d4eb9395c8c0431ee92fce09860c5a06</td><td>delivered</td><td>2018-08-08 10:00:35</td><td>2018-08-08 10:10:18</td><td>2018-08-10 13:28:00</td><td>2018-08-14 13:32:39</td><td>2018-08-20</td><td>perfumaria</td><td>42.0</td><td>480.0</td><td>1.0</td><td>200.0</td><td>16.0</td><td>10.0</td><td>15.0</td><td>perfumery</td><td>14403</td><td>Franca</td><td>SP</td><td>25.78</td><td>6</td><td>2.0</td><td>0.200000000000001</td></tr><tr><td>00042b26cf59d7ce69dfabb4e55b4fd9</td><td>1</td><td>ac6c3623068f30de03045865e4e10089</td><td>df560393f3a51e74553ab94004ba5c87</td><td>2017-02-13 13:57:51</td><td>199.9</td><td>18.14</td><td>58dbd0b2d70206bf40e62cd34e84d795</td><td>delivered</td><td>2017-02-04 13:57:51</td><td>2017-02-04 14:10:13</td><td>2017-02-16 09:46:09</td><td>2017-03-01 16:42:31</td><td>2017-03-17</td><td>ferramentas_jardim</td><td>59.0</td><td>409.0</td><td>1.0</td><td>3750.0</td><td>35.0</td><td>40.0</td><td>30.0</td><td>garden_tools</td><td>87900</td><td>Loanda</td><td>PR</td><td>218.04000000000002</td><td>25</td><td>3.0</td><td>181.76</td></tr></tbody></table></div>"
      ]
     },
     "metadata": {
      "application/vnd.databricks.v1+output": {
       "addedWidgets": {},
       "aggData": [],
       "aggError": "",
       "aggOverflow": false,
       "aggSchema": [],
       "aggSeriesLimitReached": false,
       "aggType": "",
       "arguments": {},
       "columnCustomDisplayInfos": {},
       "data": [
        [
         "00010242fe8c5a6d1ba2dd792cb16214",
         1,
         "4244733e06e7ecb4970a6e2683c13e61",
         "48436dade18ac8b2bce089ec2a041202",
         "2017-09-19 09:45:35",
         58.9,
         13.29,
         "3ce436f183e68e07877b285a838db11a",
         "delivered",
         "2017-09-13 08:59:02",
         "2017-09-13 09:45:35",
         "2017-09-19 18:34:16",
         "2017-09-20 23:43:48",
         "2017-09-29",
         "cool_stuff",
         58.0,
         598.0,
         4.0,
         650.0,
         28.0,
         9.0,
         14.0,
         "cool_stuff",
         27277,
         "Volta Redonda",
         "SP",
         72.19,
         7,
         2.0,
         45.61
        ],
        [
         "00018f77f2f0320c557190d7a144bdd3",
         1,
         "e5f2d52b802189ee658865ca93d83a8f",
         "dd7ddc04e1b6c2c614352b383efe2d36",
         "2017-05-03 11:05:13",
         239.9,
         19.93,
         "f6dd3ec061db4e3987629fe6b26e5cce",
         "delivered",
         "2017-04-26 10:53:06",
         "2017-04-26 11:05:13",
         "2017-05-04 14:35:00",
         "2017-05-12 16:04:24",
         "2017-05-15",
         "pet_shop",
         56.0,
         239.0,
         2.0,
         30000.0,
         50.0,
         30.0,
         40.0,
         "pet_shop",
         3471,
         "Sao Paulo",
         "SP",
         259.83,
         16,
         3.0,
         219.97
        ],
        [
         "000229ec398224ef6ca0657da4fc703e",
         1,
         "c777355d18b72b67abbeef9df44fd0fd",
         "5b51032eddd242adc84c38acab88f23d",
         "2018-01-18 14:48:30",
         199.0,
         17.87,
         "6489ae5e4333f3693df5ad4372dab6d3",
         "delivered",
         "2018-01-14 14:33:31",
         "2018-01-14 14:48:30",
         "2018-01-16 12:36:48",
         "2018-01-22 13:19:16",
         "2018-02-05",
         "moveis_decoracao",
         59.0,
         695.0,
         2.0,
         3050.0,
         33.0,
         13.0,
         33.0,
         "furniture_decor",
         37564,
         "Borda Da Mata",
         "MG",
         216.87,
         7,
         5.0,
         181.13
        ],
        [
         "00024acbcdf0a6daa1e931b038114c75",
         1,
         "7634da152a4610f1595efa32f14722fc",
         "9d7a1d34a5052409006425275ba1c2b4",
         "2018-08-15 10:10:18",
         12.99,
         12.79,
         "d4eb9395c8c0431ee92fce09860c5a06",
         "delivered",
         "2018-08-08 10:00:35",
         "2018-08-08 10:10:18",
         "2018-08-10 13:28:00",
         "2018-08-14 13:32:39",
         "2018-08-20",
         "perfumaria",
         42.0,
         480.0,
         1.0,
         200.0,
         16.0,
         10.0,
         15.0,
         "perfumery",
         14403,
         "Franca",
         "SP",
         25.78,
         6,
         2.0,
         0.200000000000001
        ],
        [
         "00042b26cf59d7ce69dfabb4e55b4fd9",
         1,
         "ac6c3623068f30de03045865e4e10089",
         "df560393f3a51e74553ab94004ba5c87",
         "2017-02-13 13:57:51",
         199.9,
         18.14,
         "58dbd0b2d70206bf40e62cd34e84d795",
         "delivered",
         "2017-02-04 13:57:51",
         "2017-02-04 14:10:13",
         "2017-02-16 09:46:09",
         "2017-03-01 16:42:31",
         "2017-03-17",
         "ferramentas_jardim",
         59.0,
         409.0,
         1.0,
         3750.0,
         35.0,
         40.0,
         30.0,
         "garden_tools",
         87900,
         "Loanda",
         "PR",
         218.04000000000002,
         25,
         3.0,
         181.76
        ]
       ],
       "datasetInfos": [],
       "dbfsResultPath": null,
       "isJsonSchema": true,
       "metadata": {},
       "overflow": false,
       "plotOptions": {
        "customPlotOptions": {},
        "displayType": "table",
        "pivotAggregation": null,
        "pivotColumns": null,
        "xColumns": null,
        "yColumns": null
       },
       "removedWidgets": [],
       "schema": [
        {
         "metadata": "{}",
         "name": "order_id",
         "type": "\"string\""
        },
        {
         "metadata": "{}",
         "name": "order_item_id",
         "type": "\"long\""
        },
        {
         "metadata": "{}",
         "name": "product_id",
         "type": "\"string\""
        },
        {
         "metadata": "{}",
         "name": "seller_id",
         "type": "\"string\""
        },
        {
         "metadata": "{}",
         "name": "shipping_limit_date",
         "type": "\"string\""
        },
        {
         "metadata": "{}",
         "name": "price",
         "type": "\"double\""
        },
        {
         "metadata": "{}",
         "name": "freight_value",
         "type": "\"double\""
        },
        {
         "metadata": "{}",
         "name": "customer_id",
         "type": "\"string\""
        },
        {
         "metadata": "{}",
         "name": "order_status",
         "type": "\"string\""
        },
        {
         "metadata": "{}",
         "name": "order_purchase_timestamp",
         "type": "\"string\""
        },
        {
         "metadata": "{}",
         "name": "order_approved_at",
         "type": "\"string\""
        },
        {
         "metadata": "{}",
         "name": "order_delivered_carrier_date",
         "type": "\"string\""
        },
        {
         "metadata": "{}",
         "name": "order_delivered_customer_date",
         "type": "\"string\""
        },
        {
         "metadata": "{}",
         "name": "order_estimated_delivery_date",
         "type": "\"string\""
        },
        {
         "metadata": "{}",
         "name": "product_category_name",
         "type": "\"string\""
        },
        {
         "metadata": "{}",
         "name": "product_name_length",
         "type": "\"double\""
        },
        {
         "metadata": "{}",
         "name": "product_description_length",
         "type": "\"double\""
        },
        {
         "metadata": "{}",
         "name": "product_photos_qty",
         "type": "\"double\""
        },
        {
         "metadata": "{}",
         "name": "product_weight_g",
         "type": "\"double\""
        },
        {
         "metadata": "{}",
         "name": "product_length_cm",
         "type": "\"double\""
        },
        {
         "metadata": "{}",
         "name": "product_height_cm",
         "type": "\"double\""
        },
        {
         "metadata": "{}",
         "name": "product_width_cm",
         "type": "\"double\""
        },
        {
         "metadata": "{}",
         "name": "product_category_name_english",
         "type": "\"string\""
        },
        {
         "metadata": "{}",
         "name": "seller_zip_code_prefix",
         "type": "\"long\""
        },
        {
         "metadata": "{}",
         "name": "seller_city",
         "type": "\"string\""
        },
        {
         "metadata": "{}",
         "name": "seller_state",
         "type": "\"string\""
        },
        {
         "metadata": "{}",
         "name": "total_price",
         "type": "\"double\""
        },
        {
         "metadata": "{}",
         "name": "delivery_time",
         "type": "\"long\""
        },
        {
         "metadata": "{}",
         "name": "payment_count",
         "type": "\"double\""
        },
        {
         "metadata": "{}",
         "name": "profit_margin",
         "type": "\"double\""
        }
       ],
       "type": "table"
      }
     },
     "output_type": "display_data"
    }
   ],
   "source": [
    "#1. Total Price: Sum of product price and freight value. \n",
    "order_items_data_cleaned['total_price'] = order_items_data_cleaned['price'] + order_items_data_cleaned['freight_value']\n",
    "\n",
    "display(order_items_data_cleaned.head())"
   ]
  },
  {
   "cell_type": "code",
   "execution_count": 0,
   "metadata": {
    "application/vnd.databricks.v1+cell": {
     "cellMetadata": {
      "byteLimit": 2048000,
      "rowLimit": 10000
     },
     "inputWidgets": {},
     "nuid": "5857c929-dda4-41f1-8b99-e78911131661",
     "showTitle": false,
     "title": ""
    }
   },
   "outputs": [
    {
     "output_type": "display_data",
     "data": {
      "text/html": [
       "<style scoped>\n",
       "  .table-result-container {\n",
       "    max-height: 300px;\n",
       "    overflow: auto;\n",
       "  }\n",
       "  table, th, td {\n",
       "    border: 1px solid black;\n",
       "    border-collapse: collapse;\n",
       "  }\n",
       "  th, td {\n",
       "    padding: 5px;\n",
       "  }\n",
       "  th {\n",
       "    text-align: left;\n",
       "  }\n",
       "</style><div class='table-result-container'><table class='table-result'><thead style='background-color: white'><tr><th>order_id</th><th>order_item_id</th><th>product_id</th><th>seller_id</th><th>shipping_limit_date</th><th>price</th><th>freight_value</th><th>customer_id</th><th>order_status</th><th>order_purchase_timestamp</th><th>order_approved_at</th><th>order_delivered_carrier_date</th><th>order_delivered_customer_date</th><th>order_estimated_delivery_date</th><th>product_category_name</th><th>product_name_length</th><th>product_description_length</th><th>product_photos_qty</th><th>product_weight_g</th><th>product_length_cm</th><th>product_height_cm</th><th>product_width_cm</th><th>product_category_name_english</th><th>seller_zip_code_prefix</th><th>seller_city</th><th>seller_state</th><th>total_price</th><th>delivery_time</th><th>payment_count</th><th>profit_margin</th></tr></thead><tbody><tr><td>00010242fe8c5a6d1ba2dd792cb16214</td><td>1</td><td>4244733e06e7ecb4970a6e2683c13e61</td><td>48436dade18ac8b2bce089ec2a041202</td><td>2017-09-19 09:45:35</td><td>58.9</td><td>13.29</td><td>3ce436f183e68e07877b285a838db11a</td><td>delivered</td><td>2017-09-13T08:59:02Z</td><td>2017-09-13 09:45:35</td><td>2017-09-19 18:34:16</td><td>2017-09-20T23:43:48Z</td><td>2017-09-29</td><td>cool_stuff</td><td>58.0</td><td>598.0</td><td>4.0</td><td>650.0</td><td>28.0</td><td>9.0</td><td>14.0</td><td>cool_stuff</td><td>27277</td><td>Volta Redonda</td><td>SP</td><td>72.19</td><td>7</td><td>2.0</td><td>45.61</td></tr><tr><td>00018f77f2f0320c557190d7a144bdd3</td><td>1</td><td>e5f2d52b802189ee658865ca93d83a8f</td><td>dd7ddc04e1b6c2c614352b383efe2d36</td><td>2017-05-03 11:05:13</td><td>239.9</td><td>19.93</td><td>f6dd3ec061db4e3987629fe6b26e5cce</td><td>delivered</td><td>2017-04-26T10:53:06Z</td><td>2017-04-26 11:05:13</td><td>2017-05-04 14:35:00</td><td>2017-05-12T16:04:24Z</td><td>2017-05-15</td><td>pet_shop</td><td>56.0</td><td>239.0</td><td>2.0</td><td>30000.0</td><td>50.0</td><td>30.0</td><td>40.0</td><td>pet_shop</td><td>3471</td><td>Sao Paulo</td><td>SP</td><td>259.83</td><td>16</td><td>3.0</td><td>219.97</td></tr><tr><td>000229ec398224ef6ca0657da4fc703e</td><td>1</td><td>c777355d18b72b67abbeef9df44fd0fd</td><td>5b51032eddd242adc84c38acab88f23d</td><td>2018-01-18 14:48:30</td><td>199.0</td><td>17.87</td><td>6489ae5e4333f3693df5ad4372dab6d3</td><td>delivered</td><td>2018-01-14T14:33:31Z</td><td>2018-01-14 14:48:30</td><td>2018-01-16 12:36:48</td><td>2018-01-22T13:19:16Z</td><td>2018-02-05</td><td>moveis_decoracao</td><td>59.0</td><td>695.0</td><td>2.0</td><td>3050.0</td><td>33.0</td><td>13.0</td><td>33.0</td><td>furniture_decor</td><td>37564</td><td>Borda Da Mata</td><td>MG</td><td>216.87</td><td>7</td><td>5.0</td><td>181.13</td></tr><tr><td>00024acbcdf0a6daa1e931b038114c75</td><td>1</td><td>7634da152a4610f1595efa32f14722fc</td><td>9d7a1d34a5052409006425275ba1c2b4</td><td>2018-08-15 10:10:18</td><td>12.99</td><td>12.79</td><td>d4eb9395c8c0431ee92fce09860c5a06</td><td>delivered</td><td>2018-08-08T10:00:35Z</td><td>2018-08-08 10:10:18</td><td>2018-08-10 13:28:00</td><td>2018-08-14T13:32:39Z</td><td>2018-08-20</td><td>perfumaria</td><td>42.0</td><td>480.0</td><td>1.0</td><td>200.0</td><td>16.0</td><td>10.0</td><td>15.0</td><td>perfumery</td><td>14403</td><td>Franca</td><td>SP</td><td>25.78</td><td>6</td><td>2.0</td><td>0.200000000000001</td></tr><tr><td>00042b26cf59d7ce69dfabb4e55b4fd9</td><td>1</td><td>ac6c3623068f30de03045865e4e10089</td><td>df560393f3a51e74553ab94004ba5c87</td><td>2017-02-13 13:57:51</td><td>199.9</td><td>18.14</td><td>58dbd0b2d70206bf40e62cd34e84d795</td><td>delivered</td><td>2017-02-04T13:57:51Z</td><td>2017-02-04 14:10:13</td><td>2017-02-16 09:46:09</td><td>2017-03-01T16:42:31Z</td><td>2017-03-17</td><td>ferramentas_jardim</td><td>59.0</td><td>409.0</td><td>1.0</td><td>3750.0</td><td>35.0</td><td>40.0</td><td>30.0</td><td>garden_tools</td><td>87900</td><td>Loanda</td><td>PR</td><td>218.04000000000002</td><td>25</td><td>3.0</td><td>181.76</td></tr></tbody></table></div>"
      ]
     },
     "metadata": {
      "application/vnd.databricks.v1+output": {
       "addedWidgets": {},
       "aggData": [],
       "aggError": "",
       "aggOverflow": false,
       "aggSchema": [],
       "aggSeriesLimitReached": false,
       "aggType": "",
       "arguments": {},
       "columnCustomDisplayInfos": {},
       "data": [
        [
         "00010242fe8c5a6d1ba2dd792cb16214",
         1,
         "4244733e06e7ecb4970a6e2683c13e61",
         "48436dade18ac8b2bce089ec2a041202",
         "2017-09-19 09:45:35",
         58.9,
         13.29,
         "3ce436f183e68e07877b285a838db11a",
         "delivered",
         "2017-09-13T08:59:02Z",
         "2017-09-13 09:45:35",
         "2017-09-19 18:34:16",
         "2017-09-20T23:43:48Z",
         "2017-09-29",
         "cool_stuff",
         58.0,
         598.0,
         4.0,
         650.0,
         28.0,
         9.0,
         14.0,
         "cool_stuff",
         27277,
         "Volta Redonda",
         "SP",
         72.19,
         7,
         2.0,
         45.61
        ],
        [
         "00018f77f2f0320c557190d7a144bdd3",
         1,
         "e5f2d52b802189ee658865ca93d83a8f",
         "dd7ddc04e1b6c2c614352b383efe2d36",
         "2017-05-03 11:05:13",
         239.9,
         19.93,
         "f6dd3ec061db4e3987629fe6b26e5cce",
         "delivered",
         "2017-04-26T10:53:06Z",
         "2017-04-26 11:05:13",
         "2017-05-04 14:35:00",
         "2017-05-12T16:04:24Z",
         "2017-05-15",
         "pet_shop",
         56.0,
         239.0,
         2.0,
         30000.0,
         50.0,
         30.0,
         40.0,
         "pet_shop",
         3471,
         "Sao Paulo",
         "SP",
         259.83,
         16,
         3.0,
         219.97
        ],
        [
         "000229ec398224ef6ca0657da4fc703e",
         1,
         "c777355d18b72b67abbeef9df44fd0fd",
         "5b51032eddd242adc84c38acab88f23d",
         "2018-01-18 14:48:30",
         199.0,
         17.87,
         "6489ae5e4333f3693df5ad4372dab6d3",
         "delivered",
         "2018-01-14T14:33:31Z",
         "2018-01-14 14:48:30",
         "2018-01-16 12:36:48",
         "2018-01-22T13:19:16Z",
         "2018-02-05",
         "moveis_decoracao",
         59.0,
         695.0,
         2.0,
         3050.0,
         33.0,
         13.0,
         33.0,
         "furniture_decor",
         37564,
         "Borda Da Mata",
         "MG",
         216.87,
         7,
         5.0,
         181.13
        ],
        [
         "00024acbcdf0a6daa1e931b038114c75",
         1,
         "7634da152a4610f1595efa32f14722fc",
         "9d7a1d34a5052409006425275ba1c2b4",
         "2018-08-15 10:10:18",
         12.99,
         12.79,
         "d4eb9395c8c0431ee92fce09860c5a06",
         "delivered",
         "2018-08-08T10:00:35Z",
         "2018-08-08 10:10:18",
         "2018-08-10 13:28:00",
         "2018-08-14T13:32:39Z",
         "2018-08-20",
         "perfumaria",
         42.0,
         480.0,
         1.0,
         200.0,
         16.0,
         10.0,
         15.0,
         "perfumery",
         14403,
         "Franca",
         "SP",
         25.78,
         6,
         2.0,
         0.200000000000001
        ],
        [
         "00042b26cf59d7ce69dfabb4e55b4fd9",
         1,
         "ac6c3623068f30de03045865e4e10089",
         "df560393f3a51e74553ab94004ba5c87",
         "2017-02-13 13:57:51",
         199.9,
         18.14,
         "58dbd0b2d70206bf40e62cd34e84d795",
         "delivered",
         "2017-02-04T13:57:51Z",
         "2017-02-04 14:10:13",
         "2017-02-16 09:46:09",
         "2017-03-01T16:42:31Z",
         "2017-03-17",
         "ferramentas_jardim",
         59.0,
         409.0,
         1.0,
         3750.0,
         35.0,
         40.0,
         30.0,
         "garden_tools",
         87900,
         "Loanda",
         "PR",
         218.04000000000002,
         25,
         3.0,
         181.76
        ]
       ],
       "datasetInfos": [],
       "dbfsResultPath": null,
       "isJsonSchema": true,
       "metadata": {},
       "overflow": false,
       "plotOptions": {
        "customPlotOptions": {},
        "displayType": "table",
        "pivotAggregation": null,
        "pivotColumns": null,
        "xColumns": null,
        "yColumns": null
       },
       "removedWidgets": [],
       "schema": [
        {
         "metadata": "{}",
         "name": "order_id",
         "type": "\"string\""
        },
        {
         "metadata": "{}",
         "name": "order_item_id",
         "type": "\"long\""
        },
        {
         "metadata": "{}",
         "name": "product_id",
         "type": "\"string\""
        },
        {
         "metadata": "{}",
         "name": "seller_id",
         "type": "\"string\""
        },
        {
         "metadata": "{}",
         "name": "shipping_limit_date",
         "type": "\"string\""
        },
        {
         "metadata": "{}",
         "name": "price",
         "type": "\"double\""
        },
        {
         "metadata": "{}",
         "name": "freight_value",
         "type": "\"double\""
        },
        {
         "metadata": "{}",
         "name": "customer_id",
         "type": "\"string\""
        },
        {
         "metadata": "{}",
         "name": "order_status",
         "type": "\"string\""
        },
        {
         "metadata": "{}",
         "name": "order_purchase_timestamp",
         "type": "\"timestamp\""
        },
        {
         "metadata": "{}",
         "name": "order_approved_at",
         "type": "\"string\""
        },
        {
         "metadata": "{}",
         "name": "order_delivered_carrier_date",
         "type": "\"string\""
        },
        {
         "metadata": "{}",
         "name": "order_delivered_customer_date",
         "type": "\"timestamp\""
        },
        {
         "metadata": "{}",
         "name": "order_estimated_delivery_date",
         "type": "\"string\""
        },
        {
         "metadata": "{}",
         "name": "product_category_name",
         "type": "\"string\""
        },
        {
         "metadata": "{}",
         "name": "product_name_length",
         "type": "\"double\""
        },
        {
         "metadata": "{}",
         "name": "product_description_length",
         "type": "\"double\""
        },
        {
         "metadata": "{}",
         "name": "product_photos_qty",
         "type": "\"double\""
        },
        {
         "metadata": "{}",
         "name": "product_weight_g",
         "type": "\"double\""
        },
        {
         "metadata": "{}",
         "name": "product_length_cm",
         "type": "\"double\""
        },
        {
         "metadata": "{}",
         "name": "product_height_cm",
         "type": "\"double\""
        },
        {
         "metadata": "{}",
         "name": "product_width_cm",
         "type": "\"double\""
        },
        {
         "metadata": "{}",
         "name": "product_category_name_english",
         "type": "\"string\""
        },
        {
         "metadata": "{}",
         "name": "seller_zip_code_prefix",
         "type": "\"long\""
        },
        {
         "metadata": "{}",
         "name": "seller_city",
         "type": "\"string\""
        },
        {
         "metadata": "{}",
         "name": "seller_state",
         "type": "\"string\""
        },
        {
         "metadata": "{}",
         "name": "total_price",
         "type": "\"double\""
        },
        {
         "metadata": "{}",
         "name": "delivery_time",
         "type": "\"long\""
        },
        {
         "metadata": "{}",
         "name": "payment_count",
         "type": "\"double\""
        },
        {
         "metadata": "{}",
         "name": "profit_margin",
         "type": "\"double\""
        }
       ],
       "type": "table"
      }
     },
     "output_type": "display_data"
    }
   ],
   "source": [
    "#2. Delivery Time: Difference between the delivery date and the order purchase date.\n",
    "\n",
    "# Converting columns to datetime\n",
    "order_items_data_cleaned['order_delivered_customer_date'] = pd.to_datetime(order_items_data_cleaned['order_delivered_customer_date'])\n",
    "order_items_data_cleaned['order_purchase_timestamp'] = pd.to_datetime(order_items_data_cleaned['order_purchase_timestamp'])\n",
    "\n",
    "# Calculating delivery time\n",
    "order_items_data_cleaned['delivery_time'] = (\n",
    "    order_items_data_cleaned['order_delivered_customer_date'] - \n",
    "    order_items_data_cleaned['order_purchase_timestamp']\n",
    ").dt.days\n",
    "\n",
    "display(order_items_data_cleaned.head())"
   ]
  },
  {
   "cell_type": "code",
   "execution_count": 0,
   "metadata": {
    "application/vnd.databricks.v1+cell": {
     "cellMetadata": {
      "byteLimit": 2048000,
      "rowLimit": 10000
     },
     "inputWidgets": {},
     "nuid": "b26773cd-cae2-4318-8c09-88e295ef2be2",
     "showTitle": false,
     "title": ""
    }
   },
   "outputs": [
    {
     "output_type": "display_data",
     "data": {
      "text/html": [
       "<style scoped>\n",
       "  .table-result-container {\n",
       "    max-height: 300px;\n",
       "    overflow: auto;\n",
       "  }\n",
       "  table, th, td {\n",
       "    border: 1px solid black;\n",
       "    border-collapse: collapse;\n",
       "  }\n",
       "  th, td {\n",
       "    padding: 5px;\n",
       "  }\n",
       "  th {\n",
       "    text-align: left;\n",
       "  }\n",
       "</style><div class='table-result-container'><table class='table-result'><thead style='background-color: white'><tr><th>order_id</th><th>order_item_id</th><th>product_id</th><th>seller_id</th><th>shipping_limit_date</th><th>price</th><th>freight_value</th><th>customer_id</th><th>order_status</th><th>order_purchase_timestamp</th><th>order_approved_at</th><th>order_delivered_carrier_date</th><th>order_delivered_customer_date</th><th>order_estimated_delivery_date</th><th>product_category_name</th><th>product_name_length</th><th>product_description_length</th><th>product_photos_qty</th><th>product_weight_g</th><th>product_length_cm</th><th>product_height_cm</th><th>product_width_cm</th><th>product_category_name_english</th><th>seller_zip_code_prefix</th><th>seller_city</th><th>seller_state</th><th>total_price</th><th>delivery_time</th><th>payment_count</th><th>profit_margin</th></tr></thead><tbody><tr><td>00010242fe8c5a6d1ba2dd792cb16214</td><td>1</td><td>4244733e06e7ecb4970a6e2683c13e61</td><td>48436dade18ac8b2bce089ec2a041202</td><td>2017-09-19 09:45:35</td><td>58.9</td><td>13.29</td><td>3ce436f183e68e07877b285a838db11a</td><td>delivered</td><td>2017-09-13T08:59:02Z</td><td>2017-09-13 09:45:35</td><td>2017-09-19 18:34:16</td><td>2017-09-20T23:43:48Z</td><td>2017-09-29</td><td>cool_stuff</td><td>58.0</td><td>598.0</td><td>4.0</td><td>650.0</td><td>28.0</td><td>9.0</td><td>14.0</td><td>cool_stuff</td><td>27277</td><td>Volta Redonda</td><td>SP</td><td>72.19</td><td>7</td><td>2.0</td><td>45.61</td></tr><tr><td>00018f77f2f0320c557190d7a144bdd3</td><td>1</td><td>e5f2d52b802189ee658865ca93d83a8f</td><td>dd7ddc04e1b6c2c614352b383efe2d36</td><td>2017-05-03 11:05:13</td><td>239.9</td><td>19.93</td><td>f6dd3ec061db4e3987629fe6b26e5cce</td><td>delivered</td><td>2017-04-26T10:53:06Z</td><td>2017-04-26 11:05:13</td><td>2017-05-04 14:35:00</td><td>2017-05-12T16:04:24Z</td><td>2017-05-15</td><td>pet_shop</td><td>56.0</td><td>239.0</td><td>2.0</td><td>30000.0</td><td>50.0</td><td>30.0</td><td>40.0</td><td>pet_shop</td><td>3471</td><td>Sao Paulo</td><td>SP</td><td>259.83</td><td>16</td><td>3.0</td><td>219.97</td></tr><tr><td>000229ec398224ef6ca0657da4fc703e</td><td>1</td><td>c777355d18b72b67abbeef9df44fd0fd</td><td>5b51032eddd242adc84c38acab88f23d</td><td>2018-01-18 14:48:30</td><td>199.0</td><td>17.87</td><td>6489ae5e4333f3693df5ad4372dab6d3</td><td>delivered</td><td>2018-01-14T14:33:31Z</td><td>2018-01-14 14:48:30</td><td>2018-01-16 12:36:48</td><td>2018-01-22T13:19:16Z</td><td>2018-02-05</td><td>moveis_decoracao</td><td>59.0</td><td>695.0</td><td>2.0</td><td>3050.0</td><td>33.0</td><td>13.0</td><td>33.0</td><td>furniture_decor</td><td>37564</td><td>Borda Da Mata</td><td>MG</td><td>216.87</td><td>7</td><td>5.0</td><td>181.13</td></tr><tr><td>00024acbcdf0a6daa1e931b038114c75</td><td>1</td><td>7634da152a4610f1595efa32f14722fc</td><td>9d7a1d34a5052409006425275ba1c2b4</td><td>2018-08-15 10:10:18</td><td>12.99</td><td>12.79</td><td>d4eb9395c8c0431ee92fce09860c5a06</td><td>delivered</td><td>2018-08-08T10:00:35Z</td><td>2018-08-08 10:10:18</td><td>2018-08-10 13:28:00</td><td>2018-08-14T13:32:39Z</td><td>2018-08-20</td><td>perfumaria</td><td>42.0</td><td>480.0</td><td>1.0</td><td>200.0</td><td>16.0</td><td>10.0</td><td>15.0</td><td>perfumery</td><td>14403</td><td>Franca</td><td>SP</td><td>25.78</td><td>6</td><td>2.0</td><td>0.200000000000001</td></tr><tr><td>00042b26cf59d7ce69dfabb4e55b4fd9</td><td>1</td><td>ac6c3623068f30de03045865e4e10089</td><td>df560393f3a51e74553ab94004ba5c87</td><td>2017-02-13 13:57:51</td><td>199.9</td><td>18.14</td><td>58dbd0b2d70206bf40e62cd34e84d795</td><td>delivered</td><td>2017-02-04T13:57:51Z</td><td>2017-02-04 14:10:13</td><td>2017-02-16 09:46:09</td><td>2017-03-01T16:42:31Z</td><td>2017-03-17</td><td>ferramentas_jardim</td><td>59.0</td><td>409.0</td><td>1.0</td><td>3750.0</td><td>35.0</td><td>40.0</td><td>30.0</td><td>garden_tools</td><td>87900</td><td>Loanda</td><td>PR</td><td>218.04000000000002</td><td>25</td><td>3.0</td><td>181.76</td></tr></tbody></table></div>"
      ]
     },
     "metadata": {
      "application/vnd.databricks.v1+output": {
       "addedWidgets": {},
       "aggData": [],
       "aggError": "",
       "aggOverflow": false,
       "aggSchema": [],
       "aggSeriesLimitReached": false,
       "aggType": "",
       "arguments": {},
       "columnCustomDisplayInfos": {},
       "data": [
        [
         "00010242fe8c5a6d1ba2dd792cb16214",
         1,
         "4244733e06e7ecb4970a6e2683c13e61",
         "48436dade18ac8b2bce089ec2a041202",
         "2017-09-19 09:45:35",
         58.9,
         13.29,
         "3ce436f183e68e07877b285a838db11a",
         "delivered",
         "2017-09-13T08:59:02Z",
         "2017-09-13 09:45:35",
         "2017-09-19 18:34:16",
         "2017-09-20T23:43:48Z",
         "2017-09-29",
         "cool_stuff",
         58.0,
         598.0,
         4.0,
         650.0,
         28.0,
         9.0,
         14.0,
         "cool_stuff",
         27277,
         "Volta Redonda",
         "SP",
         72.19,
         7,
         2.0,
         45.61
        ],
        [
         "00018f77f2f0320c557190d7a144bdd3",
         1,
         "e5f2d52b802189ee658865ca93d83a8f",
         "dd7ddc04e1b6c2c614352b383efe2d36",
         "2017-05-03 11:05:13",
         239.9,
         19.93,
         "f6dd3ec061db4e3987629fe6b26e5cce",
         "delivered",
         "2017-04-26T10:53:06Z",
         "2017-04-26 11:05:13",
         "2017-05-04 14:35:00",
         "2017-05-12T16:04:24Z",
         "2017-05-15",
         "pet_shop",
         56.0,
         239.0,
         2.0,
         30000.0,
         50.0,
         30.0,
         40.0,
         "pet_shop",
         3471,
         "Sao Paulo",
         "SP",
         259.83,
         16,
         3.0,
         219.97
        ],
        [
         "000229ec398224ef6ca0657da4fc703e",
         1,
         "c777355d18b72b67abbeef9df44fd0fd",
         "5b51032eddd242adc84c38acab88f23d",
         "2018-01-18 14:48:30",
         199.0,
         17.87,
         "6489ae5e4333f3693df5ad4372dab6d3",
         "delivered",
         "2018-01-14T14:33:31Z",
         "2018-01-14 14:48:30",
         "2018-01-16 12:36:48",
         "2018-01-22T13:19:16Z",
         "2018-02-05",
         "moveis_decoracao",
         59.0,
         695.0,
         2.0,
         3050.0,
         33.0,
         13.0,
         33.0,
         "furniture_decor",
         37564,
         "Borda Da Mata",
         "MG",
         216.87,
         7,
         5.0,
         181.13
        ],
        [
         "00024acbcdf0a6daa1e931b038114c75",
         1,
         "7634da152a4610f1595efa32f14722fc",
         "9d7a1d34a5052409006425275ba1c2b4",
         "2018-08-15 10:10:18",
         12.99,
         12.79,
         "d4eb9395c8c0431ee92fce09860c5a06",
         "delivered",
         "2018-08-08T10:00:35Z",
         "2018-08-08 10:10:18",
         "2018-08-10 13:28:00",
         "2018-08-14T13:32:39Z",
         "2018-08-20",
         "perfumaria",
         42.0,
         480.0,
         1.0,
         200.0,
         16.0,
         10.0,
         15.0,
         "perfumery",
         14403,
         "Franca",
         "SP",
         25.78,
         6,
         2.0,
         0.200000000000001
        ],
        [
         "00042b26cf59d7ce69dfabb4e55b4fd9",
         1,
         "ac6c3623068f30de03045865e4e10089",
         "df560393f3a51e74553ab94004ba5c87",
         "2017-02-13 13:57:51",
         199.9,
         18.14,
         "58dbd0b2d70206bf40e62cd34e84d795",
         "delivered",
         "2017-02-04T13:57:51Z",
         "2017-02-04 14:10:13",
         "2017-02-16 09:46:09",
         "2017-03-01T16:42:31Z",
         "2017-03-17",
         "ferramentas_jardim",
         59.0,
         409.0,
         1.0,
         3750.0,
         35.0,
         40.0,
         30.0,
         "garden_tools",
         87900,
         "Loanda",
         "PR",
         218.04000000000002,
         25,
         3.0,
         181.76
        ]
       ],
       "datasetInfos": [],
       "dbfsResultPath": null,
       "isJsonSchema": true,
       "metadata": {},
       "overflow": false,
       "plotOptions": {
        "customPlotOptions": {},
        "displayType": "table",
        "pivotAggregation": null,
        "pivotColumns": null,
        "xColumns": null,
        "yColumns": null
       },
       "removedWidgets": [],
       "schema": [
        {
         "metadata": "{}",
         "name": "order_id",
         "type": "\"string\""
        },
        {
         "metadata": "{}",
         "name": "order_item_id",
         "type": "\"long\""
        },
        {
         "metadata": "{}",
         "name": "product_id",
         "type": "\"string\""
        },
        {
         "metadata": "{}",
         "name": "seller_id",
         "type": "\"string\""
        },
        {
         "metadata": "{}",
         "name": "shipping_limit_date",
         "type": "\"string\""
        },
        {
         "metadata": "{}",
         "name": "price",
         "type": "\"double\""
        },
        {
         "metadata": "{}",
         "name": "freight_value",
         "type": "\"double\""
        },
        {
         "metadata": "{}",
         "name": "customer_id",
         "type": "\"string\""
        },
        {
         "metadata": "{}",
         "name": "order_status",
         "type": "\"string\""
        },
        {
         "metadata": "{}",
         "name": "order_purchase_timestamp",
         "type": "\"timestamp\""
        },
        {
         "metadata": "{}",
         "name": "order_approved_at",
         "type": "\"string\""
        },
        {
         "metadata": "{}",
         "name": "order_delivered_carrier_date",
         "type": "\"string\""
        },
        {
         "metadata": "{}",
         "name": "order_delivered_customer_date",
         "type": "\"timestamp\""
        },
        {
         "metadata": "{}",
         "name": "order_estimated_delivery_date",
         "type": "\"string\""
        },
        {
         "metadata": "{}",
         "name": "product_category_name",
         "type": "\"string\""
        },
        {
         "metadata": "{}",
         "name": "product_name_length",
         "type": "\"double\""
        },
        {
         "metadata": "{}",
         "name": "product_description_length",
         "type": "\"double\""
        },
        {
         "metadata": "{}",
         "name": "product_photos_qty",
         "type": "\"double\""
        },
        {
         "metadata": "{}",
         "name": "product_weight_g",
         "type": "\"double\""
        },
        {
         "metadata": "{}",
         "name": "product_length_cm",
         "type": "\"double\""
        },
        {
         "metadata": "{}",
         "name": "product_height_cm",
         "type": "\"double\""
        },
        {
         "metadata": "{}",
         "name": "product_width_cm",
         "type": "\"double\""
        },
        {
         "metadata": "{}",
         "name": "product_category_name_english",
         "type": "\"string\""
        },
        {
         "metadata": "{}",
         "name": "seller_zip_code_prefix",
         "type": "\"long\""
        },
        {
         "metadata": "{}",
         "name": "seller_city",
         "type": "\"string\""
        },
        {
         "metadata": "{}",
         "name": "seller_state",
         "type": "\"string\""
        },
        {
         "metadata": "{}",
         "name": "total_price",
         "type": "\"double\""
        },
        {
         "metadata": "{}",
         "name": "delivery_time",
         "type": "\"long\""
        },
        {
         "metadata": "{}",
         "name": "payment_count",
         "type": "\"double\""
        },
        {
         "metadata": "{}",
         "name": "profit_margin",
         "type": "\"double\""
        }
       ],
       "type": "table"
      }
     },
     "output_type": "display_data"
    }
   ],
   "source": [
    "#3. Payment Count: Sum of payment installments for each order.\n",
    "\n",
    "# Getting the sum of 'order_id' and 'payment_installments' from the payments data\n",
    "payment_installments_sum = order_payments_data_cleaned.groupby('order_id')['payment_installments'].sum().reset_index()\n",
    "\n",
    "# Merging this into order_items_cleaned_fin\n",
    "order_items_data_cleaned = pd.merge(order_items_data_cleaned, payment_installments_sum, on='order_id', how='left')\n",
    "\n",
    "# Renaming column to 'payment_count'\n",
    "order_items_data_cleaned.rename(columns={'payment_installments': 'payment_count'}, inplace=True)\n",
    "\n",
    "# Remove duplicate columns\n",
    "order_items_data_cleaned = order_items_data_cleaned.loc[:, ~order_items_data_cleaned.columns.duplicated()]\n",
    "\n",
    "display(order_items_data_cleaned.head())\n"
   ]
  },
  {
   "cell_type": "code",
   "execution_count": 0,
   "metadata": {
    "application/vnd.databricks.v1+cell": {
     "cellMetadata": {
      "byteLimit": 2048000,
      "rowLimit": 10000
     },
     "inputWidgets": {},
     "nuid": "351cb659-e646-461e-985b-27e6e2220d97",
     "showTitle": false,
     "title": ""
    }
   },
   "outputs": [
    {
     "output_type": "display_data",
     "data": {
      "text/html": [
       "<style scoped>\n",
       "  .table-result-container {\n",
       "    max-height: 300px;\n",
       "    overflow: auto;\n",
       "  }\n",
       "  table, th, td {\n",
       "    border: 1px solid black;\n",
       "    border-collapse: collapse;\n",
       "  }\n",
       "  th, td {\n",
       "    padding: 5px;\n",
       "  }\n",
       "  th {\n",
       "    text-align: left;\n",
       "  }\n",
       "</style><div class='table-result-container'><table class='table-result'><thead style='background-color: white'><tr><th>order_id</th><th>order_item_id</th><th>product_id</th><th>seller_id</th><th>shipping_limit_date</th><th>price</th><th>freight_value</th><th>customer_id</th><th>order_status</th><th>order_purchase_timestamp</th><th>order_approved_at</th><th>order_delivered_carrier_date</th><th>order_delivered_customer_date</th><th>order_estimated_delivery_date</th><th>product_category_name</th><th>product_name_length</th><th>product_description_length</th><th>product_photos_qty</th><th>product_weight_g</th><th>product_length_cm</th><th>product_height_cm</th><th>product_width_cm</th><th>product_category_name_english</th><th>seller_zip_code_prefix</th><th>seller_city</th><th>seller_state</th><th>total_price</th><th>delivery_time</th><th>payment_count</th><th>profit_margin</th></tr></thead><tbody><tr><td>00010242fe8c5a6d1ba2dd792cb16214</td><td>1</td><td>4244733e06e7ecb4970a6e2683c13e61</td><td>48436dade18ac8b2bce089ec2a041202</td><td>2017-09-19 09:45:35</td><td>58.9</td><td>13.29</td><td>3ce436f183e68e07877b285a838db11a</td><td>delivered</td><td>2017-09-13T08:59:02Z</td><td>2017-09-13 09:45:35</td><td>2017-09-19 18:34:16</td><td>2017-09-20T23:43:48Z</td><td>2017-09-29</td><td>cool_stuff</td><td>58.0</td><td>598.0</td><td>4.0</td><td>650.0</td><td>28.0</td><td>9.0</td><td>14.0</td><td>cool_stuff</td><td>27277</td><td>Volta Redonda</td><td>SP</td><td>72.19</td><td>7</td><td>2.0</td><td>45.61</td></tr><tr><td>00018f77f2f0320c557190d7a144bdd3</td><td>1</td><td>e5f2d52b802189ee658865ca93d83a8f</td><td>dd7ddc04e1b6c2c614352b383efe2d36</td><td>2017-05-03 11:05:13</td><td>239.9</td><td>19.93</td><td>f6dd3ec061db4e3987629fe6b26e5cce</td><td>delivered</td><td>2017-04-26T10:53:06Z</td><td>2017-04-26 11:05:13</td><td>2017-05-04 14:35:00</td><td>2017-05-12T16:04:24Z</td><td>2017-05-15</td><td>pet_shop</td><td>56.0</td><td>239.0</td><td>2.0</td><td>30000.0</td><td>50.0</td><td>30.0</td><td>40.0</td><td>pet_shop</td><td>3471</td><td>Sao Paulo</td><td>SP</td><td>259.83</td><td>16</td><td>3.0</td><td>219.97</td></tr><tr><td>000229ec398224ef6ca0657da4fc703e</td><td>1</td><td>c777355d18b72b67abbeef9df44fd0fd</td><td>5b51032eddd242adc84c38acab88f23d</td><td>2018-01-18 14:48:30</td><td>199.0</td><td>17.87</td><td>6489ae5e4333f3693df5ad4372dab6d3</td><td>delivered</td><td>2018-01-14T14:33:31Z</td><td>2018-01-14 14:48:30</td><td>2018-01-16 12:36:48</td><td>2018-01-22T13:19:16Z</td><td>2018-02-05</td><td>moveis_decoracao</td><td>59.0</td><td>695.0</td><td>2.0</td><td>3050.0</td><td>33.0</td><td>13.0</td><td>33.0</td><td>furniture_decor</td><td>37564</td><td>Borda Da Mata</td><td>MG</td><td>216.87</td><td>7</td><td>5.0</td><td>181.13</td></tr><tr><td>00024acbcdf0a6daa1e931b038114c75</td><td>1</td><td>7634da152a4610f1595efa32f14722fc</td><td>9d7a1d34a5052409006425275ba1c2b4</td><td>2018-08-15 10:10:18</td><td>12.99</td><td>12.79</td><td>d4eb9395c8c0431ee92fce09860c5a06</td><td>delivered</td><td>2018-08-08T10:00:35Z</td><td>2018-08-08 10:10:18</td><td>2018-08-10 13:28:00</td><td>2018-08-14T13:32:39Z</td><td>2018-08-20</td><td>perfumaria</td><td>42.0</td><td>480.0</td><td>1.0</td><td>200.0</td><td>16.0</td><td>10.0</td><td>15.0</td><td>perfumery</td><td>14403</td><td>Franca</td><td>SP</td><td>25.78</td><td>6</td><td>2.0</td><td>0.20000000000000107</td></tr><tr><td>00042b26cf59d7ce69dfabb4e55b4fd9</td><td>1</td><td>ac6c3623068f30de03045865e4e10089</td><td>df560393f3a51e74553ab94004ba5c87</td><td>2017-02-13 13:57:51</td><td>199.9</td><td>18.14</td><td>58dbd0b2d70206bf40e62cd34e84d795</td><td>delivered</td><td>2017-02-04T13:57:51Z</td><td>2017-02-04 14:10:13</td><td>2017-02-16 09:46:09</td><td>2017-03-01T16:42:31Z</td><td>2017-03-17</td><td>ferramentas_jardim</td><td>59.0</td><td>409.0</td><td>1.0</td><td>3750.0</td><td>35.0</td><td>40.0</td><td>30.0</td><td>garden_tools</td><td>87900</td><td>Loanda</td><td>PR</td><td>218.04000000000002</td><td>25</td><td>3.0</td><td>181.76</td></tr></tbody></table></div>"
      ]
     },
     "metadata": {
      "application/vnd.databricks.v1+output": {
       "addedWidgets": {},
       "aggData": [],
       "aggError": "",
       "aggOverflow": false,
       "aggSchema": [],
       "aggSeriesLimitReached": false,
       "aggType": "",
       "arguments": {},
       "columnCustomDisplayInfos": {},
       "data": [
        [
         "00010242fe8c5a6d1ba2dd792cb16214",
         1,
         "4244733e06e7ecb4970a6e2683c13e61",
         "48436dade18ac8b2bce089ec2a041202",
         "2017-09-19 09:45:35",
         58.9,
         13.29,
         "3ce436f183e68e07877b285a838db11a",
         "delivered",
         "2017-09-13T08:59:02Z",
         "2017-09-13 09:45:35",
         "2017-09-19 18:34:16",
         "2017-09-20T23:43:48Z",
         "2017-09-29",
         "cool_stuff",
         58.0,
         598.0,
         4.0,
         650.0,
         28.0,
         9.0,
         14.0,
         "cool_stuff",
         27277,
         "Volta Redonda",
         "SP",
         72.19,
         7,
         2.0,
         45.61
        ],
        [
         "00018f77f2f0320c557190d7a144bdd3",
         1,
         "e5f2d52b802189ee658865ca93d83a8f",
         "dd7ddc04e1b6c2c614352b383efe2d36",
         "2017-05-03 11:05:13",
         239.9,
         19.93,
         "f6dd3ec061db4e3987629fe6b26e5cce",
         "delivered",
         "2017-04-26T10:53:06Z",
         "2017-04-26 11:05:13",
         "2017-05-04 14:35:00",
         "2017-05-12T16:04:24Z",
         "2017-05-15",
         "pet_shop",
         56.0,
         239.0,
         2.0,
         30000.0,
         50.0,
         30.0,
         40.0,
         "pet_shop",
         3471,
         "Sao Paulo",
         "SP",
         259.83,
         16,
         3.0,
         219.97
        ],
        [
         "000229ec398224ef6ca0657da4fc703e",
         1,
         "c777355d18b72b67abbeef9df44fd0fd",
         "5b51032eddd242adc84c38acab88f23d",
         "2018-01-18 14:48:30",
         199.0,
         17.87,
         "6489ae5e4333f3693df5ad4372dab6d3",
         "delivered",
         "2018-01-14T14:33:31Z",
         "2018-01-14 14:48:30",
         "2018-01-16 12:36:48",
         "2018-01-22T13:19:16Z",
         "2018-02-05",
         "moveis_decoracao",
         59.0,
         695.0,
         2.0,
         3050.0,
         33.0,
         13.0,
         33.0,
         "furniture_decor",
         37564,
         "Borda Da Mata",
         "MG",
         216.87,
         7,
         5.0,
         181.13
        ],
        [
         "00024acbcdf0a6daa1e931b038114c75",
         1,
         "7634da152a4610f1595efa32f14722fc",
         "9d7a1d34a5052409006425275ba1c2b4",
         "2018-08-15 10:10:18",
         12.99,
         12.79,
         "d4eb9395c8c0431ee92fce09860c5a06",
         "delivered",
         "2018-08-08T10:00:35Z",
         "2018-08-08 10:10:18",
         "2018-08-10 13:28:00",
         "2018-08-14T13:32:39Z",
         "2018-08-20",
         "perfumaria",
         42.0,
         480.0,
         1.0,
         200.0,
         16.0,
         10.0,
         15.0,
         "perfumery",
         14403,
         "Franca",
         "SP",
         25.78,
         6,
         2.0,
         0.20000000000000107
        ],
        [
         "00042b26cf59d7ce69dfabb4e55b4fd9",
         1,
         "ac6c3623068f30de03045865e4e10089",
         "df560393f3a51e74553ab94004ba5c87",
         "2017-02-13 13:57:51",
         199.9,
         18.14,
         "58dbd0b2d70206bf40e62cd34e84d795",
         "delivered",
         "2017-02-04T13:57:51Z",
         "2017-02-04 14:10:13",
         "2017-02-16 09:46:09",
         "2017-03-01T16:42:31Z",
         "2017-03-17",
         "ferramentas_jardim",
         59.0,
         409.0,
         1.0,
         3750.0,
         35.0,
         40.0,
         30.0,
         "garden_tools",
         87900,
         "Loanda",
         "PR",
         218.04000000000002,
         25,
         3.0,
         181.76
        ]
       ],
       "datasetInfos": [],
       "dbfsResultPath": null,
       "isJsonSchema": true,
       "metadata": {},
       "overflow": false,
       "plotOptions": {
        "customPlotOptions": {},
        "displayType": "table",
        "pivotAggregation": null,
        "pivotColumns": null,
        "xColumns": null,
        "yColumns": null
       },
       "removedWidgets": [],
       "schema": [
        {
         "metadata": "{}",
         "name": "order_id",
         "type": "\"string\""
        },
        {
         "metadata": "{}",
         "name": "order_item_id",
         "type": "\"long\""
        },
        {
         "metadata": "{}",
         "name": "product_id",
         "type": "\"string\""
        },
        {
         "metadata": "{}",
         "name": "seller_id",
         "type": "\"string\""
        },
        {
         "metadata": "{}",
         "name": "shipping_limit_date",
         "type": "\"string\""
        },
        {
         "metadata": "{}",
         "name": "price",
         "type": "\"double\""
        },
        {
         "metadata": "{}",
         "name": "freight_value",
         "type": "\"double\""
        },
        {
         "metadata": "{}",
         "name": "customer_id",
         "type": "\"string\""
        },
        {
         "metadata": "{}",
         "name": "order_status",
         "type": "\"string\""
        },
        {
         "metadata": "{}",
         "name": "order_purchase_timestamp",
         "type": "\"timestamp\""
        },
        {
         "metadata": "{}",
         "name": "order_approved_at",
         "type": "\"string\""
        },
        {
         "metadata": "{}",
         "name": "order_delivered_carrier_date",
         "type": "\"string\""
        },
        {
         "metadata": "{}",
         "name": "order_delivered_customer_date",
         "type": "\"timestamp\""
        },
        {
         "metadata": "{}",
         "name": "order_estimated_delivery_date",
         "type": "\"string\""
        },
        {
         "metadata": "{}",
         "name": "product_category_name",
         "type": "\"string\""
        },
        {
         "metadata": "{}",
         "name": "product_name_length",
         "type": "\"double\""
        },
        {
         "metadata": "{}",
         "name": "product_description_length",
         "type": "\"double\""
        },
        {
         "metadata": "{}",
         "name": "product_photos_qty",
         "type": "\"double\""
        },
        {
         "metadata": "{}",
         "name": "product_weight_g",
         "type": "\"double\""
        },
        {
         "metadata": "{}",
         "name": "product_length_cm",
         "type": "\"double\""
        },
        {
         "metadata": "{}",
         "name": "product_height_cm",
         "type": "\"double\""
        },
        {
         "metadata": "{}",
         "name": "product_width_cm",
         "type": "\"double\""
        },
        {
         "metadata": "{}",
         "name": "product_category_name_english",
         "type": "\"string\""
        },
        {
         "metadata": "{}",
         "name": "seller_zip_code_prefix",
         "type": "\"long\""
        },
        {
         "metadata": "{}",
         "name": "seller_city",
         "type": "\"string\""
        },
        {
         "metadata": "{}",
         "name": "seller_state",
         "type": "\"string\""
        },
        {
         "metadata": "{}",
         "name": "total_price",
         "type": "\"double\""
        },
        {
         "metadata": "{}",
         "name": "delivery_time",
         "type": "\"long\""
        },
        {
         "metadata": "{}",
         "name": "payment_count",
         "type": "\"double\""
        },
        {
         "metadata": "{}",
         "name": "profit_margin",
         "type": "\"double\""
        }
       ],
       "type": "table"
      }
     },
     "output_type": "display_data"
    }
   ],
   "source": [
    "#4. Profit Margin: Subtract freight value from product price to calculate a rough profit estimate.\n",
    "\n",
    "order_items_data_cleaned['profit_margin'] = order_items_data_cleaned['price'] - order_items_data_cleaned['freight_value']\n",
    "\n",
    "display(order_items_data_cleaned.head())\n"
   ]
  },
  {
   "cell_type": "code",
   "execution_count": 0,
   "metadata": {
    "application/vnd.databricks.v1+cell": {
     "cellMetadata": {
      "byteLimit": 2048000,
      "rowLimit": 10000
     },
     "inputWidgets": {},
     "nuid": "77951797-cb79-4e72-8b84-afcb34af2ad9",
     "showTitle": false,
     "title": ""
    }
   },
   "outputs": [],
   "source": [
    "# Save the cleaned order items data to a CSV file\n",
    "order_items_data_cleaned.to_csv('order_items_data_cleaned.csv', index=False) "
   ]
  }
 ],
 "metadata": {
  "application/vnd.databricks.v1+notebook": {
   "dashboards": [],
   "environmentMetadata": null,
   "language": "python",
   "notebookMetadata": {
    "pythonIndentUnit": 4
   },
   "notebookName": "4.2 Creating Calculated Columns",
   "widgets": {}
  }
 },
 "nbformat": 4,
 "nbformat_minor": 0
}
