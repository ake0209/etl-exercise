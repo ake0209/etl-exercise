{
 "cells": [
  {
   "cell_type": "markdown",
   "metadata": {
    "application/vnd.databricks.v1+cell": {
     "cellMetadata": {
      "byteLimit": 2048000,
      "rowLimit": 10000
     },
     "inputWidgets": {},
     "nuid": "7112f76e-0269-4025-8fdb-3c1872480ab8",
     "showTitle": false,
     "title": ""
    }
   },
   "source": [
    "## DATA PREPARATION\n",
    "## "
   ]
  },
  {
   "cell_type": "markdown",
   "metadata": {
    "application/vnd.databricks.v1+cell": {
     "cellMetadata": {
      "byteLimit": 2048000,
      "rowLimit": 10000
     },
     "inputWidgets": {},
     "nuid": "c163588e-2412-422b-abb6-9cf402a701c9",
     "showTitle": false,
     "title": ""
    }
   },
   "source": [
    "1. Importing pandas library"
   ]
  },
  {
   "cell_type": "code",
   "execution_count": 0,
   "metadata": {
    "application/vnd.databricks.v1+cell": {
     "cellMetadata": {
      "byteLimit": 2048000,
      "rowLimit": 10000
     },
     "inputWidgets": {},
     "nuid": "9abd85cd-2c0d-4e17-9260-baa2de70f174",
     "showTitle": false,
     "title": ""
    }
   },
   "outputs": [
    {
     "output_type": "stream",
     "name": "stdout",
     "output_type": "stream",
     "text": [
      "\u001B[43mNote: you may need to restart the kernel using %restart_python or dbutils.library.restartPython() to use updated packages.\u001B[0m\nRequirement already satisfied: pandas in /databricks/python3/lib/python3.11/site-packages (1.5.3)\nRequirement already satisfied: python-dateutil>=2.8.1 in /databricks/python3/lib/python3.11/site-packages (from pandas) (2.8.2)\nRequirement already satisfied: pytz>=2020.1 in /databricks/python3/lib/python3.11/site-packages (from pandas) (2022.7)\nRequirement already satisfied: numpy>=1.21.0 in /databricks/python3/lib/python3.11/site-packages (from pandas) (1.23.5)\nRequirement already satisfied: six>=1.5 in /usr/lib/python3/dist-packages (from python-dateutil>=2.8.1->pandas) (1.16.0)\n\u001B[43mNote: you may need to restart the kernel using %restart_python or dbutils.library.restartPython() to use updated packages.\u001B[0m\n"
     ]
    }
   ],
   "source": [
    "!pip install pandas\n",
    "import pandas as pd"
   ]
  },
  {
   "cell_type": "markdown",
   "metadata": {
    "application/vnd.databricks.v1+cell": {
     "cellMetadata": {
      "byteLimit": 2048000,
      "rowLimit": 10000
     },
     "inputWidgets": {},
     "nuid": "9af46758-aa88-4a03-8e87-31eb7069e596",
     "showTitle": false,
     "title": ""
    }
   },
   "source": [
    "2. Setting display options"
   ]
  },
  {
   "cell_type": "code",
   "execution_count": 0,
   "metadata": {
    "application/vnd.databricks.v1+cell": {
     "cellMetadata": {
      "byteLimit": 2048000,
      "rowLimit": 10000
     },
     "inputWidgets": {},
     "nuid": "e9296554-0efb-4c59-af22-f15e6c03d39e",
     "showTitle": false,
     "title": ""
    }
   },
   "outputs": [],
   "source": [
    "pd.set_option('display.max_rows', 10000)  #max rows to display\n",
    "pd.set_option('display.max_columns', None)  #display all columns\n",
    "pd.set_option('display.width', 1000)  #setting width to avoid text wrapping"
   ]
  },
  {
   "cell_type": "markdown",
   "metadata": {
    "application/vnd.databricks.v1+cell": {
     "cellMetadata": {
      "byteLimit": 2048000,
      "rowLimit": 10000
     },
     "inputWidgets": {},
     "nuid": "64b6574a-4ef0-463f-acbd-5f15eab9888c",
     "showTitle": false,
     "title": ""
    }
   },
   "source": [
    "3. Loading each Olist dataset from CSV files "
   ]
  },
  {
   "cell_type": "code",
   "execution_count": 0,
   "metadata": {
    "application/vnd.databricks.v1+cell": {
     "cellMetadata": {
      "byteLimit": 2048000,
      "rowLimit": 10000
     },
     "inputWidgets": {},
     "nuid": "1b258323-bc86-4f87-9543-68056bc11641",
     "showTitle": false,
     "title": ""
    }
   },
   "outputs": [],
   "source": [
    "customers_data = pd.read_csv('/dbfs/mnt/datalakenew1/folder1/olist_customers_dataset.csv')\n",
    "geolocation_data = pd.read_csv('/dbfs/mnt/datalakenew1/folder1/olist_geolocation_dataset.csv')\n",
    "order_items_data = pd.read_csv('/dbfs/mnt/datalakenew1/folder1/olist_order_items_dataset.csv')\n",
    "order_payments_data = pd.read_csv('/dbfs/mnt/datalakenew1/folder1/olist_order_payments_dataset.csv')\n",
    "order_reviews_data = pd.read_csv('/dbfs/mnt/datalakenew1/folder1/olist_order_reviews_dataset.csv')\n",
    "orders_data = pd.read_csv('/dbfs/mnt/datalakenew1/folder1/olist_orders_dataset.csv')\n",
    "products_data = pd.read_csv('/dbfs/mnt/datalakenew1/folder1/olist_products_dataset.csv')\n",
    "sellers_data = pd.read_csv('/dbfs/mnt/datalakenew1/folder1/olist_sellers_dataset.csv')\n",
    "prod_name_translation_data = pd.read_csv('/dbfs/mnt/datalakenew1/folder1/product_category_name_translation.csv')"
   ]
  },
  {
   "cell_type": "markdown",
   "metadata": {
    "application/vnd.databricks.v1+cell": {
     "cellMetadata": {
      "byteLimit": 2048000,
      "rowLimit": 10000
     },
     "inputWidgets": {},
     "nuid": "be0afdb4-9075-4bdd-a06f-5002ce17eaf7",
     "showTitle": false,
     "title": ""
    }
   },
   "source": [
    "4. Creating a function to inspect each dataset"
   ]
  },
  {
   "cell_type": "code",
   "execution_count": 0,
   "metadata": {
    "application/vnd.databricks.v1+cell": {
     "cellMetadata": {
      "byteLimit": 2048000,
      "rowLimit": 10000
     },
     "inputWidgets": {},
     "nuid": "8a81f285-63b0-47d9-afc3-72258648701c",
     "showTitle": false,
     "title": ""
    }
   },
   "outputs": [],
   "source": [
    "def inspect_data(df, df_name):\n",
    "    print(f\"\\nInspecting {df_name}:\")\n",
    "    print(df.info())\n",
    "    print(df.describe())\n",
    "    print(f\"Number of missing values per column in {df_name}:\\n{df.isna().sum()}\")\n",
    "    print(f\"Number of duplicate rows in {df_name}: {df.duplicated().sum()}\\n\")"
   ]
  },
  {
   "cell_type": "code",
   "execution_count": 0,
   "metadata": {
    "application/vnd.databricks.v1+cell": {
     "cellMetadata": {
      "byteLimit": 2048000,
      "rowLimit": 10000
     },
     "inputWidgets": {},
     "nuid": "ade04bb8-e0b7-4244-b773-b33892eceee2",
     "showTitle": false,
     "title": ""
    }
   },
   "outputs": [],
   "source": [
    "def inspect_data(df, df_name):\n",
    "    print(f\"\\nInspecting {df_name}:\")\n",
    "\n",
    "    print(\"First 10 Rows:\")\n",
    "    display(df.head(10))  # first 10 rows of the dataframe\n",
    "\n",
    "    print(\"Basic Information:\")\n",
    "    display(df.info())  # basic information about the dataframe\n",
    "\n",
    "    print(\"Basic Statistics:\")\n",
    "    print(df.describe(datetime_is_numeric=True)) # descriptive statistics for numerical columns\n",
    "\n",
    "    print(\"Missing Values:\")\n",
    "    display(df.isnull().sum())  #missing values count for each column\n",
    "\n",
    "    print(\"Duplicate Rows:\")\n",
    "    display(df.duplicated().sum())  #count of duplicate rows\n",
    "\n",
    "    for column in df.select_dtypes(include=['object']).columns:\n",
    "        print(f\"Value Counts for {column}:\")\n",
    "        display(df[column].value_counts().head(10))  # Displaying top 10 value counts for each categorical column\n",
    "\n",
    "    print(\"-\" * 80)  # Separator line for better readability\n"
   ]
  },
  {
   "cell_type": "markdown",
   "metadata": {
    "application/vnd.databricks.v1+cell": {
     "cellMetadata": {
      "byteLimit": 2048000,
      "rowLimit": 10000
     },
     "inputWidgets": {},
     "nuid": "c31c6524-e761-4399-88c1-51fca76866e2",
     "showTitle": false,
     "title": ""
    }
   },
   "source": [
    "5. Insepcting, Cleaning & Transforming Each Dataset"
   ]
  },
  {
   "cell_type": "markdown",
   "metadata": {
    "application/vnd.databricks.v1+cell": {
     "cellMetadata": {
      "byteLimit": 2048000,
      "rowLimit": 10000
     },
     "inputWidgets": {},
     "nuid": "d054d6ea-d846-41ec-aaa4-1cd77cface03",
     "showTitle": false,
     "title": ""
    }
   },
   "source": [
    "    5.1. Customers Dataset"
   ]
  },
  {
   "cell_type": "code",
   "execution_count": 0,
   "metadata": {
    "application/vnd.databricks.v1+cell": {
     "cellMetadata": {
      "byteLimit": 2048000,
      "rowLimit": 10000
     },
     "inputWidgets": {},
     "nuid": "0cb4b610-4bf6-4a80-a783-32fc699f3c26",
     "showTitle": false,
     "title": ""
    }
   },
   "outputs": [
    {
     "output_type": "stream",
     "name": "stdout",
     "output_type": "stream",
     "text": [
      "\nInspecting Customers:\nFirst 10 Rows:\n"
     ]
    },
    {
     "output_type": "display_data",
     "data": {
      "text/html": [
       "<style scoped>\n",
       "  .table-result-container {\n",
       "    max-height: 300px;\n",
       "    overflow: auto;\n",
       "  }\n",
       "  table, th, td {\n",
       "    border: 1px solid black;\n",
       "    border-collapse: collapse;\n",
       "  }\n",
       "  th, td {\n",
       "    padding: 5px;\n",
       "  }\n",
       "  th {\n",
       "    text-align: left;\n",
       "  }\n",
       "</style><div class='table-result-container'><table class='table-result'><thead style='background-color: white'><tr><th>customer_id</th><th>customer_unique_id</th><th>customer_zip_code_prefix</th><th>customer_city</th><th>customer_state</th></tr></thead><tbody><tr><td>06b8999e2fba1a1fbc88172c00ba8bc7</td><td>861eff4711a542e4b93843c6dd7febb0</td><td>14409</td><td>franca</td><td>SP</td></tr><tr><td>18955e83d337fd6b2def6b18a428ac77</td><td>290c77bc529b7ac935b93aa66c333dc3</td><td>9790</td><td>sao bernardo do campo</td><td>SP</td></tr><tr><td>4e7b3e00288586ebd08712fdd0374a03</td><td>060e732b5b29e8181a18229c7b0b2b5e</td><td>1151</td><td>sao paulo</td><td>SP</td></tr><tr><td>b2b6027bc5c5109e529d4dc6358b12c3</td><td>259dac757896d24d7702b9acbbff3f3c</td><td>8775</td><td>mogi das cruzes</td><td>SP</td></tr><tr><td>4f2d8ab171c80ec8364f7c12e35b23ad</td><td>345ecd01c38d18a9036ed96c73b8d066</td><td>13056</td><td>campinas</td><td>SP</td></tr><tr><td>879864dab9bc3047522c92c82e1212b8</td><td>4c93744516667ad3b8f1fb645a3116a4</td><td>89254</td><td>jaragua do sul</td><td>SC</td></tr><tr><td>fd826e7cf63160e536e0908c76c3f441</td><td>addec96d2e059c80c30fe6871d30d177</td><td>4534</td><td>sao paulo</td><td>SP</td></tr><tr><td>5e274e7a0c3809e14aba7ad5aae0d407</td><td>57b2a98a409812fe9618067b6b8ebe4f</td><td>35182</td><td>timoteo</td><td>MG</td></tr><tr><td>5adf08e34b2e993982a47070956c5c65</td><td>1175e95fb47ddff9de6b2b06188f7e0d</td><td>81560</td><td>curitiba</td><td>PR</td></tr><tr><td>4b7139f34592b3a31687243a302fa75b</td><td>9afe194fb833f79e300e37e580171f22</td><td>30575</td><td>belo horizonte</td><td>MG</td></tr></tbody></table></div>"
      ]
     },
     "metadata": {
      "application/vnd.databricks.v1+output": {
       "addedWidgets": {},
       "aggData": [],
       "aggError": "",
       "aggOverflow": false,
       "aggSchema": [],
       "aggSeriesLimitReached": false,
       "aggType": "",
       "arguments": {},
       "columnCustomDisplayInfos": {},
       "data": [
        [
         "06b8999e2fba1a1fbc88172c00ba8bc7",
         "861eff4711a542e4b93843c6dd7febb0",
         14409,
         "franca",
         "SP"
        ],
        [
         "18955e83d337fd6b2def6b18a428ac77",
         "290c77bc529b7ac935b93aa66c333dc3",
         9790,
         "sao bernardo do campo",
         "SP"
        ],
        [
         "4e7b3e00288586ebd08712fdd0374a03",
         "060e732b5b29e8181a18229c7b0b2b5e",
         1151,
         "sao paulo",
         "SP"
        ],
        [
         "b2b6027bc5c5109e529d4dc6358b12c3",
         "259dac757896d24d7702b9acbbff3f3c",
         8775,
         "mogi das cruzes",
         "SP"
        ],
        [
         "4f2d8ab171c80ec8364f7c12e35b23ad",
         "345ecd01c38d18a9036ed96c73b8d066",
         13056,
         "campinas",
         "SP"
        ],
        [
         "879864dab9bc3047522c92c82e1212b8",
         "4c93744516667ad3b8f1fb645a3116a4",
         89254,
         "jaragua do sul",
         "SC"
        ],
        [
         "fd826e7cf63160e536e0908c76c3f441",
         "addec96d2e059c80c30fe6871d30d177",
         4534,
         "sao paulo",
         "SP"
        ],
        [
         "5e274e7a0c3809e14aba7ad5aae0d407",
         "57b2a98a409812fe9618067b6b8ebe4f",
         35182,
         "timoteo",
         "MG"
        ],
        [
         "5adf08e34b2e993982a47070956c5c65",
         "1175e95fb47ddff9de6b2b06188f7e0d",
         81560,
         "curitiba",
         "PR"
        ],
        [
         "4b7139f34592b3a31687243a302fa75b",
         "9afe194fb833f79e300e37e580171f22",
         30575,
         "belo horizonte",
         "MG"
        ]
       ],
       "datasetInfos": [],
       "dbfsResultPath": null,
       "isJsonSchema": true,
       "metadata": {},
       "overflow": false,
       "plotOptions": {
        "customPlotOptions": {},
        "displayType": "table",
        "pivotAggregation": null,
        "pivotColumns": null,
        "xColumns": null,
        "yColumns": null
       },
       "removedWidgets": [],
       "schema": [
        {
         "metadata": "{}",
         "name": "customer_id",
         "type": "\"string\""
        },
        {
         "metadata": "{}",
         "name": "customer_unique_id",
         "type": "\"string\""
        },
        {
         "metadata": "{}",
         "name": "customer_zip_code_prefix",
         "type": "\"long\""
        },
        {
         "metadata": "{}",
         "name": "customer_city",
         "type": "\"string\""
        },
        {
         "metadata": "{}",
         "name": "customer_state",
         "type": "\"string\""
        }
       ],
       "type": "table"
      }
     },
     "output_type": "display_data"
    },
    {
     "output_type": "stream",
     "name": "stdout",
     "output_type": "stream",
     "text": [
      "Basic Information:\n<class 'pandas.core.frame.DataFrame'>\nRangeIndex: 99441 entries, 0 to 99440\nData columns (total 5 columns):\n #   Column                    Non-Null Count  Dtype \n---  ------                    --------------  ----- \n 0   customer_id               99441 non-null  object\n 1   customer_unique_id        99441 non-null  object\n 2   customer_zip_code_prefix  99441 non-null  int64 \n 3   customer_city             99441 non-null  object\n 4   customer_state            99441 non-null  object\ndtypes: int64(1), object(4)\nmemory usage: 3.8+ MB\nBasic Statistics:\n       customer_zip_code_prefix\ncount              99441.000000\nmean               35137.474583\nstd                29797.938996\nmin                 1003.000000\n25%                11347.000000\n50%                24416.000000\n75%                58900.000000\nmax                99990.000000\nMissing Values:\n"
     ]
    },
    {
     "output_type": "display_data",
     "data": {
      "text/plain": [
       "customer_id                 0\n",
       "customer_unique_id          0\n",
       "customer_zip_code_prefix    0\n",
       "customer_city               0\n",
       "customer_state              0\n",
       "dtype: int64"
      ]
     },
     "metadata": {},
     "output_type": "display_data"
    },
    {
     "output_type": "stream",
     "name": "stdout",
     "output_type": "stream",
     "text": [
      "Duplicate Rows:\n"
     ]
    },
    {
     "output_type": "display_data",
     "data": {
      "text/plain": [
       "0"
      ]
     },
     "metadata": {},
     "output_type": "display_data"
    },
    {
     "output_type": "stream",
     "name": "stdout",
     "output_type": "stream",
     "text": [
      "Value Counts for customer_id:\n"
     ]
    },
    {
     "output_type": "display_data",
     "data": {
      "text/plain": [
       "06b8999e2fba1a1fbc88172c00ba8bc7    1\n",
       "c023f30c1147aeb0358474f3b1dbc707    1\n",
       "b5cbf43f42281920a175fc99650c91d6    1\n",
       "19f4e983f8f05b7de16670f8a0cf0ac7    1\n",
       "229ac14c6ee6d6a606264ebcc861beb7    1\n",
       "8cd118ecfb9703463ef9670b1d18a26e    1\n",
       "8b7369c82ac3d8d71b77d5b23b085696    1\n",
       "4b7decb9b58e2569548b8b4c8e20e8d7    1\n",
       "a30378a29ac174b9a1a158ce067e1fd2    1\n",
       "1d99b48c0fe6d0bc50feebecdc88cbc2    1\n",
       "Name: customer_id, dtype: int64"
      ]
     },
     "metadata": {},
     "output_type": "display_data"
    },
    {
     "output_type": "stream",
     "name": "stdout",
     "output_type": "stream",
     "text": [
      "Value Counts for customer_unique_id:\n"
     ]
    },
    {
     "output_type": "display_data",
     "data": {
      "text/plain": [
       "8d50f5eadf50201ccdcedfb9e2ac8455    17\n",
       "3e43e6105506432c953e165fb2acf44c     9\n",
       "1b6c7548a2a1f9037c1fd3ddfed95f33     7\n",
       "ca77025e7201e3b30c44b472ff346268     7\n",
       "6469f99c1f9dfae7733b25662e7f1782     7\n",
       "63cfc61cee11cbe306bff5857d00bfe4     6\n",
       "47c1a3033b8b77b3ab6e109eb4d5fdf3     6\n",
       "12f5d6e1cbf93dafd9dcc19095df0b3d     6\n",
       "de34b16117594161a6a89c50b289d35a     6\n",
       "dc813062e0fc23409cd255f7f53c7074     6\n",
       "Name: customer_unique_id, dtype: int64"
      ]
     },
     "metadata": {},
     "output_type": "display_data"
    },
    {
     "output_type": "stream",
     "name": "stdout",
     "output_type": "stream",
     "text": [
      "Value Counts for customer_city:\n"
     ]
    },
    {
     "output_type": "display_data",
     "data": {
      "text/plain": [
       "sao paulo                15540\n",
       "rio de janeiro            6882\n",
       "belo horizonte            2773\n",
       "brasilia                  2131\n",
       "curitiba                  1521\n",
       "campinas                  1444\n",
       "porto alegre              1379\n",
       "salvador                  1245\n",
       "guarulhos                 1189\n",
       "sao bernardo do campo      938\n",
       "Name: customer_city, dtype: int64"
      ]
     },
     "metadata": {},
     "output_type": "display_data"
    },
    {
     "output_type": "stream",
     "name": "stdout",
     "output_type": "stream",
     "text": [
      "Value Counts for customer_state:\n"
     ]
    },
    {
     "output_type": "display_data",
     "data": {
      "text/plain": [
       "SP    41746\n",
       "RJ    12852\n",
       "MG    11635\n",
       "RS     5466\n",
       "PR     5045\n",
       "SC     3637\n",
       "BA     3380\n",
       "DF     2140\n",
       "ES     2033\n",
       "GO     2020\n",
       "Name: customer_state, dtype: int64"
      ]
     },
     "metadata": {},
     "output_type": "display_data"
    },
    {
     "output_type": "stream",
     "name": "stdout",
     "output_type": "stream",
     "text": [
      "--------------------------------------------------------------------------------\n"
     ]
    }
   ],
   "source": [
    "inspect_data(customers_data, 'Customers')"
   ]
  },
  {
   "cell_type": "markdown",
   "metadata": {
    "application/vnd.databricks.v1+cell": {
     "cellMetadata": {
      "byteLimit": 2048000,
      "rowLimit": 10000
     },
     "inputWidgets": {},
     "nuid": "38d5b438-d8f9-47d1-9767-6be9394add31",
     "showTitle": false,
     "title": ""
    }
   },
   "source": [
    "    Insepction summary:\n",
    "      - No missing values.\n",
    "      - No duplicate rows.\n",
    "      - Data types are appropriate\n",
    "    One customer_unique_id may appear more than one time, but as I'm keeping this transaction based I won't remove duplicates \n",
    "\n",
    "    Checks and transformations applied:\n",
    "      1. Standardizing city names \n"
   ]
  },
  {
   "cell_type": "code",
   "execution_count": 0,
   "metadata": {
    "application/vnd.databricks.v1+cell": {
     "cellMetadata": {
      "byteLimit": 2048000,
      "rowLimit": 10000
     },
     "inputWidgets": {},
     "nuid": "2db685fc-c0d8-4f9a-a59c-2b98ace64f23",
     "showTitle": false,
     "title": ""
    }
   },
   "outputs": [
    {
     "output_type": "stream",
     "name": "stdout",
     "output_type": "stream",
     "text": [
      "\nInspecting Customers_Cleaned:\nFirst 10 Rows:\n"
     ]
    },
    {
     "output_type": "display_data",
     "data": {
      "text/html": [
       "<style scoped>\n",
       "  .table-result-container {\n",
       "    max-height: 300px;\n",
       "    overflow: auto;\n",
       "  }\n",
       "  table, th, td {\n",
       "    border: 1px solid black;\n",
       "    border-collapse: collapse;\n",
       "  }\n",
       "  th, td {\n",
       "    padding: 5px;\n",
       "  }\n",
       "  th {\n",
       "    text-align: left;\n",
       "  }\n",
       "</style><div class='table-result-container'><table class='table-result'><thead style='background-color: white'><tr><th>customer_id</th><th>customer_unique_id</th><th>customer_zip_code_prefix</th><th>customer_city</th><th>customer_state</th></tr></thead><tbody><tr><td>06b8999e2fba1a1fbc88172c00ba8bc7</td><td>861eff4711a542e4b93843c6dd7febb0</td><td>14409</td><td>Franca</td><td>SP</td></tr><tr><td>18955e83d337fd6b2def6b18a428ac77</td><td>290c77bc529b7ac935b93aa66c333dc3</td><td>9790</td><td>Sao Bernardo Do Campo</td><td>SP</td></tr><tr><td>4e7b3e00288586ebd08712fdd0374a03</td><td>060e732b5b29e8181a18229c7b0b2b5e</td><td>1151</td><td>Sao Paulo</td><td>SP</td></tr><tr><td>b2b6027bc5c5109e529d4dc6358b12c3</td><td>259dac757896d24d7702b9acbbff3f3c</td><td>8775</td><td>Mogi Das Cruzes</td><td>SP</td></tr><tr><td>4f2d8ab171c80ec8364f7c12e35b23ad</td><td>345ecd01c38d18a9036ed96c73b8d066</td><td>13056</td><td>Campinas</td><td>SP</td></tr><tr><td>879864dab9bc3047522c92c82e1212b8</td><td>4c93744516667ad3b8f1fb645a3116a4</td><td>89254</td><td>Jaragua Do Sul</td><td>SC</td></tr><tr><td>fd826e7cf63160e536e0908c76c3f441</td><td>addec96d2e059c80c30fe6871d30d177</td><td>4534</td><td>Sao Paulo</td><td>SP</td></tr><tr><td>5e274e7a0c3809e14aba7ad5aae0d407</td><td>57b2a98a409812fe9618067b6b8ebe4f</td><td>35182</td><td>Timoteo</td><td>MG</td></tr><tr><td>5adf08e34b2e993982a47070956c5c65</td><td>1175e95fb47ddff9de6b2b06188f7e0d</td><td>81560</td><td>Curitiba</td><td>PR</td></tr><tr><td>4b7139f34592b3a31687243a302fa75b</td><td>9afe194fb833f79e300e37e580171f22</td><td>30575</td><td>Belo Horizonte</td><td>MG</td></tr></tbody></table></div>"
      ]
     },
     "metadata": {
      "application/vnd.databricks.v1+output": {
       "addedWidgets": {},
       "aggData": [],
       "aggError": "",
       "aggOverflow": false,
       "aggSchema": [],
       "aggSeriesLimitReached": false,
       "aggType": "",
       "arguments": {},
       "columnCustomDisplayInfos": {},
       "data": [
        [
         "06b8999e2fba1a1fbc88172c00ba8bc7",
         "861eff4711a542e4b93843c6dd7febb0",
         14409,
         "Franca",
         "SP"
        ],
        [
         "18955e83d337fd6b2def6b18a428ac77",
         "290c77bc529b7ac935b93aa66c333dc3",
         9790,
         "Sao Bernardo Do Campo",
         "SP"
        ],
        [
         "4e7b3e00288586ebd08712fdd0374a03",
         "060e732b5b29e8181a18229c7b0b2b5e",
         1151,
         "Sao Paulo",
         "SP"
        ],
        [
         "b2b6027bc5c5109e529d4dc6358b12c3",
         "259dac757896d24d7702b9acbbff3f3c",
         8775,
         "Mogi Das Cruzes",
         "SP"
        ],
        [
         "4f2d8ab171c80ec8364f7c12e35b23ad",
         "345ecd01c38d18a9036ed96c73b8d066",
         13056,
         "Campinas",
         "SP"
        ],
        [
         "879864dab9bc3047522c92c82e1212b8",
         "4c93744516667ad3b8f1fb645a3116a4",
         89254,
         "Jaragua Do Sul",
         "SC"
        ],
        [
         "fd826e7cf63160e536e0908c76c3f441",
         "addec96d2e059c80c30fe6871d30d177",
         4534,
         "Sao Paulo",
         "SP"
        ],
        [
         "5e274e7a0c3809e14aba7ad5aae0d407",
         "57b2a98a409812fe9618067b6b8ebe4f",
         35182,
         "Timoteo",
         "MG"
        ],
        [
         "5adf08e34b2e993982a47070956c5c65",
         "1175e95fb47ddff9de6b2b06188f7e0d",
         81560,
         "Curitiba",
         "PR"
        ],
        [
         "4b7139f34592b3a31687243a302fa75b",
         "9afe194fb833f79e300e37e580171f22",
         30575,
         "Belo Horizonte",
         "MG"
        ]
       ],
       "datasetInfos": [],
       "dbfsResultPath": null,
       "isJsonSchema": true,
       "metadata": {},
       "overflow": false,
       "plotOptions": {
        "customPlotOptions": {},
        "displayType": "table",
        "pivotAggregation": null,
        "pivotColumns": null,
        "xColumns": null,
        "yColumns": null
       },
       "removedWidgets": [],
       "schema": [
        {
         "metadata": "{}",
         "name": "customer_id",
         "type": "\"string\""
        },
        {
         "metadata": "{}",
         "name": "customer_unique_id",
         "type": "\"string\""
        },
        {
         "metadata": "{}",
         "name": "customer_zip_code_prefix",
         "type": "\"long\""
        },
        {
         "metadata": "{}",
         "name": "customer_city",
         "type": "\"string\""
        },
        {
         "metadata": "{}",
         "name": "customer_state",
         "type": "\"string\""
        }
       ],
       "type": "table"
      }
     },
     "output_type": "display_data"
    },
    {
     "output_type": "stream",
     "name": "stdout",
     "output_type": "stream",
     "text": [
      "Basic Information:\n<class 'pandas.core.frame.DataFrame'>\nRangeIndex: 99441 entries, 0 to 99440\nData columns (total 5 columns):\n #   Column                    Non-Null Count  Dtype \n---  ------                    --------------  ----- \n 0   customer_id               99441 non-null  object\n 1   customer_unique_id        99441 non-null  object\n 2   customer_zip_code_prefix  99441 non-null  int64 \n 3   customer_city             99441 non-null  object\n 4   customer_state            99441 non-null  object\ndtypes: int64(1), object(4)\nmemory usage: 3.8+ MB\nBasic Statistics:\n       customer_zip_code_prefix\ncount              99441.000000\nmean               35137.474583\nstd                29797.938996\nmin                 1003.000000\n25%                11347.000000\n50%                24416.000000\n75%                58900.000000\nmax                99990.000000\nMissing Values:\n"
     ]
    },
    {
     "output_type": "display_data",
     "data": {
      "text/plain": [
       "customer_id                 0\n",
       "customer_unique_id          0\n",
       "customer_zip_code_prefix    0\n",
       "customer_city               0\n",
       "customer_state              0\n",
       "dtype: int64"
      ]
     },
     "metadata": {},
     "output_type": "display_data"
    },
    {
     "output_type": "stream",
     "name": "stdout",
     "output_type": "stream",
     "text": [
      "Duplicate Rows:\n"
     ]
    },
    {
     "output_type": "display_data",
     "data": {
      "text/plain": [
       "0"
      ]
     },
     "metadata": {},
     "output_type": "display_data"
    },
    {
     "output_type": "stream",
     "name": "stdout",
     "output_type": "stream",
     "text": [
      "Value Counts for customer_id:\n"
     ]
    },
    {
     "output_type": "display_data",
     "data": {
      "text/plain": [
       "06b8999e2fba1a1fbc88172c00ba8bc7    1\n",
       "c023f30c1147aeb0358474f3b1dbc707    1\n",
       "b5cbf43f42281920a175fc99650c91d6    1\n",
       "19f4e983f8f05b7de16670f8a0cf0ac7    1\n",
       "229ac14c6ee6d6a606264ebcc861beb7    1\n",
       "8cd118ecfb9703463ef9670b1d18a26e    1\n",
       "8b7369c82ac3d8d71b77d5b23b085696    1\n",
       "4b7decb9b58e2569548b8b4c8e20e8d7    1\n",
       "a30378a29ac174b9a1a158ce067e1fd2    1\n",
       "1d99b48c0fe6d0bc50feebecdc88cbc2    1\n",
       "Name: customer_id, dtype: int64"
      ]
     },
     "metadata": {},
     "output_type": "display_data"
    },
    {
     "output_type": "stream",
     "name": "stdout",
     "output_type": "stream",
     "text": [
      "Value Counts for customer_unique_id:\n"
     ]
    },
    {
     "output_type": "display_data",
     "data": {
      "text/plain": [
       "8d50f5eadf50201ccdcedfb9e2ac8455    17\n",
       "3e43e6105506432c953e165fb2acf44c     9\n",
       "1b6c7548a2a1f9037c1fd3ddfed95f33     7\n",
       "ca77025e7201e3b30c44b472ff346268     7\n",
       "6469f99c1f9dfae7733b25662e7f1782     7\n",
       "63cfc61cee11cbe306bff5857d00bfe4     6\n",
       "47c1a3033b8b77b3ab6e109eb4d5fdf3     6\n",
       "12f5d6e1cbf93dafd9dcc19095df0b3d     6\n",
       "de34b16117594161a6a89c50b289d35a     6\n",
       "dc813062e0fc23409cd255f7f53c7074     6\n",
       "Name: customer_unique_id, dtype: int64"
      ]
     },
     "metadata": {},
     "output_type": "display_data"
    },
    {
     "output_type": "stream",
     "name": "stdout",
     "output_type": "stream",
     "text": [
      "Value Counts for customer_city:\n"
     ]
    },
    {
     "output_type": "display_data",
     "data": {
      "text/plain": [
       "Sao Paulo                15540\n",
       "Rio De Janeiro            6882\n",
       "Belo Horizonte            2773\n",
       "Brasilia                  2131\n",
       "Curitiba                  1521\n",
       "Campinas                  1444\n",
       "Porto Alegre              1379\n",
       "Salvador                  1245\n",
       "Guarulhos                 1189\n",
       "Sao Bernardo Do Campo      938\n",
       "Name: customer_city, dtype: int64"
      ]
     },
     "metadata": {},
     "output_type": "display_data"
    },
    {
     "output_type": "stream",
     "name": "stdout",
     "output_type": "stream",
     "text": [
      "Value Counts for customer_state:\n"
     ]
    },
    {
     "output_type": "display_data",
     "data": {
      "text/plain": [
       "SP    41746\n",
       "RJ    12852\n",
       "MG    11635\n",
       "RS     5466\n",
       "PR     5045\n",
       "SC     3637\n",
       "BA     3380\n",
       "DF     2140\n",
       "ES     2033\n",
       "GO     2020\n",
       "Name: customer_state, dtype: int64"
      ]
     },
     "metadata": {},
     "output_type": "display_data"
    },
    {
     "output_type": "stream",
     "name": "stdout",
     "output_type": "stream",
     "text": [
      "--------------------------------------------------------------------------------\n"
     ]
    }
   ],
   "source": [
    "customers_data_cleaned = customers_data.copy()  # Creating a copy of the original dataFrame\n",
    "customers_data_cleaned['customer_city'] = customers_data_cleaned['customer_city'].str.title()  # Standardizing the city names on the copied df\n",
    "\n",
    "inspect_data(customers_data_cleaned, 'Customers_Cleaned') #Insepect the cleaned dataset"
   ]
  },
  {
   "cell_type": "markdown",
   "metadata": {
    "application/vnd.databricks.v1+cell": {
     "cellMetadata": {
      "byteLimit": 2048000,
      "rowLimit": 10000
     },
     "inputWidgets": {},
     "nuid": "e5c3b179-f5cd-4c92-9633-cdb27c4fc376",
     "showTitle": false,
     "title": ""
    }
   },
   "source": [
    "    5.2. Orders Dataset"
   ]
  },
  {
   "cell_type": "code",
   "execution_count": 0,
   "metadata": {
    "application/vnd.databricks.v1+cell": {
     "cellMetadata": {
      "byteLimit": 2048000,
      "rowLimit": 10000
     },
     "inputWidgets": {},
     "nuid": "d083b558-93fe-4393-997b-b57a8207f31f",
     "showTitle": false,
     "title": ""
    }
   },
   "outputs": [
    {
     "output_type": "stream",
     "name": "stdout",
     "output_type": "stream",
     "text": [
      "\nInspecting Orders:\nFirst 10 Rows:\n"
     ]
    },
    {
     "output_type": "display_data",
     "data": {
      "text/html": [
       "<style scoped>\n",
       "  .table-result-container {\n",
       "    max-height: 300px;\n",
       "    overflow: auto;\n",
       "  }\n",
       "  table, th, td {\n",
       "    border: 1px solid black;\n",
       "    border-collapse: collapse;\n",
       "  }\n",
       "  th, td {\n",
       "    padding: 5px;\n",
       "  }\n",
       "  th {\n",
       "    text-align: left;\n",
       "  }\n",
       "</style><div class='table-result-container'><table class='table-result'><thead style='background-color: white'><tr><th>order_id</th><th>customer_id</th><th>order_status</th><th>order_purchase_timestamp</th><th>order_approved_at</th><th>order_delivered_carrier_date</th><th>order_delivered_customer_date</th><th>order_estimated_delivery_date</th></tr></thead><tbody><tr><td>e481f51cbdc54678b7cc49136f2d6af7</td><td>9ef432eb6251297304e76186b10a928d</td><td>delivered</td><td>2017-10-02 10:56:33</td><td>2017-10-02 11:07:15</td><td>2017-10-04 19:55:00</td><td>2017-10-10 21:25:13</td><td>2017-10-18 00:00:00</td></tr><tr><td>53cdb2fc8bc7dce0b6741e2150273451</td><td>b0830fb4747a6c6d20dea0b8c802d7ef</td><td>delivered</td><td>2018-07-24 20:41:37</td><td>2018-07-26 03:24:27</td><td>2018-07-26 14:31:00</td><td>2018-08-07 15:27:45</td><td>2018-08-13 00:00:00</td></tr><tr><td>47770eb9100c2d0c44946d9cf07ec65d</td><td>41ce2a54c0b03bf3443c3d931a367089</td><td>delivered</td><td>2018-08-08 08:38:49</td><td>2018-08-08 08:55:23</td><td>2018-08-08 13:50:00</td><td>2018-08-17 18:06:29</td><td>2018-09-04 00:00:00</td></tr><tr><td>949d5b44dbf5de918fe9c16f97b45f8a</td><td>f88197465ea7920adcdbec7375364d82</td><td>delivered</td><td>2017-11-18 19:28:06</td><td>2017-11-18 19:45:59</td><td>2017-11-22 13:39:59</td><td>2017-12-02 00:28:42</td><td>2017-12-15 00:00:00</td></tr><tr><td>ad21c59c0840e6cb83a9ceb5573f8159</td><td>8ab97904e6daea8866dbdbc4fb7aad2c</td><td>delivered</td><td>2018-02-13 21:18:39</td><td>2018-02-13 22:20:29</td><td>2018-02-14 19:46:34</td><td>2018-02-16 18:17:02</td><td>2018-02-26 00:00:00</td></tr><tr><td>a4591c265e18cb1dcee52889e2d8acc3</td><td>503740e9ca751ccdda7ba28e9ab8f608</td><td>delivered</td><td>2017-07-09 21:57:05</td><td>2017-07-09 22:10:13</td><td>2017-07-11 14:58:04</td><td>2017-07-26 10:57:55</td><td>2017-08-01 00:00:00</td></tr><tr><td>136cce7faa42fdb2cefd53fdc79a6098</td><td>ed0271e0b7da060a393796590e7b737a</td><td>invoiced</td><td>2017-04-11 12:22:08</td><td>2017-04-13 13:25:17</td><td>null</td><td>null</td><td>2017-05-09 00:00:00</td></tr><tr><td>6514b8ad8028c9f2cc2374ded245783f</td><td>9bdf08b4b3b52b5526ff42d37d47f222</td><td>delivered</td><td>2017-05-16 13:10:30</td><td>2017-05-16 13:22:11</td><td>2017-05-22 10:07:46</td><td>2017-05-26 12:55:51</td><td>2017-06-07 00:00:00</td></tr><tr><td>76c6e866289321a7c93b82b54852dc33</td><td>f54a9f0e6b351c431402b8461ea51999</td><td>delivered</td><td>2017-01-23 18:29:09</td><td>2017-01-25 02:50:47</td><td>2017-01-26 14:16:31</td><td>2017-02-02 14:08:10</td><td>2017-03-06 00:00:00</td></tr><tr><td>e69bfb5eb88e0ed6a785585b27e16dbf</td><td>31ad1d1b63eb9962463f764d4e6e0c9d</td><td>delivered</td><td>2017-07-29 11:55:02</td><td>2017-07-29 12:05:32</td><td>2017-08-10 19:45:24</td><td>2017-08-16 17:14:30</td><td>2017-08-23 00:00:00</td></tr></tbody></table></div>"
      ]
     },
     "metadata": {
      "application/vnd.databricks.v1+output": {
       "addedWidgets": {},
       "aggData": [],
       "aggError": "",
       "aggOverflow": false,
       "aggSchema": [],
       "aggSeriesLimitReached": false,
       "aggType": "",
       "arguments": {},
       "columnCustomDisplayInfos": {},
       "data": [
        [
         "e481f51cbdc54678b7cc49136f2d6af7",
         "9ef432eb6251297304e76186b10a928d",
         "delivered",
         "2017-10-02 10:56:33",
         "2017-10-02 11:07:15",
         "2017-10-04 19:55:00",
         "2017-10-10 21:25:13",
         "2017-10-18 00:00:00"
        ],
        [
         "53cdb2fc8bc7dce0b6741e2150273451",
         "b0830fb4747a6c6d20dea0b8c802d7ef",
         "delivered",
         "2018-07-24 20:41:37",
         "2018-07-26 03:24:27",
         "2018-07-26 14:31:00",
         "2018-08-07 15:27:45",
         "2018-08-13 00:00:00"
        ],
        [
         "47770eb9100c2d0c44946d9cf07ec65d",
         "41ce2a54c0b03bf3443c3d931a367089",
         "delivered",
         "2018-08-08 08:38:49",
         "2018-08-08 08:55:23",
         "2018-08-08 13:50:00",
         "2018-08-17 18:06:29",
         "2018-09-04 00:00:00"
        ],
        [
         "949d5b44dbf5de918fe9c16f97b45f8a",
         "f88197465ea7920adcdbec7375364d82",
         "delivered",
         "2017-11-18 19:28:06",
         "2017-11-18 19:45:59",
         "2017-11-22 13:39:59",
         "2017-12-02 00:28:42",
         "2017-12-15 00:00:00"
        ],
        [
         "ad21c59c0840e6cb83a9ceb5573f8159",
         "8ab97904e6daea8866dbdbc4fb7aad2c",
         "delivered",
         "2018-02-13 21:18:39",
         "2018-02-13 22:20:29",
         "2018-02-14 19:46:34",
         "2018-02-16 18:17:02",
         "2018-02-26 00:00:00"
        ],
        [
         "a4591c265e18cb1dcee52889e2d8acc3",
         "503740e9ca751ccdda7ba28e9ab8f608",
         "delivered",
         "2017-07-09 21:57:05",
         "2017-07-09 22:10:13",
         "2017-07-11 14:58:04",
         "2017-07-26 10:57:55",
         "2017-08-01 00:00:00"
        ],
        [
         "136cce7faa42fdb2cefd53fdc79a6098",
         "ed0271e0b7da060a393796590e7b737a",
         "invoiced",
         "2017-04-11 12:22:08",
         "2017-04-13 13:25:17",
         null,
         null,
         "2017-05-09 00:00:00"
        ],
        [
         "6514b8ad8028c9f2cc2374ded245783f",
         "9bdf08b4b3b52b5526ff42d37d47f222",
         "delivered",
         "2017-05-16 13:10:30",
         "2017-05-16 13:22:11",
         "2017-05-22 10:07:46",
         "2017-05-26 12:55:51",
         "2017-06-07 00:00:00"
        ],
        [
         "76c6e866289321a7c93b82b54852dc33",
         "f54a9f0e6b351c431402b8461ea51999",
         "delivered",
         "2017-01-23 18:29:09",
         "2017-01-25 02:50:47",
         "2017-01-26 14:16:31",
         "2017-02-02 14:08:10",
         "2017-03-06 00:00:00"
        ],
        [
         "e69bfb5eb88e0ed6a785585b27e16dbf",
         "31ad1d1b63eb9962463f764d4e6e0c9d",
         "delivered",
         "2017-07-29 11:55:02",
         "2017-07-29 12:05:32",
         "2017-08-10 19:45:24",
         "2017-08-16 17:14:30",
         "2017-08-23 00:00:00"
        ]
       ],
       "datasetInfos": [],
       "dbfsResultPath": null,
       "isJsonSchema": true,
       "metadata": {},
       "overflow": false,
       "plotOptions": {
        "customPlotOptions": {},
        "displayType": "table",
        "pivotAggregation": null,
        "pivotColumns": null,
        "xColumns": null,
        "yColumns": null
       },
       "removedWidgets": [],
       "schema": [
        {
         "metadata": "{}",
         "name": "order_id",
         "type": "\"string\""
        },
        {
         "metadata": "{}",
         "name": "customer_id",
         "type": "\"string\""
        },
        {
         "metadata": "{}",
         "name": "order_status",
         "type": "\"string\""
        },
        {
         "metadata": "{}",
         "name": "order_purchase_timestamp",
         "type": "\"string\""
        },
        {
         "metadata": "{}",
         "name": "order_approved_at",
         "type": "\"string\""
        },
        {
         "metadata": "{}",
         "name": "order_delivered_carrier_date",
         "type": "\"string\""
        },
        {
         "metadata": "{}",
         "name": "order_delivered_customer_date",
         "type": "\"string\""
        },
        {
         "metadata": "{}",
         "name": "order_estimated_delivery_date",
         "type": "\"string\""
        }
       ],
       "type": "table"
      }
     },
     "output_type": "display_data"
    },
    {
     "output_type": "stream",
     "name": "stdout",
     "output_type": "stream",
     "text": [
      "Basic Information:\n<class 'pandas.core.frame.DataFrame'>\nRangeIndex: 99441 entries, 0 to 99440\nData columns (total 8 columns):\n #   Column                         Non-Null Count  Dtype \n---  ------                         --------------  ----- \n 0   order_id                       99441 non-null  object\n 1   customer_id                    99441 non-null  object\n 2   order_status                   99441 non-null  object\n 3   order_purchase_timestamp       99441 non-null  object\n 4   order_approved_at              99281 non-null  object\n 5   order_delivered_carrier_date   97658 non-null  object\n 6   order_delivered_customer_date  96476 non-null  object\n 7   order_estimated_delivery_date  99441 non-null  object\ndtypes: object(8)\nmemory usage: 6.1+ MB\nBasic Statistics:\n                                order_id                       customer_id order_status order_purchase_timestamp    order_approved_at order_delivered_carrier_date order_delivered_customer_date order_estimated_delivery_date\ncount                              99441                             99441        99441                    99441                99281                        97658                         96476                         99441\nunique                             99441                             99441            8                    98875                90733                        81018                         95664                           459\ntop     e481f51cbdc54678b7cc49136f2d6af7  9ef432eb6251297304e76186b10a928d    delivered      2018-04-11 10:48:14  2018-02-27 04:31:10          2018-05-09 15:48:00           2018-05-08 23:38:46           2017-12-20 00:00:00\nfreq                                   1                                 1        96478                        3                    9                           47                             3                           522\nMissing Values:\n"
     ]
    },
    {
     "output_type": "display_data",
     "data": {
      "text/plain": [
       "order_id                            0\n",
       "customer_id                         0\n",
       "order_status                        0\n",
       "order_purchase_timestamp            0\n",
       "order_approved_at                 160\n",
       "order_delivered_carrier_date     1783\n",
       "order_delivered_customer_date    2965\n",
       "order_estimated_delivery_date       0\n",
       "dtype: int64"
      ]
     },
     "metadata": {},
     "output_type": "display_data"
    },
    {
     "output_type": "stream",
     "name": "stdout",
     "output_type": "stream",
     "text": [
      "Duplicate Rows:\n"
     ]
    },
    {
     "output_type": "display_data",
     "data": {
      "text/plain": [
       "0"
      ]
     },
     "metadata": {},
     "output_type": "display_data"
    },
    {
     "output_type": "stream",
     "name": "stdout",
     "output_type": "stream",
     "text": [
      "Value Counts for order_id:\n"
     ]
    },
    {
     "output_type": "display_data",
     "data": {
      "text/plain": [
       "e481f51cbdc54678b7cc49136f2d6af7    1\n",
       "f01059d0d674e1282df4e8fbbe015aa2    1\n",
       "fbc17f0f2a2125054d5ac5c22d2d5120    1\n",
       "9373150545066777b1cd2bc20e93cf8e    1\n",
       "917399e96f92268dfa2c0351b1b75fba    1\n",
       "ed1691ef26bd8279bd5946561af1ff0d    1\n",
       "dc3006aa87f57332aaff74c57a5e094d    1\n",
       "f53eae1ce47dc68e8da117dd0d7feef1    1\n",
       "94bce2ab6f38b41d29ebbd9d755677bf    1\n",
       "632f22d24375715fbfa8c0ae2e5d35b7    1\n",
       "Name: order_id, dtype: int64"
      ]
     },
     "metadata": {},
     "output_type": "display_data"
    },
    {
     "output_type": "stream",
     "name": "stdout",
     "output_type": "stream",
     "text": [
      "Value Counts for customer_id:\n"
     ]
    },
    {
     "output_type": "display_data",
     "data": {
      "text/plain": [
       "9ef432eb6251297304e76186b10a928d    1\n",
       "413f7e58270a32396af030a075b924be    1\n",
       "eb4350b67a0264c67e5e06a038e4afbb    1\n",
       "622b07d262d545d16efbd4363a89cb91    1\n",
       "c701fbfa77791abd05eef9eacf7ea7a8    1\n",
       "99ce553a3ac79b26416f2adca143760e    1\n",
       "50900ea3519ead20da341b41081736e9    1\n",
       "a4fe94a051d268fbbe8e4ca932ebc460    1\n",
       "ba712872211b52224c61d5bedfc1bfcf    1\n",
       "f8b67d327058afa39382991d7173b1d7    1\n",
       "Name: customer_id, dtype: int64"
      ]
     },
     "metadata": {},
     "output_type": "display_data"
    },
    {
     "output_type": "stream",
     "name": "stdout",
     "output_type": "stream",
     "text": [
      "Value Counts for order_status:\n"
     ]
    },
    {
     "output_type": "display_data",
     "data": {
      "text/plain": [
       "delivered      96478\n",
       "shipped         1107\n",
       "canceled         625\n",
       "unavailable      609\n",
       "invoiced         314\n",
       "processing       301\n",
       "created            5\n",
       "approved           2\n",
       "Name: order_status, dtype: int64"
      ]
     },
     "metadata": {},
     "output_type": "display_data"
    },
    {
     "output_type": "stream",
     "name": "stdout",
     "output_type": "stream",
     "text": [
      "Value Counts for order_purchase_timestamp:\n"
     ]
    },
    {
     "output_type": "display_data",
     "data": {
      "text/plain": [
       "2018-04-11 10:48:14    3\n",
       "2018-07-28 13:11:22    3\n",
       "2017-11-20 10:59:08    3\n",
       "2018-08-02 12:05:26    3\n",
       "2018-08-02 12:06:09    3\n",
       "2018-06-01 13:39:44    3\n",
       "2018-03-31 15:08:21    3\n",
       "2018-02-19 15:37:47    3\n",
       "2018-08-02 12:06:07    3\n",
       "2017-11-20 11:46:30    3\n",
       "Name: order_purchase_timestamp, dtype: int64"
      ]
     },
     "metadata": {},
     "output_type": "display_data"
    },
    {
     "output_type": "stream",
     "name": "stdout",
     "output_type": "stream",
     "text": [
      "Value Counts for order_approved_at:\n"
     ]
    },
    {
     "output_type": "display_data",
     "data": {
      "text/plain": [
       "2018-02-27 04:31:10    9\n",
       "2017-11-07 07:30:38    7\n",
       "2018-02-27 04:31:01    7\n",
       "2018-02-06 05:31:52    7\n",
       "2017-11-07 07:30:29    7\n",
       "2018-01-10 10:32:03    7\n",
       "2017-12-05 10:30:42    7\n",
       "2018-07-05 16:33:01    7\n",
       "2018-05-15 03:55:59    6\n",
       "2017-11-07 07:30:50    6\n",
       "Name: order_approved_at, dtype: int64"
      ]
     },
     "metadata": {},
     "output_type": "display_data"
    },
    {
     "output_type": "stream",
     "name": "stdout",
     "output_type": "stream",
     "text": [
      "Value Counts for order_delivered_carrier_date:\n"
     ]
    },
    {
     "output_type": "display_data",
     "data": {
      "text/plain": [
       "2018-05-09 15:48:00    47\n",
       "2018-05-10 18:29:00    32\n",
       "2018-05-07 12:31:00    21\n",
       "2018-05-02 15:15:00    16\n",
       "2018-07-24 16:07:00    16\n",
       "2018-05-16 13:44:00    15\n",
       "2018-08-03 15:10:00    15\n",
       "2018-07-17 14:16:00    15\n",
       "2018-08-08 15:01:00    15\n",
       "2018-05-02 12:26:00    14\n",
       "Name: order_delivered_carrier_date, dtype: int64"
      ]
     },
     "metadata": {},
     "output_type": "display_data"
    },
    {
     "output_type": "stream",
     "name": "stdout",
     "output_type": "stream",
     "text": [
      "Value Counts for order_delivered_customer_date:\n"
     ]
    },
    {
     "output_type": "display_data",
     "data": {
      "text/plain": [
       "2018-05-08 23:38:46    3\n",
       "2016-10-27 17:32:07    3\n",
       "2018-02-14 21:09:19    3\n",
       "2017-06-19 18:47:51    3\n",
       "2018-05-08 19:36:48    3\n",
       "2017-12-02 00:26:45    3\n",
       "2018-05-14 20:02:44    3\n",
       "2018-07-24 21:36:42    3\n",
       "2018-02-08 22:23:05    2\n",
       "2018-06-20 16:56:57    2\n",
       "Name: order_delivered_customer_date, dtype: int64"
      ]
     },
     "metadata": {},
     "output_type": "display_data"
    },
    {
     "output_type": "stream",
     "name": "stdout",
     "output_type": "stream",
     "text": [
      "Value Counts for order_estimated_delivery_date:\n"
     ]
    },
    {
     "output_type": "display_data",
     "data": {
      "text/plain": [
       "2017-12-20 00:00:00    522\n",
       "2018-03-12 00:00:00    516\n",
       "2018-05-29 00:00:00    513\n",
       "2018-03-13 00:00:00    513\n",
       "2018-02-14 00:00:00    507\n",
       "2017-12-18 00:00:00    493\n",
       "2018-05-28 00:00:00    492\n",
       "2018-03-06 00:00:00    492\n",
       "2018-02-06 00:00:00    491\n",
       "2018-04-12 00:00:00    490\n",
       "Name: order_estimated_delivery_date, dtype: int64"
      ]
     },
     "metadata": {},
     "output_type": "display_data"
    },
    {
     "output_type": "stream",
     "name": "stdout",
     "output_type": "stream",
     "text": [
      "--------------------------------------------------------------------------------\n"
     ]
    }
   ],
   "source": [
    "inspect_data(orders_data, 'Orders')"
   ]
  },
  {
   "cell_type": "markdown",
   "metadata": {
    "application/vnd.databricks.v1+cell": {
     "cellMetadata": {
      "byteLimit": 2048000,
      "rowLimit": 10000
     },
     "inputWidgets": {},
     "nuid": "065267c6-ca19-4ac1-8319-9c91f2401c37",
     "showTitle": false,
     "title": ""
    }
   },
   "source": [
    "    Inspection summary:\n",
    "        - Missing Data: 'order_approved_at', 'order_delivered_carrier_date', and 'order_delivered_customer_date' have null values.\n",
    "        - Duplicates: No duplicate rows found.\n",
    "        - Data Types: All date columns are stored as strings, which is not suitable for date operations.\n",
    "\n",
    "    Checks and transformations applied:\n",
    "        1. Converted date columns from strings to datetime format.\n",
    "        2. Standardized 'order_status' to lower case to maintain consistency across the dataset. \n",
    "        3. Checked for logically incorrect data where delivery date>purchase date\n",
    "        4. Filled missing 'order_approved_at' dates with 'order_purchase_timestamp', assuming immediate approval (checked for the difference between dates; since it was within the same date I decided to proceed with this step)\n",
    "    "
   ]
  },
  {
   "cell_type": "code",
   "execution_count": 0,
   "metadata": {
    "application/vnd.databricks.v1+cell": {
     "cellMetadata": {
      "byteLimit": 2048000,
      "rowLimit": 10000
     },
     "inputWidgets": {},
     "nuid": "db7918ce-7263-48d0-82dd-4470da2d1bdb",
     "showTitle": false,
     "title": ""
    }
   },
   "outputs": [],
   "source": [
    "orders_data_cleaned = orders_data.copy()  # Creating a copy of the original dataFrame\n",
    "\n",
    "#1. Converting data columns from strings to datetime\n",
    "date_columns = ['order_purchase_timestamp', 'order_approved_at', 'order_delivered_carrier_date', 'order_delivered_customer_date', 'order_estimated_delivery_date']\n",
    "for col in date_columns:\n",
    "    orders_data_cleaned[col] = pd.to_datetime(orders_data_cleaned[col], errors='coerce')  #coerce: to turn any invalid date formats into NaT (Not a Time)\n",
    "\n",
    "#2. Standadizing 'order_status' to lower case:\n",
    "orders_data_cleaned['order_status'] = orders_data_cleaned['order_status'].str.lower()"
   ]
  },
  {
   "cell_type": "code",
   "execution_count": 0,
   "metadata": {
    "application/vnd.databricks.v1+cell": {
     "cellMetadata": {
      "byteLimit": 2048000,
      "rowLimit": 10000
     },
     "inputWidgets": {},
     "nuid": "fe5d3921-bf82-4161-a7f0-a90758252bec",
     "showTitle": false,
     "title": ""
    }
   },
   "outputs": [
    {
     "output_type": "display_data",
     "data": {
      "text/plain": [
       "'0 rows found where delivery date>purchase date'"
      ]
     },
     "metadata": {},
     "output_type": "display_data"
    }
   ],
   "source": [
    "#3. checking for incorrect data where delivery date>purchase date\n",
    "invalid_dates_df = orders_data_cleaned[orders_data_cleaned['order_delivered_customer_date'] < orders_data_cleaned['order_purchase_timestamp']]\n",
    "\n",
    "display(f\"{invalid_dates_df.shape[0]} rows found where delivery date>purchase date\") "
   ]
  },
  {
   "cell_type": "code",
   "execution_count": 0,
   "metadata": {
    "application/vnd.databricks.v1+cell": {
     "cellMetadata": {
      "byteLimit": 2048000,
      "rowLimit": 10000
     },
     "inputWidgets": {},
     "nuid": "981e65f8-312a-4cf4-9d58-42ae366b3ffd",
     "showTitle": false,
     "title": ""
    }
   },
   "outputs": [
    {
     "output_type": "stream",
     "name": "stdout",
     "output_type": "stream",
     "text": [
      "10.42 hours\n"
     ]
    }
   ],
   "source": [
    "#4. Checking the difference in time between 'order_approved_at' and 'order_purchase_timestamp'\n",
    "\n",
    "#dropping rows where either column is null so no error is returned\n",
    "temp_data = orders_data_cleaned.dropna(subset=['order_purchase_timestamp', 'order_approved_at']).copy()\n",
    "\n",
    "#calculating the difference in hours between purchase and approval\n",
    "temp_data.loc[:, 'time_difference'] = (temp_data['order_approved_at'] - temp_data['order_purchase_timestamp']).dt.total_seconds() / 3600\n",
    "\n",
    "# average time difference\n",
    "average_difference = temp_data['time_difference'].mean()\n",
    "print(f\"{average_difference:.2f} hours\")\n"
   ]
  },
  {
   "cell_type": "code",
   "execution_count": 0,
   "metadata": {
    "application/vnd.databricks.v1+cell": {
     "cellMetadata": {
      "byteLimit": 2048000,
      "rowLimit": 10000
     },
     "inputWidgets": {},
     "nuid": "f89ef8d9-f60a-4a8e-9414-b3889203da03",
     "showTitle": false,
     "title": ""
    }
   },
   "outputs": [
    {
     "output_type": "stream",
     "name": "stdout",
     "output_type": "stream",
     "text": [
      "\nInspecting Orders_Cleaned:\nFirst 10 Rows:\n"
     ]
    },
    {
     "output_type": "stream",
     "name": "stderr",
     "output_type": "stream",
     "text": [
      "/root/.ipykernel/23045/command-1052447291243136-2760216372:4: DeprecationWarning: In a future version, `df.iloc[:, i] = newvals` will attempt to set the values inplace instead of always setting a new array. To retain the old behavior, use either `df[df.columns[i]] = newvals` or, if columns are non-unique, `df.isetitem(i, newvals)`\n  orders_data_cleaned.fillna({\n"
     ]
    },
    {
     "output_type": "display_data",
     "data": {
      "text/html": [
       "<style scoped>\n",
       "  .table-result-container {\n",
       "    max-height: 300px;\n",
       "    overflow: auto;\n",
       "  }\n",
       "  table, th, td {\n",
       "    border: 1px solid black;\n",
       "    border-collapse: collapse;\n",
       "  }\n",
       "  th, td {\n",
       "    padding: 5px;\n",
       "  }\n",
       "  th {\n",
       "    text-align: left;\n",
       "  }\n",
       "</style><div class='table-result-container'><table class='table-result'><thead style='background-color: white'><tr><th>order_id</th><th>customer_id</th><th>order_status</th><th>order_purchase_timestamp</th><th>order_approved_at</th><th>order_delivered_carrier_date</th><th>order_delivered_customer_date</th><th>order_estimated_delivery_date</th></tr></thead><tbody><tr><td>e481f51cbdc54678b7cc49136f2d6af7</td><td>9ef432eb6251297304e76186b10a928d</td><td>delivered</td><td>2017-10-02T10:56:33Z</td><td>2017-10-02T11:07:15Z</td><td>2017-10-04T19:55:00Z</td><td>2017-10-10T21:25:13Z</td><td>2017-10-18T00:00:00Z</td></tr><tr><td>53cdb2fc8bc7dce0b6741e2150273451</td><td>b0830fb4747a6c6d20dea0b8c802d7ef</td><td>delivered</td><td>2018-07-24T20:41:37Z</td><td>2018-07-26T03:24:27Z</td><td>2018-07-26T14:31:00Z</td><td>2018-08-07T15:27:45Z</td><td>2018-08-13T00:00:00Z</td></tr><tr><td>47770eb9100c2d0c44946d9cf07ec65d</td><td>41ce2a54c0b03bf3443c3d931a367089</td><td>delivered</td><td>2018-08-08T08:38:49Z</td><td>2018-08-08T08:55:23Z</td><td>2018-08-08T13:50:00Z</td><td>2018-08-17T18:06:29Z</td><td>2018-09-04T00:00:00Z</td></tr><tr><td>949d5b44dbf5de918fe9c16f97b45f8a</td><td>f88197465ea7920adcdbec7375364d82</td><td>delivered</td><td>2017-11-18T19:28:06Z</td><td>2017-11-18T19:45:59Z</td><td>2017-11-22T13:39:59Z</td><td>2017-12-02T00:28:42Z</td><td>2017-12-15T00:00:00Z</td></tr><tr><td>ad21c59c0840e6cb83a9ceb5573f8159</td><td>8ab97904e6daea8866dbdbc4fb7aad2c</td><td>delivered</td><td>2018-02-13T21:18:39Z</td><td>2018-02-13T22:20:29Z</td><td>2018-02-14T19:46:34Z</td><td>2018-02-16T18:17:02Z</td><td>2018-02-26T00:00:00Z</td></tr><tr><td>a4591c265e18cb1dcee52889e2d8acc3</td><td>503740e9ca751ccdda7ba28e9ab8f608</td><td>delivered</td><td>2017-07-09T21:57:05Z</td><td>2017-07-09T22:10:13Z</td><td>2017-07-11T14:58:04Z</td><td>2017-07-26T10:57:55Z</td><td>2017-08-01T00:00:00Z</td></tr><tr><td>136cce7faa42fdb2cefd53fdc79a6098</td><td>ed0271e0b7da060a393796590e7b737a</td><td>invoiced</td><td>2017-04-11T12:22:08Z</td><td>2017-04-13T13:25:17Z</td><td>2018-05-09T15:48:00Z</td><td>2017-05-09T00:00:00Z</td><td>2017-05-09T00:00:00Z</td></tr><tr><td>6514b8ad8028c9f2cc2374ded245783f</td><td>9bdf08b4b3b52b5526ff42d37d47f222</td><td>delivered</td><td>2017-05-16T13:10:30Z</td><td>2017-05-16T13:22:11Z</td><td>2017-05-22T10:07:46Z</td><td>2017-05-26T12:55:51Z</td><td>2017-06-07T00:00:00Z</td></tr><tr><td>76c6e866289321a7c93b82b54852dc33</td><td>f54a9f0e6b351c431402b8461ea51999</td><td>delivered</td><td>2017-01-23T18:29:09Z</td><td>2017-01-25T02:50:47Z</td><td>2017-01-26T14:16:31Z</td><td>2017-02-02T14:08:10Z</td><td>2017-03-06T00:00:00Z</td></tr><tr><td>e69bfb5eb88e0ed6a785585b27e16dbf</td><td>31ad1d1b63eb9962463f764d4e6e0c9d</td><td>delivered</td><td>2017-07-29T11:55:02Z</td><td>2017-07-29T12:05:32Z</td><td>2017-08-10T19:45:24Z</td><td>2017-08-16T17:14:30Z</td><td>2017-08-23T00:00:00Z</td></tr></tbody></table></div>"
      ]
     },
     "metadata": {
      "application/vnd.databricks.v1+output": {
       "addedWidgets": {},
       "aggData": [],
       "aggError": "",
       "aggOverflow": false,
       "aggSchema": [],
       "aggSeriesLimitReached": false,
       "aggType": "",
       "arguments": {},
       "columnCustomDisplayInfos": {},
       "data": [
        [
         "e481f51cbdc54678b7cc49136f2d6af7",
         "9ef432eb6251297304e76186b10a928d",
         "delivered",
         "2017-10-02T10:56:33Z",
         "2017-10-02T11:07:15Z",
         "2017-10-04T19:55:00Z",
         "2017-10-10T21:25:13Z",
         "2017-10-18T00:00:00Z"
        ],
        [
         "53cdb2fc8bc7dce0b6741e2150273451",
         "b0830fb4747a6c6d20dea0b8c802d7ef",
         "delivered",
         "2018-07-24T20:41:37Z",
         "2018-07-26T03:24:27Z",
         "2018-07-26T14:31:00Z",
         "2018-08-07T15:27:45Z",
         "2018-08-13T00:00:00Z"
        ],
        [
         "47770eb9100c2d0c44946d9cf07ec65d",
         "41ce2a54c0b03bf3443c3d931a367089",
         "delivered",
         "2018-08-08T08:38:49Z",
         "2018-08-08T08:55:23Z",
         "2018-08-08T13:50:00Z",
         "2018-08-17T18:06:29Z",
         "2018-09-04T00:00:00Z"
        ],
        [
         "949d5b44dbf5de918fe9c16f97b45f8a",
         "f88197465ea7920adcdbec7375364d82",
         "delivered",
         "2017-11-18T19:28:06Z",
         "2017-11-18T19:45:59Z",
         "2017-11-22T13:39:59Z",
         "2017-12-02T00:28:42Z",
         "2017-12-15T00:00:00Z"
        ],
        [
         "ad21c59c0840e6cb83a9ceb5573f8159",
         "8ab97904e6daea8866dbdbc4fb7aad2c",
         "delivered",
         "2018-02-13T21:18:39Z",
         "2018-02-13T22:20:29Z",
         "2018-02-14T19:46:34Z",
         "2018-02-16T18:17:02Z",
         "2018-02-26T00:00:00Z"
        ],
        [
         "a4591c265e18cb1dcee52889e2d8acc3",
         "503740e9ca751ccdda7ba28e9ab8f608",
         "delivered",
         "2017-07-09T21:57:05Z",
         "2017-07-09T22:10:13Z",
         "2017-07-11T14:58:04Z",
         "2017-07-26T10:57:55Z",
         "2017-08-01T00:00:00Z"
        ],
        [
         "136cce7faa42fdb2cefd53fdc79a6098",
         "ed0271e0b7da060a393796590e7b737a",
         "invoiced",
         "2017-04-11T12:22:08Z",
         "2017-04-13T13:25:17Z",
         "2018-05-09T15:48:00Z",
         "2017-05-09T00:00:00Z",
         "2017-05-09T00:00:00Z"
        ],
        [
         "6514b8ad8028c9f2cc2374ded245783f",
         "9bdf08b4b3b52b5526ff42d37d47f222",
         "delivered",
         "2017-05-16T13:10:30Z",
         "2017-05-16T13:22:11Z",
         "2017-05-22T10:07:46Z",
         "2017-05-26T12:55:51Z",
         "2017-06-07T00:00:00Z"
        ],
        [
         "76c6e866289321a7c93b82b54852dc33",
         "f54a9f0e6b351c431402b8461ea51999",
         "delivered",
         "2017-01-23T18:29:09Z",
         "2017-01-25T02:50:47Z",
         "2017-01-26T14:16:31Z",
         "2017-02-02T14:08:10Z",
         "2017-03-06T00:00:00Z"
        ],
        [
         "e69bfb5eb88e0ed6a785585b27e16dbf",
         "31ad1d1b63eb9962463f764d4e6e0c9d",
         "delivered",
         "2017-07-29T11:55:02Z",
         "2017-07-29T12:05:32Z",
         "2017-08-10T19:45:24Z",
         "2017-08-16T17:14:30Z",
         "2017-08-23T00:00:00Z"
        ]
       ],
       "datasetInfos": [],
       "dbfsResultPath": null,
       "isJsonSchema": true,
       "metadata": {},
       "overflow": false,
       "plotOptions": {
        "customPlotOptions": {},
        "displayType": "table",
        "pivotAggregation": null,
        "pivotColumns": null,
        "xColumns": null,
        "yColumns": null
       },
       "removedWidgets": [],
       "schema": [
        {
         "metadata": "{}",
         "name": "order_id",
         "type": "\"string\""
        },
        {
         "metadata": "{}",
         "name": "customer_id",
         "type": "\"string\""
        },
        {
         "metadata": "{}",
         "name": "order_status",
         "type": "\"string\""
        },
        {
         "metadata": "{}",
         "name": "order_purchase_timestamp",
         "type": "\"timestamp\""
        },
        {
         "metadata": "{}",
         "name": "order_approved_at",
         "type": "\"timestamp\""
        },
        {
         "metadata": "{}",
         "name": "order_delivered_carrier_date",
         "type": "\"timestamp\""
        },
        {
         "metadata": "{}",
         "name": "order_delivered_customer_date",
         "type": "\"timestamp\""
        },
        {
         "metadata": "{}",
         "name": "order_estimated_delivery_date",
         "type": "\"timestamp\""
        }
       ],
       "type": "table"
      }
     },
     "output_type": "display_data"
    },
    {
     "output_type": "stream",
     "name": "stdout",
     "output_type": "stream",
     "text": [
      "Basic Information:\n<class 'pandas.core.frame.DataFrame'>\nInt64Index: 99441 entries, 0 to 99440\nData columns (total 8 columns):\n #   Column                         Non-Null Count  Dtype         \n---  ------                         --------------  -----         \n 0   order_id                       99441 non-null  object        \n 1   customer_id                    99441 non-null  object        \n 2   order_status                   99441 non-null  object        \n 3   order_purchase_timestamp       99441 non-null  datetime64[ns]\n 4   order_approved_at              99441 non-null  datetime64[ns]\n 5   order_delivered_carrier_date   99441 non-null  datetime64[ns]\n 6   order_delivered_customer_date  99441 non-null  datetime64[ns]\n 7   order_estimated_delivery_date  99441 non-null  datetime64[ns]\ndtypes: datetime64[ns](5), object(3)\nmemory usage: 6.8+ MB\nBasic Statistics:\n            order_purchase_timestamp              order_approved_at   order_delivered_carrier_date  order_delivered_customer_date  order_estimated_delivery_date\ncount                          99441                          99441                          99441                          99441                          99441\nmean   2017-12-31 08:43:12.776581120  2017-12-31 19:07:21.164720896  2018-01-07 03:30:45.390211072  2018-01-13 06:50:40.982220800  2018-01-24 03:08:37.730111232\nmin              2016-09-04 21:15:19            2016-09-15 12:16:38            2016-10-08 10:34:01            2016-09-30 00:00:00            2016-09-30 00:00:00\n25%              2017-09-12 14:46:19            2017-09-12 21:55:13            2017-09-19 19:52:27            2017-09-22 21:28:06            2017-10-03 00:00:00\n50%              2018-01-18 23:04:36            2018-01-19 11:54:30            2018-01-29 12:18:58            2018-02-01 19:34:49            2018-02-15 00:00:00\n75%              2018-05-04 15:42:16            2018-05-04 23:50:21            2018-05-09 15:48:00            2018-05-15 17:51:03            2018-05-25 00:00:00\nmax              2018-10-17 17:30:18            2018-10-17 17:30:18            2018-09-11 19:48:28            2018-11-12 00:00:00            2018-11-12 00:00:00\nMissing Values:\n"
     ]
    },
    {
     "output_type": "display_data",
     "data": {
      "text/plain": [
       "order_id                         0\n",
       "customer_id                      0\n",
       "order_status                     0\n",
       "order_purchase_timestamp         0\n",
       "order_approved_at                0\n",
       "order_delivered_carrier_date     0\n",
       "order_delivered_customer_date    0\n",
       "order_estimated_delivery_date    0\n",
       "dtype: int64"
      ]
     },
     "metadata": {},
     "output_type": "display_data"
    },
    {
     "output_type": "stream",
     "name": "stdout",
     "output_type": "stream",
     "text": [
      "Duplicate Rows:\n"
     ]
    },
    {
     "output_type": "display_data",
     "data": {
      "text/plain": [
       "0"
      ]
     },
     "metadata": {},
     "output_type": "display_data"
    },
    {
     "output_type": "stream",
     "name": "stdout",
     "output_type": "stream",
     "text": [
      "Value Counts for order_id:\n"
     ]
    },
    {
     "output_type": "display_data",
     "data": {
      "text/plain": [
       "e481f51cbdc54678b7cc49136f2d6af7    1\n",
       "f01059d0d674e1282df4e8fbbe015aa2    1\n",
       "fbc17f0f2a2125054d5ac5c22d2d5120    1\n",
       "9373150545066777b1cd2bc20e93cf8e    1\n",
       "917399e96f92268dfa2c0351b1b75fba    1\n",
       "ed1691ef26bd8279bd5946561af1ff0d    1\n",
       "dc3006aa87f57332aaff74c57a5e094d    1\n",
       "f53eae1ce47dc68e8da117dd0d7feef1    1\n",
       "94bce2ab6f38b41d29ebbd9d755677bf    1\n",
       "632f22d24375715fbfa8c0ae2e5d35b7    1\n",
       "Name: order_id, dtype: int64"
      ]
     },
     "metadata": {},
     "output_type": "display_data"
    },
    {
     "output_type": "stream",
     "name": "stdout",
     "output_type": "stream",
     "text": [
      "Value Counts for customer_id:\n"
     ]
    },
    {
     "output_type": "display_data",
     "data": {
      "text/plain": [
       "9ef432eb6251297304e76186b10a928d    1\n",
       "413f7e58270a32396af030a075b924be    1\n",
       "eb4350b67a0264c67e5e06a038e4afbb    1\n",
       "622b07d262d545d16efbd4363a89cb91    1\n",
       "c701fbfa77791abd05eef9eacf7ea7a8    1\n",
       "99ce553a3ac79b26416f2adca143760e    1\n",
       "50900ea3519ead20da341b41081736e9    1\n",
       "a4fe94a051d268fbbe8e4ca932ebc460    1\n",
       "ba712872211b52224c61d5bedfc1bfcf    1\n",
       "f8b67d327058afa39382991d7173b1d7    1\n",
       "Name: customer_id, dtype: int64"
      ]
     },
     "metadata": {},
     "output_type": "display_data"
    },
    {
     "output_type": "stream",
     "name": "stdout",
     "output_type": "stream",
     "text": [
      "Value Counts for order_status:\n"
     ]
    },
    {
     "output_type": "display_data",
     "data": {
      "text/plain": [
       "delivered      96478\n",
       "shipped         1107\n",
       "canceled         625\n",
       "unavailable      609\n",
       "invoiced         314\n",
       "processing       301\n",
       "created            5\n",
       "approved           2\n",
       "Name: order_status, dtype: int64"
      ]
     },
     "metadata": {},
     "output_type": "display_data"
    },
    {
     "output_type": "stream",
     "name": "stdout",
     "output_type": "stream",
     "text": [
      "--------------------------------------------------------------------------------\n"
     ]
    }
   ],
   "source": [
    "#4. Filling missing 'order_approved_at' dates with 'order_purchase_timestamp'\n",
    "orders_data_cleaned['order_approved_at'].fillna(orders_data_cleaned['order_purchase_timestamp'], inplace=True)\n",
    "\n",
    "orders_data_cleaned.fillna({\n",
    "    # Using mode to impute\n",
    "    'order_delivered_carrier_date': orders_data_cleaned['order_delivered_carrier_date'].mode()[0],  \n",
    "    # Filling missing 'order_delivered_customer_date' with 'order_estimated_delivery_date \n",
    "    'order_delivered_customer_date': orders_data_cleaned['order_estimated_delivery_date']  \n",
    "}, inplace=True)\n",
    "\n",
    "#Removing duplicate rows after transformations, even though none appeared\n",
    "orders_data_cleaned.drop_duplicates(inplace=True)\n",
    "\n",
    "#Inspecting the cleaned dataset\n",
    "inspect_data(orders_data_cleaned, 'Orders_Cleaned') "
   ]
  },
  {
   "cell_type": "markdown",
   "metadata": {
    "application/vnd.databricks.v1+cell": {
     "cellMetadata": {
      "byteLimit": 2048000,
      "rowLimit": 10000
     },
     "inputWidgets": {},
     "nuid": "e322f012-0b5c-493c-b3e7-9d9438d8bfc1",
     "showTitle": false,
     "title": ""
    }
   },
   "source": [
    "    5.3. Products Dataset"
   ]
  },
  {
   "cell_type": "code",
   "execution_count": 0,
   "metadata": {
    "application/vnd.databricks.v1+cell": {
     "cellMetadata": {
      "byteLimit": 2048000,
      "rowLimit": 10000
     },
     "inputWidgets": {},
     "nuid": "c5c4a570-e9ba-4cc5-ab92-b756d83ad121",
     "showTitle": false,
     "title": ""
    }
   },
   "outputs": [
    {
     "output_type": "stream",
     "name": "stdout",
     "output_type": "stream",
     "text": [
      "\nInspecting Products:\nFirst 10 Rows:\n"
     ]
    },
    {
     "output_type": "display_data",
     "data": {
      "text/html": [
       "<style scoped>\n",
       "  .table-result-container {\n",
       "    max-height: 300px;\n",
       "    overflow: auto;\n",
       "  }\n",
       "  table, th, td {\n",
       "    border: 1px solid black;\n",
       "    border-collapse: collapse;\n",
       "  }\n",
       "  th, td {\n",
       "    padding: 5px;\n",
       "  }\n",
       "  th {\n",
       "    text-align: left;\n",
       "  }\n",
       "</style><div class='table-result-container'><table class='table-result'><thead style='background-color: white'><tr><th>product_id</th><th>product_category_name</th><th>product_name_lenght</th><th>product_description_lenght</th><th>product_photos_qty</th><th>product_weight_g</th><th>product_length_cm</th><th>product_height_cm</th><th>product_width_cm</th></tr></thead><tbody><tr><td>1e9e8ef04dbcff4541ed26657ea517e5</td><td>perfumaria</td><td>40.0</td><td>287.0</td><td>1.0</td><td>225.0</td><td>16.0</td><td>10.0</td><td>14.0</td></tr><tr><td>3aa071139cb16b67ca9e5dea641aaa2f</td><td>artes</td><td>44.0</td><td>276.0</td><td>1.0</td><td>1000.0</td><td>30.0</td><td>18.0</td><td>20.0</td></tr><tr><td>96bd76ec8810374ed1b65e291975717f</td><td>esporte_lazer</td><td>46.0</td><td>250.0</td><td>1.0</td><td>154.0</td><td>18.0</td><td>9.0</td><td>15.0</td></tr><tr><td>cef67bcfe19066a932b7673e239eb23d</td><td>bebes</td><td>27.0</td><td>261.0</td><td>1.0</td><td>371.0</td><td>26.0</td><td>4.0</td><td>26.0</td></tr><tr><td>9dc1a7de274444849c219cff195d0b71</td><td>utilidades_domesticas</td><td>37.0</td><td>402.0</td><td>4.0</td><td>625.0</td><td>20.0</td><td>17.0</td><td>13.0</td></tr><tr><td>41d3672d4792049fa1779bb35283ed13</td><td>instrumentos_musicais</td><td>60.0</td><td>745.0</td><td>1.0</td><td>200.0</td><td>38.0</td><td>5.0</td><td>11.0</td></tr><tr><td>732bd381ad09e530fe0a5f457d81becb</td><td>cool_stuff</td><td>56.0</td><td>1272.0</td><td>4.0</td><td>18350.0</td><td>70.0</td><td>24.0</td><td>44.0</td></tr><tr><td>2548af3e6e77a690cf3eb6368e9ab61e</td><td>moveis_decoracao</td><td>56.0</td><td>184.0</td><td>2.0</td><td>900.0</td><td>40.0</td><td>8.0</td><td>40.0</td></tr><tr><td>37cc742be07708b53a98702e77a21a02</td><td>eletrodomesticos</td><td>57.0</td><td>163.0</td><td>1.0</td><td>400.0</td><td>27.0</td><td>13.0</td><td>17.0</td></tr><tr><td>8c92109888e8cdf9d66dc7e463025574</td><td>brinquedos</td><td>36.0</td><td>1156.0</td><td>1.0</td><td>600.0</td><td>17.0</td><td>10.0</td><td>12.0</td></tr></tbody></table></div>"
      ]
     },
     "metadata": {
      "application/vnd.databricks.v1+output": {
       "addedWidgets": {},
       "aggData": [],
       "aggError": "",
       "aggOverflow": false,
       "aggSchema": [],
       "aggSeriesLimitReached": false,
       "aggType": "",
       "arguments": {},
       "columnCustomDisplayInfos": {},
       "data": [
        [
         "1e9e8ef04dbcff4541ed26657ea517e5",
         "perfumaria",
         40.0,
         287.0,
         1.0,
         225.0,
         16.0,
         10.0,
         14.0
        ],
        [
         "3aa071139cb16b67ca9e5dea641aaa2f",
         "artes",
         44.0,
         276.0,
         1.0,
         1000.0,
         30.0,
         18.0,
         20.0
        ],
        [
         "96bd76ec8810374ed1b65e291975717f",
         "esporte_lazer",
         46.0,
         250.0,
         1.0,
         154.0,
         18.0,
         9.0,
         15.0
        ],
        [
         "cef67bcfe19066a932b7673e239eb23d",
         "bebes",
         27.0,
         261.0,
         1.0,
         371.0,
         26.0,
         4.0,
         26.0
        ],
        [
         "9dc1a7de274444849c219cff195d0b71",
         "utilidades_domesticas",
         37.0,
         402.0,
         4.0,
         625.0,
         20.0,
         17.0,
         13.0
        ],
        [
         "41d3672d4792049fa1779bb35283ed13",
         "instrumentos_musicais",
         60.0,
         745.0,
         1.0,
         200.0,
         38.0,
         5.0,
         11.0
        ],
        [
         "732bd381ad09e530fe0a5f457d81becb",
         "cool_stuff",
         56.0,
         1272.0,
         4.0,
         18350.0,
         70.0,
         24.0,
         44.0
        ],
        [
         "2548af3e6e77a690cf3eb6368e9ab61e",
         "moveis_decoracao",
         56.0,
         184.0,
         2.0,
         900.0,
         40.0,
         8.0,
         40.0
        ],
        [
         "37cc742be07708b53a98702e77a21a02",
         "eletrodomesticos",
         57.0,
         163.0,
         1.0,
         400.0,
         27.0,
         13.0,
         17.0
        ],
        [
         "8c92109888e8cdf9d66dc7e463025574",
         "brinquedos",
         36.0,
         1156.0,
         1.0,
         600.0,
         17.0,
         10.0,
         12.0
        ]
       ],
       "datasetInfos": [],
       "dbfsResultPath": null,
       "isJsonSchema": true,
       "metadata": {},
       "overflow": false,
       "plotOptions": {
        "customPlotOptions": {},
        "displayType": "table",
        "pivotAggregation": null,
        "pivotColumns": null,
        "xColumns": null,
        "yColumns": null
       },
       "removedWidgets": [],
       "schema": [
        {
         "metadata": "{}",
         "name": "product_id",
         "type": "\"string\""
        },
        {
         "metadata": "{}",
         "name": "product_category_name",
         "type": "\"string\""
        },
        {
         "metadata": "{}",
         "name": "product_name_lenght",
         "type": "\"double\""
        },
        {
         "metadata": "{}",
         "name": "product_description_lenght",
         "type": "\"double\""
        },
        {
         "metadata": "{}",
         "name": "product_photos_qty",
         "type": "\"double\""
        },
        {
         "metadata": "{}",
         "name": "product_weight_g",
         "type": "\"double\""
        },
        {
         "metadata": "{}",
         "name": "product_length_cm",
         "type": "\"double\""
        },
        {
         "metadata": "{}",
         "name": "product_height_cm",
         "type": "\"double\""
        },
        {
         "metadata": "{}",
         "name": "product_width_cm",
         "type": "\"double\""
        }
       ],
       "type": "table"
      }
     },
     "output_type": "display_data"
    },
    {
     "output_type": "stream",
     "name": "stdout",
     "output_type": "stream",
     "text": [
      "Basic Information:\n<class 'pandas.core.frame.DataFrame'>\nRangeIndex: 32951 entries, 0 to 32950\nData columns (total 9 columns):\n #   Column                      Non-Null Count  Dtype  \n---  ------                      --------------  -----  \n 0   product_id                  32951 non-null  object \n 1   product_category_name       32341 non-null  object \n 2   product_name_lenght         32341 non-null  float64\n 3   product_description_lenght  32341 non-null  float64\n 4   product_photos_qty          32341 non-null  float64\n 5   product_weight_g            32949 non-null  float64\n 6   product_length_cm           32949 non-null  float64\n 7   product_height_cm           32949 non-null  float64\n 8   product_width_cm            32949 non-null  float64\ndtypes: float64(7), object(2)\nmemory usage: 2.3+ MB\nBasic Statistics:\n       product_name_lenght  product_description_lenght  product_photos_qty  product_weight_g  product_length_cm  product_height_cm  product_width_cm\ncount         32341.000000                32341.000000        32341.000000      32949.000000       32949.000000       32949.000000      32949.000000\nmean             48.476949                  771.495285            2.188986       2276.472488          30.815078          16.937661         23.196728\nstd              10.245741                  635.115225            1.736766       4282.038731          16.914458          13.637554         12.079047\nmin               5.000000                    4.000000            1.000000          0.000000           7.000000           2.000000          6.000000\n25%              42.000000                  339.000000            1.000000        300.000000          18.000000           8.000000         15.000000\n50%              51.000000                  595.000000            1.000000        700.000000          25.000000          13.000000         20.000000\n75%              57.000000                  972.000000            3.000000       1900.000000          38.000000          21.000000         30.000000\nmax              76.000000                 3992.000000           20.000000      40425.000000         105.000000         105.000000        118.000000\nMissing Values:\n"
     ]
    },
    {
     "output_type": "display_data",
     "data": {
      "text/plain": [
       "product_id                      0\n",
       "product_category_name         610\n",
       "product_name_lenght           610\n",
       "product_description_lenght    610\n",
       "product_photos_qty            610\n",
       "product_weight_g                2\n",
       "product_length_cm               2\n",
       "product_height_cm               2\n",
       "product_width_cm                2\n",
       "dtype: int64"
      ]
     },
     "metadata": {},
     "output_type": "display_data"
    },
    {
     "output_type": "stream",
     "name": "stdout",
     "output_type": "stream",
     "text": [
      "Duplicate Rows:\n"
     ]
    },
    {
     "output_type": "display_data",
     "data": {
      "text/plain": [
       "0"
      ]
     },
     "metadata": {},
     "output_type": "display_data"
    },
    {
     "output_type": "stream",
     "name": "stdout",
     "output_type": "stream",
     "text": [
      "Value Counts for product_id:\n"
     ]
    },
    {
     "output_type": "display_data",
     "data": {
      "text/plain": [
       "1e9e8ef04dbcff4541ed26657ea517e5    1\n",
       "d05cc9afc85771f597cf4bc9d8f12546    1\n",
       "71b7afd92c42feab780d5ea512fc7348    1\n",
       "5c5f3e091101bea69642eb3dd145b17d    1\n",
       "16d47089f9bc7f16de16cc4bd3b9dd49    1\n",
       "b8be700cb8f91067761b685ac5d1664f    1\n",
       "2db85e45ff15b96518baa00fdacdc6c6    1\n",
       "bf348f19164cdedd0ae1cf7b1d72fede    1\n",
       "97de49733ccaac64d122444d8db709d1    1\n",
       "7ce94ab189134e2d3c05f496d635419c    1\n",
       "Name: product_id, dtype: int64"
      ]
     },
     "metadata": {},
     "output_type": "display_data"
    },
    {
     "output_type": "stream",
     "name": "stdout",
     "output_type": "stream",
     "text": [
      "Value Counts for product_category_name:\n"
     ]
    },
    {
     "output_type": "display_data",
     "data": {
      "text/plain": [
       "cama_mesa_banho           3029\n",
       "esporte_lazer             2867\n",
       "moveis_decoracao          2657\n",
       "beleza_saude              2444\n",
       "utilidades_domesticas     2335\n",
       "automotivo                1900\n",
       "informatica_acessorios    1639\n",
       "brinquedos                1411\n",
       "relogios_presentes        1329\n",
       "telefonia                 1134\n",
       "Name: product_category_name, dtype: int64"
      ]
     },
     "metadata": {},
     "output_type": "display_data"
    },
    {
     "output_type": "stream",
     "name": "stdout",
     "output_type": "stream",
     "text": [
      "--------------------------------------------------------------------------------\n"
     ]
    }
   ],
   "source": [
    "inspect_data(products_data, \"Products\")"
   ]
  },
  {
   "cell_type": "markdown",
   "metadata": {
    "application/vnd.databricks.v1+cell": {
     "cellMetadata": {
      "byteLimit": 2048000,
      "rowLimit": 10000
     },
     "inputWidgets": {},
     "nuid": "10d25dd4-8fe9-4763-9981-7ade54deb10e",
     "showTitle": false,
     "title": ""
    }
   },
   "source": [
    "%md\n",
    "    Inspection summary:\n",
    "    - Missing Data: product_category_name, product_name_lenght, product_description_lenght, and product_photos_qty.\n",
    "    - Duplicates: No duplicate rows found.\n",
    "    - Data Types: Appropriate, but some column names have typos.\n",
    "    - Product Dimensions: Zero values found in some dimensions (product_weight_g) which are invalid.\n",
    "\n",
    "    Checks and transformations applied:\n",
    "    1. Fixed typos in column names.\n",
    "    2. Assigned missing product_category_name with 'unknown'.\n",
    "    3. Standardized product_category_name to lowercase.\n",
    "    4. Replaced zero values in product dimensions with median values\n",
    "\n",
    "    "
   ]
  },
  {
   "cell_type": "code",
   "execution_count": 0,
   "metadata": {
    "application/vnd.databricks.v1+cell": {
     "cellMetadata": {
      "byteLimit": 2048000,
      "rowLimit": 10000
     },
     "inputWidgets": {},
     "nuid": "355c211c-46b0-4a80-8476-beee38e9b89b",
     "showTitle": false,
     "title": ""
    }
   },
   "outputs": [
    {
     "output_type": "stream",
     "name": "stdout",
     "output_type": "stream",
     "text": [
      "\nInspecting Products:\nFirst 10 Rows:\n"
     ]
    },
    {
     "output_type": "display_data",
     "data": {
      "text/html": [
       "<style scoped>\n",
       "  .table-result-container {\n",
       "    max-height: 300px;\n",
       "    overflow: auto;\n",
       "  }\n",
       "  table, th, td {\n",
       "    border: 1px solid black;\n",
       "    border-collapse: collapse;\n",
       "  }\n",
       "  th, td {\n",
       "    padding: 5px;\n",
       "  }\n",
       "  th {\n",
       "    text-align: left;\n",
       "  }\n",
       "</style><div class='table-result-container'><table class='table-result'><thead style='background-color: white'><tr><th>product_id</th><th>product_category_name</th><th>product_name_length</th><th>product_description_length</th><th>product_photos_qty</th><th>product_weight_g</th><th>product_length_cm</th><th>product_height_cm</th><th>product_width_cm</th></tr></thead><tbody><tr><td>1e9e8ef04dbcff4541ed26657ea517e5</td><td>perfumaria</td><td>40.0</td><td>287.0</td><td>1.0</td><td>225.0</td><td>16.0</td><td>10.0</td><td>14.0</td></tr><tr><td>3aa071139cb16b67ca9e5dea641aaa2f</td><td>artes</td><td>44.0</td><td>276.0</td><td>1.0</td><td>1000.0</td><td>30.0</td><td>18.0</td><td>20.0</td></tr><tr><td>96bd76ec8810374ed1b65e291975717f</td><td>esporte_lazer</td><td>46.0</td><td>250.0</td><td>1.0</td><td>154.0</td><td>18.0</td><td>9.0</td><td>15.0</td></tr><tr><td>cef67bcfe19066a932b7673e239eb23d</td><td>bebes</td><td>27.0</td><td>261.0</td><td>1.0</td><td>371.0</td><td>26.0</td><td>4.0</td><td>26.0</td></tr><tr><td>9dc1a7de274444849c219cff195d0b71</td><td>utilidades_domesticas</td><td>37.0</td><td>402.0</td><td>4.0</td><td>625.0</td><td>20.0</td><td>17.0</td><td>13.0</td></tr><tr><td>41d3672d4792049fa1779bb35283ed13</td><td>instrumentos_musicais</td><td>60.0</td><td>745.0</td><td>1.0</td><td>200.0</td><td>38.0</td><td>5.0</td><td>11.0</td></tr><tr><td>732bd381ad09e530fe0a5f457d81becb</td><td>cool_stuff</td><td>56.0</td><td>1272.0</td><td>4.0</td><td>18350.0</td><td>70.0</td><td>24.0</td><td>44.0</td></tr><tr><td>2548af3e6e77a690cf3eb6368e9ab61e</td><td>moveis_decoracao</td><td>56.0</td><td>184.0</td><td>2.0</td><td>900.0</td><td>40.0</td><td>8.0</td><td>40.0</td></tr><tr><td>37cc742be07708b53a98702e77a21a02</td><td>eletrodomesticos</td><td>57.0</td><td>163.0</td><td>1.0</td><td>400.0</td><td>27.0</td><td>13.0</td><td>17.0</td></tr><tr><td>8c92109888e8cdf9d66dc7e463025574</td><td>brinquedos</td><td>36.0</td><td>1156.0</td><td>1.0</td><td>600.0</td><td>17.0</td><td>10.0</td><td>12.0</td></tr></tbody></table></div>"
      ]
     },
     "metadata": {
      "application/vnd.databricks.v1+output": {
       "addedWidgets": {},
       "aggData": [],
       "aggError": "",
       "aggOverflow": false,
       "aggSchema": [],
       "aggSeriesLimitReached": false,
       "aggType": "",
       "arguments": {},
       "columnCustomDisplayInfos": {},
       "data": [
        [
         "1e9e8ef04dbcff4541ed26657ea517e5",
         "perfumaria",
         40.0,
         287.0,
         1.0,
         225.0,
         16.0,
         10.0,
         14.0
        ],
        [
         "3aa071139cb16b67ca9e5dea641aaa2f",
         "artes",
         44.0,
         276.0,
         1.0,
         1000.0,
         30.0,
         18.0,
         20.0
        ],
        [
         "96bd76ec8810374ed1b65e291975717f",
         "esporte_lazer",
         46.0,
         250.0,
         1.0,
         154.0,
         18.0,
         9.0,
         15.0
        ],
        [
         "cef67bcfe19066a932b7673e239eb23d",
         "bebes",
         27.0,
         261.0,
         1.0,
         371.0,
         26.0,
         4.0,
         26.0
        ],
        [
         "9dc1a7de274444849c219cff195d0b71",
         "utilidades_domesticas",
         37.0,
         402.0,
         4.0,
         625.0,
         20.0,
         17.0,
         13.0
        ],
        [
         "41d3672d4792049fa1779bb35283ed13",
         "instrumentos_musicais",
         60.0,
         745.0,
         1.0,
         200.0,
         38.0,
         5.0,
         11.0
        ],
        [
         "732bd381ad09e530fe0a5f457d81becb",
         "cool_stuff",
         56.0,
         1272.0,
         4.0,
         18350.0,
         70.0,
         24.0,
         44.0
        ],
        [
         "2548af3e6e77a690cf3eb6368e9ab61e",
         "moveis_decoracao",
         56.0,
         184.0,
         2.0,
         900.0,
         40.0,
         8.0,
         40.0
        ],
        [
         "37cc742be07708b53a98702e77a21a02",
         "eletrodomesticos",
         57.0,
         163.0,
         1.0,
         400.0,
         27.0,
         13.0,
         17.0
        ],
        [
         "8c92109888e8cdf9d66dc7e463025574",
         "brinquedos",
         36.0,
         1156.0,
         1.0,
         600.0,
         17.0,
         10.0,
         12.0
        ]
       ],
       "datasetInfos": [],
       "dbfsResultPath": null,
       "isJsonSchema": true,
       "metadata": {},
       "overflow": false,
       "plotOptions": {
        "customPlotOptions": {},
        "displayType": "table",
        "pivotAggregation": null,
        "pivotColumns": null,
        "xColumns": null,
        "yColumns": null
       },
       "removedWidgets": [],
       "schema": [
        {
         "metadata": "{}",
         "name": "product_id",
         "type": "\"string\""
        },
        {
         "metadata": "{}",
         "name": "product_category_name",
         "type": "\"string\""
        },
        {
         "metadata": "{}",
         "name": "product_name_length",
         "type": "\"double\""
        },
        {
         "metadata": "{}",
         "name": "product_description_length",
         "type": "\"double\""
        },
        {
         "metadata": "{}",
         "name": "product_photos_qty",
         "type": "\"double\""
        },
        {
         "metadata": "{}",
         "name": "product_weight_g",
         "type": "\"double\""
        },
        {
         "metadata": "{}",
         "name": "product_length_cm",
         "type": "\"double\""
        },
        {
         "metadata": "{}",
         "name": "product_height_cm",
         "type": "\"double\""
        },
        {
         "metadata": "{}",
         "name": "product_width_cm",
         "type": "\"double\""
        }
       ],
       "type": "table"
      }
     },
     "output_type": "display_data"
    },
    {
     "output_type": "stream",
     "name": "stdout",
     "output_type": "stream",
     "text": [
      "Basic Information:\n<class 'pandas.core.frame.DataFrame'>\nRangeIndex: 32951 entries, 0 to 32950\nData columns (total 9 columns):\n #   Column                      Non-Null Count  Dtype  \n---  ------                      --------------  -----  \n 0   product_id                  32951 non-null  object \n 1   product_category_name       32951 non-null  object \n 2   product_name_length         32951 non-null  float64\n 3   product_description_length  32951 non-null  float64\n 4   product_photos_qty          32951 non-null  float64\n 5   product_weight_g            32951 non-null  float64\n 6   product_length_cm           32951 non-null  float64\n 7   product_height_cm           32951 non-null  float64\n 8   product_width_cm            32951 non-null  float64\ndtypes: float64(7), object(2)\nmemory usage: 2.3+ MB\nBasic Statistics:\n       product_name_length  product_description_length  product_photos_qty  product_weight_g  product_length_cm  product_height_cm  product_width_cm\ncount         32951.000000                32951.000000        32951.000000      32951.000000       32951.000000       32951.000000      32951.000000\nmean             48.523656                  768.227945            2.166975       2276.461777          30.814725          16.937422         23.196534\nstd              10.156155                  629.658469            1.728063       4281.888156          16.914005          13.637175         12.078707\nmin               5.000000                    4.000000            1.000000          2.000000           7.000000           2.000000          6.000000\n25%              42.000000                  344.000000            1.000000        300.000000          18.000000           8.000000         15.000000\n50%              51.000000                  595.000000            1.000000        700.000000          25.000000          13.000000         20.000000\n75%              57.000000                  961.000000            3.000000       1900.000000          38.000000          21.000000         30.000000\nmax              76.000000                 3992.000000           20.000000      40425.000000         105.000000         105.000000        118.000000\nMissing Values:\n"
     ]
    },
    {
     "output_type": "display_data",
     "data": {
      "text/plain": [
       "product_id                    0\n",
       "product_category_name         0\n",
       "product_name_length           0\n",
       "product_description_length    0\n",
       "product_photos_qty            0\n",
       "product_weight_g              0\n",
       "product_length_cm             0\n",
       "product_height_cm             0\n",
       "product_width_cm              0\n",
       "dtype: int64"
      ]
     },
     "metadata": {},
     "output_type": "display_data"
    },
    {
     "output_type": "stream",
     "name": "stdout",
     "output_type": "stream",
     "text": [
      "Duplicate Rows:\n"
     ]
    },
    {
     "output_type": "display_data",
     "data": {
      "text/plain": [
       "0"
      ]
     },
     "metadata": {},
     "output_type": "display_data"
    },
    {
     "output_type": "stream",
     "name": "stdout",
     "output_type": "stream",
     "text": [
      "Value Counts for product_id:\n"
     ]
    },
    {
     "output_type": "display_data",
     "data": {
      "text/plain": [
       "1e9e8ef04dbcff4541ed26657ea517e5    1\n",
       "d05cc9afc85771f597cf4bc9d8f12546    1\n",
       "71b7afd92c42feab780d5ea512fc7348    1\n",
       "5c5f3e091101bea69642eb3dd145b17d    1\n",
       "16d47089f9bc7f16de16cc4bd3b9dd49    1\n",
       "b8be700cb8f91067761b685ac5d1664f    1\n",
       "2db85e45ff15b96518baa00fdacdc6c6    1\n",
       "bf348f19164cdedd0ae1cf7b1d72fede    1\n",
       "97de49733ccaac64d122444d8db709d1    1\n",
       "7ce94ab189134e2d3c05f496d635419c    1\n",
       "Name: product_id, dtype: int64"
      ]
     },
     "metadata": {},
     "output_type": "display_data"
    },
    {
     "output_type": "stream",
     "name": "stdout",
     "output_type": "stream",
     "text": [
      "Value Counts for product_category_name:\n"
     ]
    },
    {
     "output_type": "display_data",
     "data": {
      "text/plain": [
       "cama_mesa_banho           3029\n",
       "esporte_lazer             2867\n",
       "moveis_decoracao          2657\n",
       "beleza_saude              2444\n",
       "utilidades_domesticas     2335\n",
       "automotivo                1900\n",
       "informatica_acessorios    1639\n",
       "brinquedos                1411\n",
       "relogios_presentes        1329\n",
       "telefonia                 1134\n",
       "Name: product_category_name, dtype: int64"
      ]
     },
     "metadata": {},
     "output_type": "display_data"
    },
    {
     "output_type": "stream",
     "name": "stdout",
     "output_type": "stream",
     "text": [
      "--------------------------------------------------------------------------------\n"
     ]
    }
   ],
   "source": [
    "products_data_cleaned = products_data.copy()  # Creating a copy of the original dataFrame\n",
    "\n",
    "#1. Renaming columns to correct typos\n",
    "products_data_cleaned.rename(columns={'product_name_lenght': 'product_name_length', 'product_description_lenght': 'product_description_length'}, inplace=True)\n",
    "\n",
    "#2. Assigning missing product_category_name with 'unknown'\n",
    "products_data_cleaned['product_category_name'].fillna('unknown', inplace=True)\n",
    "\n",
    "#3. Standardizing product_category_name to lowercase\n",
    "columns_to_impute = [\n",
    "    'product_weight_g', 'product_length_cm', 'product_height_cm', 'product_width_cm',\n",
    "    'product_name_length', 'product_description_length', 'product_photos_qty'\n",
    "]\n",
    "for col in columns_to_impute:\n",
    "    products_data_cleaned[col] = products_data_cleaned[col].replace(0, None).fillna(products_data_cleaned[col].median())\n",
    "\n",
    "inspect_data(products_data_cleaned, \"Products\")"
   ]
  },
  {
   "cell_type": "markdown",
   "metadata": {
    "application/vnd.databricks.v1+cell": {
     "cellMetadata": {
      "byteLimit": 2048000,
      "rowLimit": 10000
     },
     "inputWidgets": {},
     "nuid": "93284ffa-6eb4-4e8b-a03e-032bc2901c2a",
     "showTitle": false,
     "title": ""
    }
   },
   "source": [
    "    5.4. Products Category Name Translation Dataset"
   ]
  },
  {
   "cell_type": "code",
   "execution_count": 0,
   "metadata": {
    "application/vnd.databricks.v1+cell": {
     "cellMetadata": {
      "byteLimit": 2048000,
      "rowLimit": 10000
     },
     "inputWidgets": {},
     "nuid": "cf9f06d8-d5c5-474f-8261-6b2c72030fc5",
     "showTitle": false,
     "title": ""
    }
   },
   "outputs": [
    {
     "output_type": "stream",
     "name": "stdout",
     "output_type": "stream",
     "text": [
      "\nInspecting Products Category Name Translation:\nFirst 10 Rows:\n"
     ]
    },
    {
     "output_type": "display_data",
     "data": {
      "text/html": [
       "<style scoped>\n",
       "  .table-result-container {\n",
       "    max-height: 300px;\n",
       "    overflow: auto;\n",
       "  }\n",
       "  table, th, td {\n",
       "    border: 1px solid black;\n",
       "    border-collapse: collapse;\n",
       "  }\n",
       "  th, td {\n",
       "    padding: 5px;\n",
       "  }\n",
       "  th {\n",
       "    text-align: left;\n",
       "  }\n",
       "</style><div class='table-result-container'><table class='table-result'><thead style='background-color: white'><tr><th>product_category_name</th><th>product_category_name_english</th></tr></thead><tbody><tr><td>beleza_saude</td><td>health_beauty</td></tr><tr><td>informatica_acessorios</td><td>computers_accessories</td></tr><tr><td>automotivo</td><td>auto</td></tr><tr><td>cama_mesa_banho</td><td>bed_bath_table</td></tr><tr><td>moveis_decoracao</td><td>furniture_decor</td></tr><tr><td>esporte_lazer</td><td>sports_leisure</td></tr><tr><td>perfumaria</td><td>perfumery</td></tr><tr><td>utilidades_domesticas</td><td>housewares</td></tr><tr><td>telefonia</td><td>telephony</td></tr><tr><td>relogios_presentes</td><td>watches_gifts</td></tr></tbody></table></div>"
      ]
     },
     "metadata": {
      "application/vnd.databricks.v1+output": {
       "addedWidgets": {},
       "aggData": [],
       "aggError": "",
       "aggOverflow": false,
       "aggSchema": [],
       "aggSeriesLimitReached": false,
       "aggType": "",
       "arguments": {},
       "columnCustomDisplayInfos": {},
       "data": [
        [
         "beleza_saude",
         "health_beauty"
        ],
        [
         "informatica_acessorios",
         "computers_accessories"
        ],
        [
         "automotivo",
         "auto"
        ],
        [
         "cama_mesa_banho",
         "bed_bath_table"
        ],
        [
         "moveis_decoracao",
         "furniture_decor"
        ],
        [
         "esporte_lazer",
         "sports_leisure"
        ],
        [
         "perfumaria",
         "perfumery"
        ],
        [
         "utilidades_domesticas",
         "housewares"
        ],
        [
         "telefonia",
         "telephony"
        ],
        [
         "relogios_presentes",
         "watches_gifts"
        ]
       ],
       "datasetInfos": [],
       "dbfsResultPath": null,
       "isJsonSchema": true,
       "metadata": {},
       "overflow": false,
       "plotOptions": {
        "customPlotOptions": {},
        "displayType": "table",
        "pivotAggregation": null,
        "pivotColumns": null,
        "xColumns": null,
        "yColumns": null
       },
       "removedWidgets": [],
       "schema": [
        {
         "metadata": "{}",
         "name": "product_category_name",
         "type": "\"string\""
        },
        {
         "metadata": "{}",
         "name": "product_category_name_english",
         "type": "\"string\""
        }
       ],
       "type": "table"
      }
     },
     "output_type": "display_data"
    },
    {
     "output_type": "stream",
     "name": "stdout",
     "output_type": "stream",
     "text": [
      "Basic Information:\n<class 'pandas.core.frame.DataFrame'>\nRangeIndex: 71 entries, 0 to 70\nData columns (total 2 columns):\n #   Column                         Non-Null Count  Dtype \n---  ------                         --------------  ----- \n 0   product_category_name          71 non-null     object\n 1   product_category_name_english  71 non-null     object\ndtypes: object(2)\nmemory usage: 1.2+ KB\nBasic Statistics:\n       product_category_name product_category_name_english\ncount                     71                            71\nunique                    71                            71\ntop             beleza_saude                 health_beauty\nfreq                       1                             1\nMissing Values:\n"
     ]
    },
    {
     "output_type": "display_data",
     "data": {
      "text/plain": [
       "product_category_name            0\n",
       "product_category_name_english    0\n",
       "dtype: int64"
      ]
     },
     "metadata": {},
     "output_type": "display_data"
    },
    {
     "output_type": "stream",
     "name": "stdout",
     "output_type": "stream",
     "text": [
      "Duplicate Rows:\n"
     ]
    },
    {
     "output_type": "display_data",
     "data": {
      "text/plain": [
       "0"
      ]
     },
     "metadata": {},
     "output_type": "display_data"
    },
    {
     "output_type": "stream",
     "name": "stdout",
     "output_type": "stream",
     "text": [
      "Value Counts for product_category_name:\n"
     ]
    },
    {
     "output_type": "display_data",
     "data": {
      "text/plain": [
       "beleza_saude                        1\n",
       "alimentos                           1\n",
       "fashion_esporte                     1\n",
       "fashion_underwear_e_moda_praia      1\n",
       "construcao_ferramentas_seguranca    1\n",
       "livros_interesse_geral              1\n",
       "moveis_quarto                       1\n",
       "artes                               1\n",
       "industria_comercio_e_negocios       1\n",
       "pcs                                 1\n",
       "Name: product_category_name, dtype: int64"
      ]
     },
     "metadata": {},
     "output_type": "display_data"
    },
    {
     "output_type": "stream",
     "name": "stdout",
     "output_type": "stream",
     "text": [
      "Value Counts for product_category_name_english:\n"
     ]
    },
    {
     "output_type": "display_data",
     "data": {
      "text/plain": [
       "health_beauty                     1\n",
       "food                              1\n",
       "fashion_sport                     1\n",
       "fashion_underwear_beach           1\n",
       "construction_tools_safety         1\n",
       "books_general_interest            1\n",
       "furniture_bedroom                 1\n",
       "art                               1\n",
       "industry_commerce_and_business    1\n",
       "computers                         1\n",
       "Name: product_category_name_english, dtype: int64"
      ]
     },
     "metadata": {},
     "output_type": "display_data"
    },
    {
     "output_type": "stream",
     "name": "stdout",
     "output_type": "stream",
     "text": [
      "--------------------------------------------------------------------------------\n"
     ]
    }
   ],
   "source": [
    "inspect_data(prod_name_translation_data, \"Products Category Name Translation\")"
   ]
  },
  {
   "cell_type": "markdown",
   "metadata": {
    "application/vnd.databricks.v1+cell": {
     "cellMetadata": {
      "byteLimit": 2048000,
      "rowLimit": 10000
     },
     "inputWidgets": {},
     "nuid": "fe6936dc-4780-44ab-a231-dbfceddb9802",
     "showTitle": false,
     "title": ""
    }
   },
   "source": [
    "    Inspection Summary:\n",
    "      - Missing Values: None.\n",
    "      - Duplicates: None.\n",
    "      - Data Types: Correct (object for both columns).\n",
    "      - Unique Values: Each category appears only once.\n",
    "      \n",
    "    Checks: \n",
    "     1. Ensuring consistent lowercase for both columns & checking for duplicates (as a safeguard)\n",
    "\n"
   ]
  },
  {
   "cell_type": "code",
   "execution_count": 0,
   "metadata": {
    "application/vnd.databricks.v1+cell": {
     "cellMetadata": {
      "byteLimit": 2048000,
      "rowLimit": 10000
     },
     "inputWidgets": {},
     "nuid": "fc43fdf0-44c9-481b-b1c9-1b7e94898c20",
     "showTitle": false,
     "title": ""
    }
   },
   "outputs": [
    {
     "output_type": "stream",
     "name": "stdout",
     "output_type": "stream",
     "text": [
      "\nInspecting Products Category Name Translation Cleaned:\nFirst 10 Rows:\n"
     ]
    },
    {
     "output_type": "display_data",
     "data": {
      "text/html": [
       "<style scoped>\n",
       "  .table-result-container {\n",
       "    max-height: 300px;\n",
       "    overflow: auto;\n",
       "  }\n",
       "  table, th, td {\n",
       "    border: 1px solid black;\n",
       "    border-collapse: collapse;\n",
       "  }\n",
       "  th, td {\n",
       "    padding: 5px;\n",
       "  }\n",
       "  th {\n",
       "    text-align: left;\n",
       "  }\n",
       "</style><div class='table-result-container'><table class='table-result'><thead style='background-color: white'><tr><th>product_category_name</th><th>product_category_name_english</th></tr></thead><tbody><tr><td>beleza_saude</td><td>health_beauty</td></tr><tr><td>informatica_acessorios</td><td>computers_accessories</td></tr><tr><td>automotivo</td><td>auto</td></tr><tr><td>cama_mesa_banho</td><td>bed_bath_table</td></tr><tr><td>moveis_decoracao</td><td>furniture_decor</td></tr><tr><td>esporte_lazer</td><td>sports_leisure</td></tr><tr><td>perfumaria</td><td>perfumery</td></tr><tr><td>utilidades_domesticas</td><td>housewares</td></tr><tr><td>telefonia</td><td>telephony</td></tr><tr><td>relogios_presentes</td><td>watches_gifts</td></tr></tbody></table></div>"
      ]
     },
     "metadata": {
      "application/vnd.databricks.v1+output": {
       "addedWidgets": {},
       "aggData": [],
       "aggError": "",
       "aggOverflow": false,
       "aggSchema": [],
       "aggSeriesLimitReached": false,
       "aggType": "",
       "arguments": {},
       "columnCustomDisplayInfos": {},
       "data": [
        [
         "beleza_saude",
         "health_beauty"
        ],
        [
         "informatica_acessorios",
         "computers_accessories"
        ],
        [
         "automotivo",
         "auto"
        ],
        [
         "cama_mesa_banho",
         "bed_bath_table"
        ],
        [
         "moveis_decoracao",
         "furniture_decor"
        ],
        [
         "esporte_lazer",
         "sports_leisure"
        ],
        [
         "perfumaria",
         "perfumery"
        ],
        [
         "utilidades_domesticas",
         "housewares"
        ],
        [
         "telefonia",
         "telephony"
        ],
        [
         "relogios_presentes",
         "watches_gifts"
        ]
       ],
       "datasetInfos": [],
       "dbfsResultPath": null,
       "isJsonSchema": true,
       "metadata": {},
       "overflow": false,
       "plotOptions": {
        "customPlotOptions": {},
        "displayType": "table",
        "pivotAggregation": null,
        "pivotColumns": null,
        "xColumns": null,
        "yColumns": null
       },
       "removedWidgets": [],
       "schema": [
        {
         "metadata": "{}",
         "name": "product_category_name",
         "type": "\"string\""
        },
        {
         "metadata": "{}",
         "name": "product_category_name_english",
         "type": "\"string\""
        }
       ],
       "type": "table"
      }
     },
     "output_type": "display_data"
    },
    {
     "output_type": "stream",
     "name": "stdout",
     "output_type": "stream",
     "text": [
      "Basic Information:\n<class 'pandas.core.frame.DataFrame'>\nInt64Index: 71 entries, 0 to 70\nData columns (total 2 columns):\n #   Column                         Non-Null Count  Dtype \n---  ------                         --------------  ----- \n 0   product_category_name          71 non-null     object\n 1   product_category_name_english  71 non-null     object\ndtypes: object(2)\nmemory usage: 1.7+ KB\nBasic Statistics:\n       product_category_name product_category_name_english\ncount                     71                            71\nunique                    71                            71\ntop             beleza_saude                 health_beauty\nfreq                       1                             1\nMissing Values:\n"
     ]
    },
    {
     "output_type": "display_data",
     "data": {
      "text/plain": [
       "product_category_name            0\n",
       "product_category_name_english    0\n",
       "dtype: int64"
      ]
     },
     "metadata": {},
     "output_type": "display_data"
    },
    {
     "output_type": "stream",
     "name": "stdout",
     "output_type": "stream",
     "text": [
      "Duplicate Rows:\n"
     ]
    },
    {
     "output_type": "display_data",
     "data": {
      "text/plain": [
       "0"
      ]
     },
     "metadata": {},
     "output_type": "display_data"
    },
    {
     "output_type": "stream",
     "name": "stdout",
     "output_type": "stream",
     "text": [
      "Value Counts for product_category_name:\n"
     ]
    },
    {
     "output_type": "display_data",
     "data": {
      "text/plain": [
       "beleza_saude                        1\n",
       "alimentos                           1\n",
       "fashion_esporte                     1\n",
       "fashion_underwear_e_moda_praia      1\n",
       "construcao_ferramentas_seguranca    1\n",
       "livros_interesse_geral              1\n",
       "moveis_quarto                       1\n",
       "artes                               1\n",
       "industria_comercio_e_negocios       1\n",
       "pcs                                 1\n",
       "Name: product_category_name, dtype: int64"
      ]
     },
     "metadata": {},
     "output_type": "display_data"
    },
    {
     "output_type": "stream",
     "name": "stdout",
     "output_type": "stream",
     "text": [
      "Value Counts for product_category_name_english:\n"
     ]
    },
    {
     "output_type": "display_data",
     "data": {
      "text/plain": [
       "health_beauty                     1\n",
       "food                              1\n",
       "fashion_sport                     1\n",
       "fashion_underwear_beach           1\n",
       "construction_tools_safety         1\n",
       "books_general_interest            1\n",
       "furniture_bedroom                 1\n",
       "art                               1\n",
       "industry_commerce_and_business    1\n",
       "computers                         1\n",
       "Name: product_category_name_english, dtype: int64"
      ]
     },
     "metadata": {},
     "output_type": "display_data"
    },
    {
     "output_type": "stream",
     "name": "stdout",
     "output_type": "stream",
     "text": [
      "--------------------------------------------------------------------------------\n"
     ]
    }
   ],
   "source": [
    "prod_name_translation_data_cleaned = prod_name_translation_data.copy()  # Creating a copy of the original dataFrame\n",
    "\n",
    "# 1. Ensuring consistent lowercase for both columns & checking for duplicates\n",
    "prod_name_translation_data_cleaned['product_category_name'] = prod_name_translation_data_cleaned['product_category_name'].str.lower()\n",
    "prod_name_translation_data_cleaned['product_category_name_english'] = prod_name_translation_data_cleaned['product_category_name_english'].str.lower()\n",
    "\n",
    "prod_name_translation_data_cleaned = prod_name_translation_data_cleaned.drop_duplicates()\n",
    "\n",
    "inspect_data(prod_name_translation_data_cleaned, \"Products Category Name Translation Cleaned\")\n"
   ]
  },
  {
   "cell_type": "markdown",
   "metadata": {
    "application/vnd.databricks.v1+cell": {
     "cellMetadata": {
      "byteLimit": 2048000,
      "rowLimit": 10000
     },
     "inputWidgets": {},
     "nuid": "e6984636-bafa-4d55-aea9-33e283dc1166",
     "showTitle": false,
     "title": ""
    }
   },
   "source": [
    "    5.5. Geolocation Dataset"
   ]
  },
  {
   "cell_type": "code",
   "execution_count": 0,
   "metadata": {
    "application/vnd.databricks.v1+cell": {
     "cellMetadata": {
      "byteLimit": 2048000,
      "rowLimit": 10000
     },
     "inputWidgets": {},
     "nuid": "81fcadbc-fee1-4b3a-b9c4-7eef9e98e924",
     "showTitle": false,
     "title": ""
    }
   },
   "outputs": [
    {
     "output_type": "stream",
     "name": "stdout",
     "output_type": "stream",
     "text": [
      "\nInspecting Geolocation Data:\nFirst 10 Rows:\n"
     ]
    },
    {
     "output_type": "display_data",
     "data": {
      "text/html": [
       "<style scoped>\n",
       "  .table-result-container {\n",
       "    max-height: 300px;\n",
       "    overflow: auto;\n",
       "  }\n",
       "  table, th, td {\n",
       "    border: 1px solid black;\n",
       "    border-collapse: collapse;\n",
       "  }\n",
       "  th, td {\n",
       "    padding: 5px;\n",
       "  }\n",
       "  th {\n",
       "    text-align: left;\n",
       "  }\n",
       "</style><div class='table-result-container'><table class='table-result'><thead style='background-color: white'><tr><th>geolocation_zip_code_prefix</th><th>geolocation_lat</th><th>geolocation_lng</th><th>geolocation_city</th><th>geolocation_state</th></tr></thead><tbody><tr><td>1037</td><td>-23.54562128115268</td><td>-46.63929204800168</td><td>sao paulo</td><td>SP</td></tr><tr><td>1046</td><td>-23.54608112703553</td><td>-46.64482029837157</td><td>sao paulo</td><td>SP</td></tr><tr><td>1046</td><td>-23.54612896641469</td><td>-46.64295148361138</td><td>sao paulo</td><td>SP</td></tr><tr><td>1041</td><td>-23.5443921648681</td><td>-46.63949930627844</td><td>sao paulo</td><td>SP</td></tr><tr><td>1035</td><td>-23.541577961711493</td><td>-46.64160722329613</td><td>sao paulo</td><td>SP</td></tr><tr><td>1012</td><td>-23.547762303364262</td><td>-46.63536053788448</td><td>são paulo</td><td>SP</td></tr><tr><td>1047</td><td>-23.54627311241268</td><td>-46.64122516971552</td><td>sao paulo</td><td>SP</td></tr><tr><td>1013</td><td>-23.546923208436723</td><td>-46.6342636964915</td><td>sao paulo</td><td>SP</td></tr><tr><td>1029</td><td>-23.543769055769133</td><td>-46.63427784085132</td><td>sao paulo</td><td>SP</td></tr><tr><td>1011</td><td>-23.547639550320632</td><td>-46.63603162315495</td><td>sao paulo</td><td>SP</td></tr></tbody></table></div>"
      ]
     },
     "metadata": {
      "application/vnd.databricks.v1+output": {
       "addedWidgets": {},
       "aggData": [],
       "aggError": "",
       "aggOverflow": false,
       "aggSchema": [],
       "aggSeriesLimitReached": false,
       "aggType": "",
       "arguments": {},
       "columnCustomDisplayInfos": {},
       "data": [
        [
         1037,
         -23.54562128115268,
         -46.63929204800168,
         "sao paulo",
         "SP"
        ],
        [
         1046,
         -23.54608112703553,
         -46.64482029837157,
         "sao paulo",
         "SP"
        ],
        [
         1046,
         -23.54612896641469,
         -46.64295148361138,
         "sao paulo",
         "SP"
        ],
        [
         1041,
         -23.5443921648681,
         -46.63949930627844,
         "sao paulo",
         "SP"
        ],
        [
         1035,
         -23.541577961711493,
         -46.64160722329613,
         "sao paulo",
         "SP"
        ],
        [
         1012,
         -23.547762303364262,
         -46.63536053788448,
         "são paulo",
         "SP"
        ],
        [
         1047,
         -23.54627311241268,
         -46.64122516971552,
         "sao paulo",
         "SP"
        ],
        [
         1013,
         -23.546923208436723,
         -46.6342636964915,
         "sao paulo",
         "SP"
        ],
        [
         1029,
         -23.543769055769133,
         -46.63427784085132,
         "sao paulo",
         "SP"
        ],
        [
         1011,
         -23.547639550320632,
         -46.63603162315495,
         "sao paulo",
         "SP"
        ]
       ],
       "datasetInfos": [],
       "dbfsResultPath": null,
       "isJsonSchema": true,
       "metadata": {},
       "overflow": false,
       "plotOptions": {
        "customPlotOptions": {},
        "displayType": "table",
        "pivotAggregation": null,
        "pivotColumns": null,
        "xColumns": null,
        "yColumns": null
       },
       "removedWidgets": [],
       "schema": [
        {
         "metadata": "{}",
         "name": "geolocation_zip_code_prefix",
         "type": "\"long\""
        },
        {
         "metadata": "{}",
         "name": "geolocation_lat",
         "type": "\"double\""
        },
        {
         "metadata": "{}",
         "name": "geolocation_lng",
         "type": "\"double\""
        },
        {
         "metadata": "{}",
         "name": "geolocation_city",
         "type": "\"string\""
        },
        {
         "metadata": "{}",
         "name": "geolocation_state",
         "type": "\"string\""
        }
       ],
       "type": "table"
      }
     },
     "output_type": "display_data"
    },
    {
     "output_type": "stream",
     "name": "stdout",
     "output_type": "stream",
     "text": [
      "Basic Information:\n<class 'pandas.core.frame.DataFrame'>\nRangeIndex: 1000163 entries, 0 to 1000162\nData columns (total 5 columns):\n #   Column                       Non-Null Count    Dtype  \n---  ------                       --------------    -----  \n 0   geolocation_zip_code_prefix  1000163 non-null  int64  \n 1   geolocation_lat              1000163 non-null  float64\n 2   geolocation_lng              1000163 non-null  float64\n 3   geolocation_city             1000163 non-null  object \n 4   geolocation_state            1000163 non-null  object \ndtypes: float64(2), int64(1), object(2)\nmemory usage: 38.2+ MB\nBasic Statistics:\n       geolocation_zip_code_prefix  geolocation_lat  geolocation_lng\ncount                 1.000163e+06     1.000163e+06     1.000163e+06\nmean                  3.657417e+04    -2.117615e+01    -4.639054e+01\nstd                   3.054934e+04     5.715866e+00     4.269748e+00\nmin                   1.001000e+03    -3.660537e+01    -1.014668e+02\n25%                   1.107500e+04    -2.360355e+01    -4.857317e+01\n50%                   2.653000e+04    -2.291938e+01    -4.663788e+01\n75%                   6.350400e+04    -1.997962e+01    -4.376771e+01\nmax                   9.999000e+04     4.506593e+01     1.211054e+02\nMissing Values:\n"
     ]
    },
    {
     "output_type": "display_data",
     "data": {
      "text/plain": [
       "geolocation_zip_code_prefix    0\n",
       "geolocation_lat                0\n",
       "geolocation_lng                0\n",
       "geolocation_city               0\n",
       "geolocation_state              0\n",
       "dtype: int64"
      ]
     },
     "metadata": {},
     "output_type": "display_data"
    },
    {
     "output_type": "stream",
     "name": "stdout",
     "output_type": "stream",
     "text": [
      "Duplicate Rows:\n"
     ]
    },
    {
     "output_type": "display_data",
     "data": {
      "text/plain": [
       "261831"
      ]
     },
     "metadata": {},
     "output_type": "display_data"
    },
    {
     "output_type": "stream",
     "name": "stdout",
     "output_type": "stream",
     "text": [
      "Value Counts for geolocation_city:\n"
     ]
    },
    {
     "output_type": "display_data",
     "data": {
      "text/plain": [
       "sao paulo                135800\n",
       "rio de janeiro            62151\n",
       "belo horizonte            27805\n",
       "são paulo                 24918\n",
       "curitiba                  16593\n",
       "porto alegre              13521\n",
       "salvador                  11865\n",
       "guarulhos                 11340\n",
       "brasilia                  10470\n",
       "sao bernardo do campo      8112\n",
       "Name: geolocation_city, dtype: int64"
      ]
     },
     "metadata": {},
     "output_type": "display_data"
    },
    {
     "output_type": "stream",
     "name": "stdout",
     "output_type": "stream",
     "text": [
      "Value Counts for geolocation_state:\n"
     ]
    },
    {
     "output_type": "display_data",
     "data": {
      "text/plain": [
       "SP    404268\n",
       "MG    126336\n",
       "RJ    121169\n",
       "RS     61851\n",
       "PR     57859\n",
       "SC     38328\n",
       "BA     36045\n",
       "GO     20139\n",
       "ES     16748\n",
       "PE     16432\n",
       "Name: geolocation_state, dtype: int64"
      ]
     },
     "metadata": {},
     "output_type": "display_data"
    },
    {
     "output_type": "stream",
     "name": "stdout",
     "output_type": "stream",
     "text": [
      "--------------------------------------------------------------------------------\n"
     ]
    }
   ],
   "source": [
    "inspect_data(geolocation_data, \"Geolocation Data\")"
   ]
  },
  {
   "cell_type": "markdown",
   "metadata": {
    "application/vnd.databricks.v1+cell": {
     "cellMetadata": {
      "byteLimit": 2048000,
      "rowLimit": 10000
     },
     "inputWidgets": {},
     "nuid": "820629a0-11bd-485f-9ddc-e34903dbe4c1",
     "showTitle": false,
     "title": ""
    }
   },
   "source": [
    "    Inspection Summary for Geolocation Dataset:\n",
    "      - Missing Values: None.\n",
    "      - Duplicate rows found.\n",
    "      - Data Types: Correct. \n",
    "      - City Names: Some inconsistencies (\"sao paulo\" & \"são paulo\").\n",
    "    \n",
    "    Transformations Applied:\n",
    "      1. Standardized city inconcistencies & names to consistent case.\n",
    "      2. Removed dublicate rows."
   ]
  },
  {
   "cell_type": "code",
   "execution_count": 0,
   "metadata": {
    "application/vnd.databricks.v1+cell": {
     "cellMetadata": {
      "byteLimit": 2048000,
      "rowLimit": 10000
     },
     "inputWidgets": {},
     "nuid": "06e91a60-6b58-444e-838b-9e6bf69f439a",
     "showTitle": false,
     "title": ""
    }
   },
   "outputs": [
    {
     "output_type": "stream",
     "name": "stdout",
     "output_type": "stream",
     "text": [
      "\nInspecting Geolocation Data Cleaned:\nFirst 10 Rows:\n"
     ]
    },
    {
     "output_type": "display_data",
     "data": {
      "text/html": [
       "<style scoped>\n",
       "  .table-result-container {\n",
       "    max-height: 300px;\n",
       "    overflow: auto;\n",
       "  }\n",
       "  table, th, td {\n",
       "    border: 1px solid black;\n",
       "    border-collapse: collapse;\n",
       "  }\n",
       "  th, td {\n",
       "    padding: 5px;\n",
       "  }\n",
       "  th {\n",
       "    text-align: left;\n",
       "  }\n",
       "</style><div class='table-result-container'><table class='table-result'><thead style='background-color: white'><tr><th>geolocation_zip_code_prefix</th><th>geolocation_lat</th><th>geolocation_lng</th><th>geolocation_city</th><th>geolocation_state</th></tr></thead><tbody><tr><td>1037</td><td>-23.54562128115268</td><td>-46.63929204800168</td><td>Sao Paulo</td><td>SP</td></tr><tr><td>1046</td><td>-23.54608112703553</td><td>-46.64482029837157</td><td>Sao Paulo</td><td>SP</td></tr><tr><td>1046</td><td>-23.54612896641469</td><td>-46.64295148361138</td><td>Sao Paulo</td><td>SP</td></tr><tr><td>1041</td><td>-23.5443921648681</td><td>-46.63949930627844</td><td>Sao Paulo</td><td>SP</td></tr><tr><td>1035</td><td>-23.541577961711493</td><td>-46.64160722329613</td><td>Sao Paulo</td><td>SP</td></tr><tr><td>1012</td><td>-23.547762303364262</td><td>-46.63536053788448</td><td>Sao Paulo</td><td>SP</td></tr><tr><td>1047</td><td>-23.54627311241268</td><td>-46.64122516971552</td><td>Sao Paulo</td><td>SP</td></tr><tr><td>1013</td><td>-23.546923208436723</td><td>-46.6342636964915</td><td>Sao Paulo</td><td>SP</td></tr><tr><td>1029</td><td>-23.543769055769133</td><td>-46.63427784085132</td><td>Sao Paulo</td><td>SP</td></tr><tr><td>1011</td><td>-23.547639550320632</td><td>-46.63603162315495</td><td>Sao Paulo</td><td>SP</td></tr></tbody></table></div>"
      ]
     },
     "metadata": {
      "application/vnd.databricks.v1+output": {
       "addedWidgets": {},
       "aggData": [],
       "aggError": "",
       "aggOverflow": false,
       "aggSchema": [],
       "aggSeriesLimitReached": false,
       "aggType": "",
       "arguments": {},
       "columnCustomDisplayInfos": {},
       "data": [
        [
         1037,
         -23.54562128115268,
         -46.63929204800168,
         "Sao Paulo",
         "SP"
        ],
        [
         1046,
         -23.54608112703553,
         -46.64482029837157,
         "Sao Paulo",
         "SP"
        ],
        [
         1046,
         -23.54612896641469,
         -46.64295148361138,
         "Sao Paulo",
         "SP"
        ],
        [
         1041,
         -23.5443921648681,
         -46.63949930627844,
         "Sao Paulo",
         "SP"
        ],
        [
         1035,
         -23.541577961711493,
         -46.64160722329613,
         "Sao Paulo",
         "SP"
        ],
        [
         1012,
         -23.547762303364262,
         -46.63536053788448,
         "Sao Paulo",
         "SP"
        ],
        [
         1047,
         -23.54627311241268,
         -46.64122516971552,
         "Sao Paulo",
         "SP"
        ],
        [
         1013,
         -23.546923208436723,
         -46.6342636964915,
         "Sao Paulo",
         "SP"
        ],
        [
         1029,
         -23.543769055769133,
         -46.63427784085132,
         "Sao Paulo",
         "SP"
        ],
        [
         1011,
         -23.547639550320632,
         -46.63603162315495,
         "Sao Paulo",
         "SP"
        ]
       ],
       "datasetInfos": [],
       "dbfsResultPath": null,
       "isJsonSchema": true,
       "metadata": {},
       "overflow": false,
       "plotOptions": {
        "customPlotOptions": {},
        "displayType": "table",
        "pivotAggregation": null,
        "pivotColumns": null,
        "xColumns": null,
        "yColumns": null
       },
       "removedWidgets": [],
       "schema": [
        {
         "metadata": "{}",
         "name": "geolocation_zip_code_prefix",
         "type": "\"long\""
        },
        {
         "metadata": "{}",
         "name": "geolocation_lat",
         "type": "\"double\""
        },
        {
         "metadata": "{}",
         "name": "geolocation_lng",
         "type": "\"double\""
        },
        {
         "metadata": "{}",
         "name": "geolocation_city",
         "type": "\"string\""
        },
        {
         "metadata": "{}",
         "name": "geolocation_state",
         "type": "\"string\""
        }
       ],
       "type": "table"
      }
     },
     "output_type": "display_data"
    },
    {
     "output_type": "stream",
     "name": "stdout",
     "output_type": "stream",
     "text": [
      "Basic Information:\n<class 'pandas.core.frame.DataFrame'>\nInt64Index: 730481 entries, 0 to 1000161\nData columns (total 5 columns):\n #   Column                       Non-Null Count   Dtype  \n---  ------                       --------------   -----  \n 0   geolocation_zip_code_prefix  730481 non-null  int64  \n 1   geolocation_lat              730481 non-null  float64\n 2   geolocation_lng              730481 non-null  float64\n 3   geolocation_city             730481 non-null  object \n 4   geolocation_state            730481 non-null  object \ndtypes: float64(2), int64(1), object(2)\nmemory usage: 33.4+ MB\nBasic Statistics:\n       geolocation_zip_code_prefix  geolocation_lat  geolocation_lng\ncount                730481.000000    730481.000000    730481.000000\nmean                  38686.408510       -20.970693       -46.459132\nstd                   30586.055973         5.917815         4.417205\nmin                    1001.000000       -36.605374      -101.466766\n25%                   13053.000000       -23.602779       -48.913822\n50%                   29360.000000       -22.860066       -46.646554\n75%                   66093.000000       -19.913593       -43.790969\nmax                   99990.000000        45.065933       121.105394\nMissing Values:\n"
     ]
    },
    {
     "output_type": "display_data",
     "data": {
      "text/plain": [
       "geolocation_zip_code_prefix    0\n",
       "geolocation_lat                0\n",
       "geolocation_lng                0\n",
       "geolocation_city               0\n",
       "geolocation_state              0\n",
       "dtype: int64"
      ]
     },
     "metadata": {},
     "output_type": "display_data"
    },
    {
     "output_type": "stream",
     "name": "stdout",
     "output_type": "stream",
     "text": [
      "Duplicate Rows:\n"
     ]
    },
    {
     "output_type": "display_data",
     "data": {
      "text/plain": [
       "0"
      ]
     },
     "metadata": {},
     "output_type": "display_data"
    },
    {
     "output_type": "stream",
     "name": "stdout",
     "output_type": "stream",
     "text": [
      "Value Counts for geolocation_city:\n"
     ]
    },
    {
     "output_type": "display_data",
     "data": {
      "text/plain": [
       "Sao Paulo                91794\n",
       "Rio De Janeiro           35177\n",
       "Belo Horizonte           19474\n",
       "Curitiba                 11263\n",
       "Porto Alegre              8702\n",
       "Salvador                  8083\n",
       "Guarulhos                 7411\n",
       "Brasilia                  6919\n",
       "Osasco                    4993\n",
       "Sao Bernardo Do Campo     4732\n",
       "Name: geolocation_city, dtype: int64"
      ]
     },
     "metadata": {},
     "output_type": "display_data"
    },
    {
     "output_type": "stream",
     "name": "stdout",
     "output_type": "stream",
     "text": [
      "Value Counts for geolocation_state:\n"
     ]
    },
    {
     "output_type": "display_data",
     "data": {
      "text/plain": [
       "SP    278125\n",
       "MG    101353\n",
       "RJ     78836\n",
       "RS     48093\n",
       "PR     45059\n",
       "SC     30191\n",
       "BA     27720\n",
       "GO     15601\n",
       "PE     13162\n",
       "ES     12632\n",
       "Name: geolocation_state, dtype: int64"
      ]
     },
     "metadata": {},
     "output_type": "display_data"
    },
    {
     "output_type": "stream",
     "name": "stdout",
     "output_type": "stream",
     "text": [
      "--------------------------------------------------------------------------------\n"
     ]
    }
   ],
   "source": [
    "geolocation_data_cleaned = geolocation_data.copy()  # Creating a copy of the original dataFrame\n",
    "\n",
    "# 1. Replacing 'são paulo' with 'sao paulo' & standardizing city names to title case\n",
    "geolocation_data_cleaned['geolocation_city'] = geolocation_data_cleaned['geolocation_city'].replace('são paulo', 'sao paulo')\n",
    "geolocation_data_cleaned['geolocation_city'] = geolocation_data_cleaned['geolocation_city'].str.title()\n",
    "\n",
    "# 2. Removing duplicate rows\n",
    "geolocation_data_cleaned = geolocation_data_cleaned.drop_duplicates()\n",
    "\n",
    "inspect_data(geolocation_data_cleaned, \"Geolocation Data Cleaned\")"
   ]
  },
  {
   "cell_type": "markdown",
   "metadata": {
    "application/vnd.databricks.v1+cell": {
     "cellMetadata": {
      "byteLimit": 2048000,
      "rowLimit": 10000
     },
     "inputWidgets": {},
     "nuid": "6ac7d7ba-3441-49bb-b11c-560a970fc0dd",
     "showTitle": false,
     "title": ""
    }
   },
   "source": [
    "    5.6. Order Items Dataset"
   ]
  },
  {
   "cell_type": "code",
   "execution_count": 0,
   "metadata": {
    "application/vnd.databricks.v1+cell": {
     "cellMetadata": {
      "byteLimit": 2048000,
      "rowLimit": 10000
     },
     "inputWidgets": {},
     "nuid": "c9ecd8f8-1834-4f47-a494-6a0223089e8f",
     "showTitle": false,
     "title": ""
    }
   },
   "outputs": [
    {
     "output_type": "stream",
     "name": "stdout",
     "output_type": "stream",
     "text": [
      "\nInspecting Order Items Data:\nFirst 10 Rows:\n"
     ]
    },
    {
     "output_type": "display_data",
     "data": {
      "text/html": [
       "<style scoped>\n",
       "  .table-result-container {\n",
       "    max-height: 300px;\n",
       "    overflow: auto;\n",
       "  }\n",
       "  table, th, td {\n",
       "    border: 1px solid black;\n",
       "    border-collapse: collapse;\n",
       "  }\n",
       "  th, td {\n",
       "    padding: 5px;\n",
       "  }\n",
       "  th {\n",
       "    text-align: left;\n",
       "  }\n",
       "</style><div class='table-result-container'><table class='table-result'><thead style='background-color: white'><tr><th>order_id</th><th>order_item_id</th><th>product_id</th><th>seller_id</th><th>shipping_limit_date</th><th>price</th><th>freight_value</th></tr></thead><tbody><tr><td>00010242fe8c5a6d1ba2dd792cb16214</td><td>1</td><td>4244733e06e7ecb4970a6e2683c13e61</td><td>48436dade18ac8b2bce089ec2a041202</td><td>2017-09-19 09:45:35</td><td>58.9</td><td>13.29</td></tr><tr><td>00018f77f2f0320c557190d7a144bdd3</td><td>1</td><td>e5f2d52b802189ee658865ca93d83a8f</td><td>dd7ddc04e1b6c2c614352b383efe2d36</td><td>2017-05-03 11:05:13</td><td>239.9</td><td>19.93</td></tr><tr><td>000229ec398224ef6ca0657da4fc703e</td><td>1</td><td>c777355d18b72b67abbeef9df44fd0fd</td><td>5b51032eddd242adc84c38acab88f23d</td><td>2018-01-18 14:48:30</td><td>199.0</td><td>17.87</td></tr><tr><td>00024acbcdf0a6daa1e931b038114c75</td><td>1</td><td>7634da152a4610f1595efa32f14722fc</td><td>9d7a1d34a5052409006425275ba1c2b4</td><td>2018-08-15 10:10:18</td><td>12.99</td><td>12.79</td></tr><tr><td>00042b26cf59d7ce69dfabb4e55b4fd9</td><td>1</td><td>ac6c3623068f30de03045865e4e10089</td><td>df560393f3a51e74553ab94004ba5c87</td><td>2017-02-13 13:57:51</td><td>199.9</td><td>18.14</td></tr><tr><td>00048cc3ae777c65dbb7d2a0634bc1ea</td><td>1</td><td>ef92defde845ab8450f9d70c526ef70f</td><td>6426d21aca402a131fc0a5d0960a3c90</td><td>2017-05-23 03:55:27</td><td>21.9</td><td>12.69</td></tr><tr><td>00054e8431b9d7675808bcb819fb4a32</td><td>1</td><td>8d4f2bb7e93e6710a28f34fa83ee7d28</td><td>7040e82f899a04d1b434b795a43b4617</td><td>2017-12-14 12:10:31</td><td>19.9</td><td>11.85</td></tr><tr><td>000576fe39319847cbb9d288c5617fa6</td><td>1</td><td>557d850972a7d6f792fd18ae1400d9b6</td><td>5996cddab893a4652a15592fb58ab8db</td><td>2018-07-10 12:30:45</td><td>810.0</td><td>70.75</td></tr><tr><td>0005a1a1728c9d785b8e2b08b904576c</td><td>1</td><td>310ae3c140ff94b03219ad0adc3c778f</td><td>a416b6a846a11724393025641d4edd5e</td><td>2018-03-26 18:31:29</td><td>145.95</td><td>11.65</td></tr><tr><td>0005f50442cb953dcd1d21e1fb923495</td><td>1</td><td>4535b0e1091c278dfd193e5a1d63b39f</td><td>ba143b05f0110f0dc71ad71b4466ce92</td><td>2018-07-06 14:10:56</td><td>53.99</td><td>11.4</td></tr></tbody></table></div>"
      ]
     },
     "metadata": {
      "application/vnd.databricks.v1+output": {
       "addedWidgets": {},
       "aggData": [],
       "aggError": "",
       "aggOverflow": false,
       "aggSchema": [],
       "aggSeriesLimitReached": false,
       "aggType": "",
       "arguments": {},
       "columnCustomDisplayInfos": {},
       "data": [
        [
         "00010242fe8c5a6d1ba2dd792cb16214",
         1,
         "4244733e06e7ecb4970a6e2683c13e61",
         "48436dade18ac8b2bce089ec2a041202",
         "2017-09-19 09:45:35",
         58.9,
         13.29
        ],
        [
         "00018f77f2f0320c557190d7a144bdd3",
         1,
         "e5f2d52b802189ee658865ca93d83a8f",
         "dd7ddc04e1b6c2c614352b383efe2d36",
         "2017-05-03 11:05:13",
         239.9,
         19.93
        ],
        [
         "000229ec398224ef6ca0657da4fc703e",
         1,
         "c777355d18b72b67abbeef9df44fd0fd",
         "5b51032eddd242adc84c38acab88f23d",
         "2018-01-18 14:48:30",
         199.0,
         17.87
        ],
        [
         "00024acbcdf0a6daa1e931b038114c75",
         1,
         "7634da152a4610f1595efa32f14722fc",
         "9d7a1d34a5052409006425275ba1c2b4",
         "2018-08-15 10:10:18",
         12.99,
         12.79
        ],
        [
         "00042b26cf59d7ce69dfabb4e55b4fd9",
         1,
         "ac6c3623068f30de03045865e4e10089",
         "df560393f3a51e74553ab94004ba5c87",
         "2017-02-13 13:57:51",
         199.9,
         18.14
        ],
        [
         "00048cc3ae777c65dbb7d2a0634bc1ea",
         1,
         "ef92defde845ab8450f9d70c526ef70f",
         "6426d21aca402a131fc0a5d0960a3c90",
         "2017-05-23 03:55:27",
         21.9,
         12.69
        ],
        [
         "00054e8431b9d7675808bcb819fb4a32",
         1,
         "8d4f2bb7e93e6710a28f34fa83ee7d28",
         "7040e82f899a04d1b434b795a43b4617",
         "2017-12-14 12:10:31",
         19.9,
         11.85
        ],
        [
         "000576fe39319847cbb9d288c5617fa6",
         1,
         "557d850972a7d6f792fd18ae1400d9b6",
         "5996cddab893a4652a15592fb58ab8db",
         "2018-07-10 12:30:45",
         810.0,
         70.75
        ],
        [
         "0005a1a1728c9d785b8e2b08b904576c",
         1,
         "310ae3c140ff94b03219ad0adc3c778f",
         "a416b6a846a11724393025641d4edd5e",
         "2018-03-26 18:31:29",
         145.95,
         11.65
        ],
        [
         "0005f50442cb953dcd1d21e1fb923495",
         1,
         "4535b0e1091c278dfd193e5a1d63b39f",
         "ba143b05f0110f0dc71ad71b4466ce92",
         "2018-07-06 14:10:56",
         53.99,
         11.4
        ]
       ],
       "datasetInfos": [],
       "dbfsResultPath": null,
       "isJsonSchema": true,
       "metadata": {},
       "overflow": false,
       "plotOptions": {
        "customPlotOptions": {},
        "displayType": "table",
        "pivotAggregation": null,
        "pivotColumns": null,
        "xColumns": null,
        "yColumns": null
       },
       "removedWidgets": [],
       "schema": [
        {
         "metadata": "{}",
         "name": "order_id",
         "type": "\"string\""
        },
        {
         "metadata": "{}",
         "name": "order_item_id",
         "type": "\"long\""
        },
        {
         "metadata": "{}",
         "name": "product_id",
         "type": "\"string\""
        },
        {
         "metadata": "{}",
         "name": "seller_id",
         "type": "\"string\""
        },
        {
         "metadata": "{}",
         "name": "shipping_limit_date",
         "type": "\"string\""
        },
        {
         "metadata": "{}",
         "name": "price",
         "type": "\"double\""
        },
        {
         "metadata": "{}",
         "name": "freight_value",
         "type": "\"double\""
        }
       ],
       "type": "table"
      }
     },
     "output_type": "display_data"
    },
    {
     "output_type": "stream",
     "name": "stdout",
     "output_type": "stream",
     "text": [
      "Basic Information:\n<class 'pandas.core.frame.DataFrame'>\nRangeIndex: 112650 entries, 0 to 112649\nData columns (total 7 columns):\n #   Column               Non-Null Count   Dtype  \n---  ------               --------------   -----  \n 0   order_id             112650 non-null  object \n 1   order_item_id        112650 non-null  int64  \n 2   product_id           112650 non-null  object \n 3   seller_id            112650 non-null  object \n 4   shipping_limit_date  112650 non-null  object \n 5   price                112650 non-null  float64\n 6   freight_value        112650 non-null  float64\ndtypes: float64(2), int64(1), object(4)\nmemory usage: 6.0+ MB\nBasic Statistics:\n       order_item_id          price  freight_value\ncount  112650.000000  112650.000000  112650.000000\nmean        1.197834     120.653739      19.990320\nstd         0.705124     183.633928      15.806405\nmin         1.000000       0.850000       0.000000\n25%         1.000000      39.900000      13.080000\n50%         1.000000      74.990000      16.260000\n75%         1.000000     134.900000      21.150000\nmax        21.000000    6735.000000     409.680000\nMissing Values:\n"
     ]
    },
    {
     "output_type": "display_data",
     "data": {
      "text/plain": [
       "order_id               0\n",
       "order_item_id          0\n",
       "product_id             0\n",
       "seller_id              0\n",
       "shipping_limit_date    0\n",
       "price                  0\n",
       "freight_value          0\n",
       "dtype: int64"
      ]
     },
     "metadata": {},
     "output_type": "display_data"
    },
    {
     "output_type": "stream",
     "name": "stdout",
     "output_type": "stream",
     "text": [
      "Duplicate Rows:\n"
     ]
    },
    {
     "output_type": "display_data",
     "data": {
      "text/plain": [
       "0"
      ]
     },
     "metadata": {},
     "output_type": "display_data"
    },
    {
     "output_type": "stream",
     "name": "stdout",
     "output_type": "stream",
     "text": [
      "Value Counts for order_id:\n"
     ]
    },
    {
     "output_type": "display_data",
     "data": {
      "text/plain": [
       "8272b63d03f5f79c56e9e4120aec44ef    21\n",
       "1b15974a0141d54e36626dca3fdc731a    20\n",
       "ab14fdcfbe524636d65ee38360e22ce8    20\n",
       "9ef13efd6949e4573a18964dd1bbe7f5    15\n",
       "428a2f660dc84138d969ccd69a0ab6d5    15\n",
       "9bdc4d4c71aa1de4606060929dee888c    14\n",
       "73c8ab38f07dc94389065f7eba4f297a    14\n",
       "37ee401157a3a0b28c9c6d0ed8c3b24b    13\n",
       "2c2a19b5703863c908512d135aa6accc    12\n",
       "c05d6a79e55da72ca780ce90364abed9    12\n",
       "Name: order_id, dtype: int64"
      ]
     },
     "metadata": {},
     "output_type": "display_data"
    },
    {
     "output_type": "stream",
     "name": "stdout",
     "output_type": "stream",
     "text": [
      "Value Counts for product_id:\n"
     ]
    },
    {
     "output_type": "display_data",
     "data": {
      "text/plain": [
       "aca2eb7d00ea1a7b8ebd4e68314663af    527\n",
       "99a4788cb24856965c36a24e339b6058    488\n",
       "422879e10f46682990de24d770e7f83d    484\n",
       "389d119b48cf3043d311335e499d9c6b    392\n",
       "368c6c730842d78016ad823897a372db    388\n",
       "53759a2ecddad2bb87a079a1f1519f73    373\n",
       "d1c427060a0f73f6b889a5c7c61f2ac4    343\n",
       "53b36df67ebb7c41585e8d54d6772e08    323\n",
       "154e7e31ebfa092203795c972e5804a6    281\n",
       "3dd2a17168ec895c781a9191c1e95ad7    274\n",
       "Name: product_id, dtype: int64"
      ]
     },
     "metadata": {},
     "output_type": "display_data"
    },
    {
     "output_type": "stream",
     "name": "stdout",
     "output_type": "stream",
     "text": [
      "Value Counts for seller_id:\n"
     ]
    },
    {
     "output_type": "display_data",
     "data": {
      "text/plain": [
       "6560211a19b47992c3666cc44a7e94c0    2033\n",
       "4a3ca9315b744ce9f8e9374361493884    1987\n",
       "1f50f920176fa81dab994f9023523100    1931\n",
       "cc419e0650a3c5ba77189a1882b7556a    1775\n",
       "da8622b14eb17ae2831f4ac5b9dab84a    1551\n",
       "955fee9216a65b617aa5c0531780ce60    1499\n",
       "1025f0e2d44d7041d6cf58b6550e0bfa    1428\n",
       "7c67e1448b00f6e969d365cea6b010ab    1364\n",
       "ea8482cd71df3c1969d7b9473ff13abc    1203\n",
       "7a67c85e85bb2ce8582c35f2203ad736    1171\n",
       "Name: seller_id, dtype: int64"
      ]
     },
     "metadata": {},
     "output_type": "display_data"
    },
    {
     "output_type": "stream",
     "name": "stdout",
     "output_type": "stream",
     "text": [
      "Value Counts for shipping_limit_date:\n"
     ]
    },
    {
     "output_type": "display_data",
     "data": {
      "text/plain": [
       "2017-07-21 18:25:23    21\n",
       "2018-03-01 02:50:48    21\n",
       "2017-08-30 14:30:23    20\n",
       "2017-02-03 21:44:49    15\n",
       "2017-12-21 02:30:41    15\n",
       "2017-11-30 10:30:51    15\n",
       "2018-02-28 11:48:12    14\n",
       "2018-04-19 02:30:52    13\n",
       "2018-04-25 22:11:43    13\n",
       "2018-06-13 17:30:35    13\n",
       "Name: shipping_limit_date, dtype: int64"
      ]
     },
     "metadata": {},
     "output_type": "display_data"
    },
    {
     "output_type": "stream",
     "name": "stdout",
     "output_type": "stream",
     "text": [
      "--------------------------------------------------------------------------------\n"
     ]
    }
   ],
   "source": [
    "inspect_data(order_items_data, \"Order Items Data\") "
   ]
  },
  {
   "cell_type": "markdown",
   "metadata": {
    "application/vnd.databricks.v1+cell": {
     "cellMetadata": {
      "byteLimit": 2048000,
      "rowLimit": 10000
     },
     "inputWidgets": {},
     "nuid": "66e1794b-741c-432e-86f9-99d6fe1891bb",
     "showTitle": false,
     "title": ""
    }
   },
   "source": [
    "    Insepction summary:\n",
    "      - No missing values.\n",
    "      - No duplicate rows.\n",
    "      - Data types: Shipping limit date should be converted to datetime\n",
    "      - Freight value has a minimum value of 0.\n",
    "\n",
    "    Checks and transformations applied:\n",
    "      1. Converted shipping_limit_date to datetime format.  \n",
    "      2. Remove = rows with freight_value equal to 0, as 0 might be incorrect or missing.\n",
    "\n"
   ]
  },
  {
   "cell_type": "code",
   "execution_count": 0,
   "metadata": {
    "application/vnd.databricks.v1+cell": {
     "cellMetadata": {
      "byteLimit": 2048000,
      "rowLimit": 10000
     },
     "inputWidgets": {},
     "nuid": "03d82afe-3437-4078-9ffa-d78ef67a5cf6",
     "showTitle": false,
     "title": ""
    }
   },
   "outputs": [
    {
     "output_type": "stream",
     "name": "stdout",
     "output_type": "stream",
     "text": [
      "\nInspecting Order Items Data Cleaned:\nFirst 10 Rows:\n"
     ]
    },
    {
     "output_type": "display_data",
     "data": {
      "text/html": [
       "<style scoped>\n",
       "  .table-result-container {\n",
       "    max-height: 300px;\n",
       "    overflow: auto;\n",
       "  }\n",
       "  table, th, td {\n",
       "    border: 1px solid black;\n",
       "    border-collapse: collapse;\n",
       "  }\n",
       "  th, td {\n",
       "    padding: 5px;\n",
       "  }\n",
       "  th {\n",
       "    text-align: left;\n",
       "  }\n",
       "</style><div class='table-result-container'><table class='table-result'><thead style='background-color: white'><tr><th>order_id</th><th>order_item_id</th><th>product_id</th><th>seller_id</th><th>shipping_limit_date</th><th>price</th><th>freight_value</th></tr></thead><tbody><tr><td>00010242fe8c5a6d1ba2dd792cb16214</td><td>1</td><td>4244733e06e7ecb4970a6e2683c13e61</td><td>48436dade18ac8b2bce089ec2a041202</td><td>2017-09-19T09:45:35Z</td><td>58.9</td><td>13.29</td></tr><tr><td>00018f77f2f0320c557190d7a144bdd3</td><td>1</td><td>e5f2d52b802189ee658865ca93d83a8f</td><td>dd7ddc04e1b6c2c614352b383efe2d36</td><td>2017-05-03T11:05:13Z</td><td>239.9</td><td>19.93</td></tr><tr><td>000229ec398224ef6ca0657da4fc703e</td><td>1</td><td>c777355d18b72b67abbeef9df44fd0fd</td><td>5b51032eddd242adc84c38acab88f23d</td><td>2018-01-18T14:48:30Z</td><td>199.0</td><td>17.87</td></tr><tr><td>00024acbcdf0a6daa1e931b038114c75</td><td>1</td><td>7634da152a4610f1595efa32f14722fc</td><td>9d7a1d34a5052409006425275ba1c2b4</td><td>2018-08-15T10:10:18Z</td><td>12.99</td><td>12.79</td></tr><tr><td>00042b26cf59d7ce69dfabb4e55b4fd9</td><td>1</td><td>ac6c3623068f30de03045865e4e10089</td><td>df560393f3a51e74553ab94004ba5c87</td><td>2017-02-13T13:57:51Z</td><td>199.9</td><td>18.14</td></tr><tr><td>00048cc3ae777c65dbb7d2a0634bc1ea</td><td>1</td><td>ef92defde845ab8450f9d70c526ef70f</td><td>6426d21aca402a131fc0a5d0960a3c90</td><td>2017-05-23T03:55:27Z</td><td>21.9</td><td>12.69</td></tr><tr><td>00054e8431b9d7675808bcb819fb4a32</td><td>1</td><td>8d4f2bb7e93e6710a28f34fa83ee7d28</td><td>7040e82f899a04d1b434b795a43b4617</td><td>2017-12-14T12:10:31Z</td><td>19.9</td><td>11.85</td></tr><tr><td>000576fe39319847cbb9d288c5617fa6</td><td>1</td><td>557d850972a7d6f792fd18ae1400d9b6</td><td>5996cddab893a4652a15592fb58ab8db</td><td>2018-07-10T12:30:45Z</td><td>810.0</td><td>70.75</td></tr><tr><td>0005a1a1728c9d785b8e2b08b904576c</td><td>1</td><td>310ae3c140ff94b03219ad0adc3c778f</td><td>a416b6a846a11724393025641d4edd5e</td><td>2018-03-26T18:31:29Z</td><td>145.95</td><td>11.65</td></tr><tr><td>0005f50442cb953dcd1d21e1fb923495</td><td>1</td><td>4535b0e1091c278dfd193e5a1d63b39f</td><td>ba143b05f0110f0dc71ad71b4466ce92</td><td>2018-07-06T14:10:56Z</td><td>53.99</td><td>11.4</td></tr></tbody></table></div>"
      ]
     },
     "metadata": {
      "application/vnd.databricks.v1+output": {
       "addedWidgets": {},
       "aggData": [],
       "aggError": "",
       "aggOverflow": false,
       "aggSchema": [],
       "aggSeriesLimitReached": false,
       "aggType": "",
       "arguments": {},
       "columnCustomDisplayInfos": {},
       "data": [
        [
         "00010242fe8c5a6d1ba2dd792cb16214",
         1,
         "4244733e06e7ecb4970a6e2683c13e61",
         "48436dade18ac8b2bce089ec2a041202",
         "2017-09-19T09:45:35Z",
         58.9,
         13.29
        ],
        [
         "00018f77f2f0320c557190d7a144bdd3",
         1,
         "e5f2d52b802189ee658865ca93d83a8f",
         "dd7ddc04e1b6c2c614352b383efe2d36",
         "2017-05-03T11:05:13Z",
         239.9,
         19.93
        ],
        [
         "000229ec398224ef6ca0657da4fc703e",
         1,
         "c777355d18b72b67abbeef9df44fd0fd",
         "5b51032eddd242adc84c38acab88f23d",
         "2018-01-18T14:48:30Z",
         199.0,
         17.87
        ],
        [
         "00024acbcdf0a6daa1e931b038114c75",
         1,
         "7634da152a4610f1595efa32f14722fc",
         "9d7a1d34a5052409006425275ba1c2b4",
         "2018-08-15T10:10:18Z",
         12.99,
         12.79
        ],
        [
         "00042b26cf59d7ce69dfabb4e55b4fd9",
         1,
         "ac6c3623068f30de03045865e4e10089",
         "df560393f3a51e74553ab94004ba5c87",
         "2017-02-13T13:57:51Z",
         199.9,
         18.14
        ],
        [
         "00048cc3ae777c65dbb7d2a0634bc1ea",
         1,
         "ef92defde845ab8450f9d70c526ef70f",
         "6426d21aca402a131fc0a5d0960a3c90",
         "2017-05-23T03:55:27Z",
         21.9,
         12.69
        ],
        [
         "00054e8431b9d7675808bcb819fb4a32",
         1,
         "8d4f2bb7e93e6710a28f34fa83ee7d28",
         "7040e82f899a04d1b434b795a43b4617",
         "2017-12-14T12:10:31Z",
         19.9,
         11.85
        ],
        [
         "000576fe39319847cbb9d288c5617fa6",
         1,
         "557d850972a7d6f792fd18ae1400d9b6",
         "5996cddab893a4652a15592fb58ab8db",
         "2018-07-10T12:30:45Z",
         810.0,
         70.75
        ],
        [
         "0005a1a1728c9d785b8e2b08b904576c",
         1,
         "310ae3c140ff94b03219ad0adc3c778f",
         "a416b6a846a11724393025641d4edd5e",
         "2018-03-26T18:31:29Z",
         145.95,
         11.65
        ],
        [
         "0005f50442cb953dcd1d21e1fb923495",
         1,
         "4535b0e1091c278dfd193e5a1d63b39f",
         "ba143b05f0110f0dc71ad71b4466ce92",
         "2018-07-06T14:10:56Z",
         53.99,
         11.4
        ]
       ],
       "datasetInfos": [],
       "dbfsResultPath": null,
       "isJsonSchema": true,
       "metadata": {},
       "overflow": false,
       "plotOptions": {
        "customPlotOptions": {},
        "displayType": "table",
        "pivotAggregation": null,
        "pivotColumns": null,
        "xColumns": null,
        "yColumns": null
       },
       "removedWidgets": [],
       "schema": [
        {
         "metadata": "{}",
         "name": "order_id",
         "type": "\"string\""
        },
        {
         "metadata": "{}",
         "name": "order_item_id",
         "type": "\"long\""
        },
        {
         "metadata": "{}",
         "name": "product_id",
         "type": "\"string\""
        },
        {
         "metadata": "{}",
         "name": "seller_id",
         "type": "\"string\""
        },
        {
         "metadata": "{}",
         "name": "shipping_limit_date",
         "type": "\"timestamp\""
        },
        {
         "metadata": "{}",
         "name": "price",
         "type": "\"double\""
        },
        {
         "metadata": "{}",
         "name": "freight_value",
         "type": "\"double\""
        }
       ],
       "type": "table"
      }
     },
     "output_type": "display_data"
    },
    {
     "output_type": "stream",
     "name": "stdout",
     "output_type": "stream",
     "text": [
      "Basic Information:\n<class 'pandas.core.frame.DataFrame'>\nInt64Index: 112267 entries, 0 to 112649\nData columns (total 7 columns):\n #   Column               Non-Null Count   Dtype         \n---  ------               --------------   -----         \n 0   order_id             112267 non-null  object        \n 1   order_item_id        112267 non-null  int64         \n 2   product_id           112267 non-null  object        \n 3   seller_id            112267 non-null  object        \n 4   shipping_limit_date  112267 non-null  datetime64[ns]\n 5   price                112267 non-null  float64       \n 6   freight_value        112267 non-null  float64       \ndtypes: datetime64[ns](1), float64(2), int64(1), object(3)\nmemory usage: 6.9+ MB\nBasic Statistics:\n       order_item_id            shipping_limit_date          price  freight_value\ncount  112267.000000                         112267  112267.000000  112267.000000\nmean        1.198010  2018-01-07 06:17:30.524499712     120.728970      20.058517\nmin         1.000000            2016-09-19 00:15:34       0.850000       0.010000\n25%         1.000000     2017-09-20 12:10:26.500000      39.900000      13.100000\n50%         1.000000            2018-01-25 20:57:58      74.900000      16.290000\n75%         1.000000            2018-05-10 13:30:30     134.990000      21.170000\nmax        21.000000            2020-04-09 22:35:08    6735.000000     409.680000\nstd         0.705803                            NaN     183.919245      15.790087\nMissing Values:\n"
     ]
    },
    {
     "output_type": "display_data",
     "data": {
      "text/plain": [
       "order_id               0\n",
       "order_item_id          0\n",
       "product_id             0\n",
       "seller_id              0\n",
       "shipping_limit_date    0\n",
       "price                  0\n",
       "freight_value          0\n",
       "dtype: int64"
      ]
     },
     "metadata": {},
     "output_type": "display_data"
    },
    {
     "output_type": "stream",
     "name": "stdout",
     "output_type": "stream",
     "text": [
      "Duplicate Rows:\n"
     ]
    },
    {
     "output_type": "display_data",
     "data": {
      "text/plain": [
       "0"
      ]
     },
     "metadata": {},
     "output_type": "display_data"
    },
    {
     "output_type": "stream",
     "name": "stdout",
     "output_type": "stream",
     "text": [
      "Value Counts for order_id:\n"
     ]
    },
    {
     "output_type": "display_data",
     "data": {
      "text/plain": [
       "8272b63d03f5f79c56e9e4120aec44ef    21\n",
       "ab14fdcfbe524636d65ee38360e22ce8    20\n",
       "1b15974a0141d54e36626dca3fdc731a    20\n",
       "428a2f660dc84138d969ccd69a0ab6d5    15\n",
       "9ef13efd6949e4573a18964dd1bbe7f5    15\n",
       "73c8ab38f07dc94389065f7eba4f297a    14\n",
       "9bdc4d4c71aa1de4606060929dee888c    14\n",
       "37ee401157a3a0b28c9c6d0ed8c3b24b    13\n",
       "637617b3ffe9e2f7a2411243829226d0    12\n",
       "af822dacd6f5cff7376413c03a388bb7    12\n",
       "Name: order_id, dtype: int64"
      ]
     },
     "metadata": {},
     "output_type": "display_data"
    },
    {
     "output_type": "stream",
     "name": "stdout",
     "output_type": "stream",
     "text": [
      "Value Counts for product_id:\n"
     ]
    },
    {
     "output_type": "display_data",
     "data": {
      "text/plain": [
       "99a4788cb24856965c36a24e339b6058    488\n",
       "aca2eb7d00ea1a7b8ebd4e68314663af    429\n",
       "422879e10f46682990de24d770e7f83d    428\n",
       "389d119b48cf3043d311335e499d9c6b    392\n",
       "368c6c730842d78016ad823897a372db    388\n",
       "53759a2ecddad2bb87a079a1f1519f73    373\n",
       "d1c427060a0f73f6b889a5c7c61f2ac4    343\n",
       "154e7e31ebfa092203795c972e5804a6    281\n",
       "3dd2a17168ec895c781a9191c1e95ad7    274\n",
       "2b4609f8948be18874494203496bc318    259\n",
       "Name: product_id, dtype: int64"
      ]
     },
     "metadata": {},
     "output_type": "display_data"
    },
    {
     "output_type": "stream",
     "name": "stdout",
     "output_type": "stream",
     "text": [
      "Value Counts for seller_id:\n"
     ]
    },
    {
     "output_type": "display_data",
     "data": {
      "text/plain": [
       "6560211a19b47992c3666cc44a7e94c0    2033\n",
       "4a3ca9315b744ce9f8e9374361493884    1987\n",
       "1f50f920176fa81dab994f9023523100    1875\n",
       "cc419e0650a3c5ba77189a1882b7556a    1774\n",
       "da8622b14eb17ae2831f4ac5b9dab84a    1551\n",
       "1025f0e2d44d7041d6cf58b6550e0bfa    1428\n",
       "955fee9216a65b617aa5c0531780ce60    1400\n",
       "7c67e1448b00f6e969d365cea6b010ab    1364\n",
       "ea8482cd71df3c1969d7b9473ff13abc    1203\n",
       "7a67c85e85bb2ce8582c35f2203ad736    1171\n",
       "Name: seller_id, dtype: int64"
      ]
     },
     "metadata": {},
     "output_type": "display_data"
    },
    {
     "output_type": "stream",
     "name": "stdout",
     "output_type": "stream",
     "text": [
      "--------------------------------------------------------------------------------\n"
     ]
    }
   ],
   "source": [
    "order_items_data_cleaned = order_items_data.copy()  # Creating a copy of the original dataFrame\n",
    "\n",
    "#1. Converting 'shipping_limit_date' to datetime format\n",
    "order_items_data_cleaned['shipping_limit_date'] = pd.to_datetime(order_items_data_cleaned['shipping_limit_date'], errors='coerce')\n",
    "\n",
    "#2. Removing rows where 'freight_value' is 0\n",
    "order_items_data_cleaned = order_items_data_cleaned[order_items_data_cleaned['freight_value'] > 0]\n",
    "\n",
    "inspect_data(order_items_data_cleaned, \"Order Items Data Cleaned\") "
   ]
  },
  {
   "cell_type": "markdown",
   "metadata": {
    "application/vnd.databricks.v1+cell": {
     "cellMetadata": {
      "byteLimit": 2048000,
      "rowLimit": 10000
     },
     "inputWidgets": {},
     "nuid": "d6bc1542-caeb-4fe2-a7b0-d50b97583374",
     "showTitle": false,
     "title": ""
    }
   },
   "source": [
    "    5.7. Order Payments Dataset"
   ]
  },
  {
   "cell_type": "code",
   "execution_count": 0,
   "metadata": {
    "application/vnd.databricks.v1+cell": {
     "cellMetadata": {
      "byteLimit": 2048000,
      "rowLimit": 10000
     },
     "inputWidgets": {},
     "nuid": "b3848619-12e6-480a-82bf-a43e6ad4a010",
     "showTitle": false,
     "title": ""
    }
   },
   "outputs": [
    {
     "output_type": "stream",
     "name": "stdout",
     "output_type": "stream",
     "text": [
      "\nInspecting Order Payments Data:\nFirst 10 Rows:\n"
     ]
    },
    {
     "output_type": "display_data",
     "data": {
      "text/html": [
       "<style scoped>\n",
       "  .table-result-container {\n",
       "    max-height: 300px;\n",
       "    overflow: auto;\n",
       "  }\n",
       "  table, th, td {\n",
       "    border: 1px solid black;\n",
       "    border-collapse: collapse;\n",
       "  }\n",
       "  th, td {\n",
       "    padding: 5px;\n",
       "  }\n",
       "  th {\n",
       "    text-align: left;\n",
       "  }\n",
       "</style><div class='table-result-container'><table class='table-result'><thead style='background-color: white'><tr><th>order_id</th><th>payment_sequential</th><th>payment_type</th><th>payment_installments</th><th>payment_value</th></tr></thead><tbody><tr><td>b81ef226f3fe1789b1e8b2acac839d17</td><td>1</td><td>credit_card</td><td>8</td><td>99.33</td></tr><tr><td>a9810da82917af2d9aefd1278f1dcfa0</td><td>1</td><td>credit_card</td><td>1</td><td>24.39</td></tr><tr><td>25e8ea4e93396b6fa0d3dd708e76c1bd</td><td>1</td><td>credit_card</td><td>1</td><td>65.71</td></tr><tr><td>ba78997921bbcdc1373bb41e913ab953</td><td>1</td><td>credit_card</td><td>8</td><td>107.78</td></tr><tr><td>42fdf880ba16b47b59251dd489d4441a</td><td>1</td><td>credit_card</td><td>2</td><td>128.45</td></tr><tr><td>298fcdf1f73eb413e4d26d01b25bc1cd</td><td>1</td><td>credit_card</td><td>2</td><td>96.12</td></tr><tr><td>771ee386b001f06208a7419e4fc1bbd7</td><td>1</td><td>credit_card</td><td>1</td><td>81.16</td></tr><tr><td>3d7239c394a212faae122962df514ac7</td><td>1</td><td>credit_card</td><td>3</td><td>51.84</td></tr><tr><td>1f78449c87a54faf9e96e88ba1491fa9</td><td>1</td><td>credit_card</td><td>6</td><td>341.09</td></tr><tr><td>0573b5e23cbd798006520e1d5b4c6714</td><td>1</td><td>boleto</td><td>1</td><td>51.95</td></tr></tbody></table></div>"
      ]
     },
     "metadata": {
      "application/vnd.databricks.v1+output": {
       "addedWidgets": {},
       "aggData": [],
       "aggError": "",
       "aggOverflow": false,
       "aggSchema": [],
       "aggSeriesLimitReached": false,
       "aggType": "",
       "arguments": {},
       "columnCustomDisplayInfos": {},
       "data": [
        [
         "b81ef226f3fe1789b1e8b2acac839d17",
         1,
         "credit_card",
         8,
         99.33
        ],
        [
         "a9810da82917af2d9aefd1278f1dcfa0",
         1,
         "credit_card",
         1,
         24.39
        ],
        [
         "25e8ea4e93396b6fa0d3dd708e76c1bd",
         1,
         "credit_card",
         1,
         65.71
        ],
        [
         "ba78997921bbcdc1373bb41e913ab953",
         1,
         "credit_card",
         8,
         107.78
        ],
        [
         "42fdf880ba16b47b59251dd489d4441a",
         1,
         "credit_card",
         2,
         128.45
        ],
        [
         "298fcdf1f73eb413e4d26d01b25bc1cd",
         1,
         "credit_card",
         2,
         96.12
        ],
        [
         "771ee386b001f06208a7419e4fc1bbd7",
         1,
         "credit_card",
         1,
         81.16
        ],
        [
         "3d7239c394a212faae122962df514ac7",
         1,
         "credit_card",
         3,
         51.84
        ],
        [
         "1f78449c87a54faf9e96e88ba1491fa9",
         1,
         "credit_card",
         6,
         341.09
        ],
        [
         "0573b5e23cbd798006520e1d5b4c6714",
         1,
         "boleto",
         1,
         51.95
        ]
       ],
       "datasetInfos": [],
       "dbfsResultPath": null,
       "isJsonSchema": true,
       "metadata": {},
       "overflow": false,
       "plotOptions": {
        "customPlotOptions": {},
        "displayType": "table",
        "pivotAggregation": null,
        "pivotColumns": null,
        "xColumns": null,
        "yColumns": null
       },
       "removedWidgets": [],
       "schema": [
        {
         "metadata": "{}",
         "name": "order_id",
         "type": "\"string\""
        },
        {
         "metadata": "{}",
         "name": "payment_sequential",
         "type": "\"long\""
        },
        {
         "metadata": "{}",
         "name": "payment_type",
         "type": "\"string\""
        },
        {
         "metadata": "{}",
         "name": "payment_installments",
         "type": "\"long\""
        },
        {
         "metadata": "{}",
         "name": "payment_value",
         "type": "\"double\""
        }
       ],
       "type": "table"
      }
     },
     "output_type": "display_data"
    },
    {
     "output_type": "stream",
     "name": "stdout",
     "output_type": "stream",
     "text": [
      "Basic Information:\n<class 'pandas.core.frame.DataFrame'>\nRangeIndex: 103886 entries, 0 to 103885\nData columns (total 5 columns):\n #   Column                Non-Null Count   Dtype  \n---  ------                --------------   -----  \n 0   order_id              103886 non-null  object \n 1   payment_sequential    103886 non-null  int64  \n 2   payment_type          103886 non-null  object \n 3   payment_installments  103886 non-null  int64  \n 4   payment_value         103886 non-null  float64\ndtypes: float64(1), int64(2), object(2)\nmemory usage: 4.0+ MB\nBasic Statistics:\n       payment_sequential  payment_installments  payment_value\ncount       103886.000000         103886.000000  103886.000000\nmean             1.092679              2.853349     154.100380\nstd              0.706584              2.687051     217.494064\nmin              1.000000              0.000000       0.000000\n25%              1.000000              1.000000      56.790000\n50%              1.000000              1.000000     100.000000\n75%              1.000000              4.000000     171.837500\nmax             29.000000             24.000000   13664.080000\nMissing Values:\n"
     ]
    },
    {
     "output_type": "display_data",
     "data": {
      "text/plain": [
       "order_id                0\n",
       "payment_sequential      0\n",
       "payment_type            0\n",
       "payment_installments    0\n",
       "payment_value           0\n",
       "dtype: int64"
      ]
     },
     "metadata": {},
     "output_type": "display_data"
    },
    {
     "output_type": "stream",
     "name": "stdout",
     "output_type": "stream",
     "text": [
      "Duplicate Rows:\n"
     ]
    },
    {
     "output_type": "display_data",
     "data": {
      "text/plain": [
       "0"
      ]
     },
     "metadata": {},
     "output_type": "display_data"
    },
    {
     "output_type": "stream",
     "name": "stdout",
     "output_type": "stream",
     "text": [
      "Value Counts for order_id:\n"
     ]
    },
    {
     "output_type": "display_data",
     "data": {
      "text/plain": [
       "fa65dad1b0e818e3ccc5cb0e39231352    29\n",
       "ccf804e764ed5650cd8759557269dc13    26\n",
       "285c2e15bebd4ac83635ccc563dc71f4    22\n",
       "895ab968e7bb0d5659d16cd74cd1650c    21\n",
       "fedcd9f7ccdc8cba3a18defedd1a5547    19\n",
       "ee9ca989fc93ba09a6eddc250ce01742    19\n",
       "4bfcba9e084f46c8e3cb49b0fa6e6159    15\n",
       "21577126c19bf11a0b91592e5844ba78    15\n",
       "3c58bffb70dcf45f12bdf66a3c215905    14\n",
       "4689b1816de42507a7d63a4617383c59    14\n",
       "Name: order_id, dtype: int64"
      ]
     },
     "metadata": {},
     "output_type": "display_data"
    },
    {
     "output_type": "stream",
     "name": "stdout",
     "output_type": "stream",
     "text": [
      "Value Counts for payment_type:\n"
     ]
    },
    {
     "output_type": "display_data",
     "data": {
      "text/plain": [
       "credit_card    76795\n",
       "boleto         19784\n",
       "voucher         5775\n",
       "debit_card      1529\n",
       "not_defined        3\n",
       "Name: payment_type, dtype: int64"
      ]
     },
     "metadata": {},
     "output_type": "display_data"
    },
    {
     "output_type": "stream",
     "name": "stdout",
     "output_type": "stream",
     "text": [
      "--------------------------------------------------------------------------------\n"
     ]
    }
   ],
   "source": [
    "inspect_data(order_payments_data, \"Order Payments Data\")"
   ]
  },
  {
   "cell_type": "markdown",
   "metadata": {
    "application/vnd.databricks.v1+cell": {
     "cellMetadata": {
      "byteLimit": 2048000,
      "rowLimit": 10000
     },
     "inputWidgets": {},
     "nuid": "8b1b5d96-7237-46e7-92cd-77cb738d6b92",
     "showTitle": false,
     "title": ""
    }
   },
   "source": [
    "      Inspection Summary for Order Payments Dataset:\n",
    "        - Missing Values: None.\n",
    "        - Duplicates: No duplicate rows found.\n",
    "        - Data Types: Correct \n",
    "      Key Observations:\n",
    "        - payment_installments has a minimum value of 0, which needs validation.\n",
    "        - payment_value has a minimum value of 0, which may be incorrect.\n",
    "      Transformations Applied:\n",
    "      1. Handled rows where payment_installments or payment_value are 0."
   ]
  },
  {
   "cell_type": "code",
   "execution_count": 0,
   "metadata": {
    "application/vnd.databricks.v1+cell": {
     "cellMetadata": {
      "byteLimit": 2048000,
      "rowLimit": 10000
     },
     "inputWidgets": {},
     "nuid": "eaaac580-c9ca-429c-97e5-d4d75cbc6890",
     "showTitle": false,
     "title": ""
    }
   },
   "outputs": [
    {
     "output_type": "display_data",
     "data": {
      "text/html": [
       "<style scoped>\n",
       "  .table-result-container {\n",
       "    max-height: 300px;\n",
       "    overflow: auto;\n",
       "  }\n",
       "  table, th, td {\n",
       "    border: 1px solid black;\n",
       "    border-collapse: collapse;\n",
       "  }\n",
       "  th, td {\n",
       "    padding: 5px;\n",
       "  }\n",
       "  th {\n",
       "    text-align: left;\n",
       "  }\n",
       "</style><div class='table-result-container'><table class='table-result'><thead style='background-color: white'><tr><th>order_id</th><th>payment_sequential</th><th>payment_type</th><th>payment_installments</th><th>payment_value</th></tr></thead><tbody><tr><td>8bcbe01d44d147f901cd3192671144db</td><td>4</td><td>voucher</td><td>1</td><td>0.0</td></tr><tr><td>fa65dad1b0e818e3ccc5cb0e39231352</td><td>14</td><td>voucher</td><td>1</td><td>0.0</td></tr><tr><td>6ccb433e00daae1283ccc956189c82ae</td><td>4</td><td>voucher</td><td>1</td><td>0.0</td></tr><tr><td>744bade1fcf9ff3f31d860ace076d422</td><td>2</td><td>credit_card</td><td>0</td><td>58.69</td></tr><tr><td>4637ca194b6387e2d538dc89b124b0ee</td><td>1</td><td>not_defined</td><td>1</td><td>0.0</td></tr><tr><td>00b1cb0320190ca0daa2c88b35206009</td><td>1</td><td>not_defined</td><td>1</td><td>0.0</td></tr><tr><td>45ed6e85398a87c253db47c2d9f48216</td><td>3</td><td>voucher</td><td>1</td><td>0.0</td></tr><tr><td>fa65dad1b0e818e3ccc5cb0e39231352</td><td>13</td><td>voucher</td><td>1</td><td>0.0</td></tr><tr><td>1a57108394169c0b47d8f876acc9ba2d</td><td>2</td><td>credit_card</td><td>0</td><td>129.94</td></tr><tr><td>c8c528189310eaa44a745b8d9d26908b</td><td>1</td><td>not_defined</td><td>1</td><td>0.0</td></tr><tr><td>b23878b3e8eb4d25a158f57d96331b18</td><td>4</td><td>voucher</td><td>1</td><td>0.0</td></tr></tbody></table></div>"
      ]
     },
     "metadata": {
      "application/vnd.databricks.v1+output": {
       "addedWidgets": {},
       "aggData": [],
       "aggError": "",
       "aggOverflow": false,
       "aggSchema": [],
       "aggSeriesLimitReached": false,
       "aggType": "",
       "arguments": {},
       "columnCustomDisplayInfos": {},
       "data": [
        [
         "8bcbe01d44d147f901cd3192671144db",
         4,
         "voucher",
         1,
         0.0
        ],
        [
         "fa65dad1b0e818e3ccc5cb0e39231352",
         14,
         "voucher",
         1,
         0.0
        ],
        [
         "6ccb433e00daae1283ccc956189c82ae",
         4,
         "voucher",
         1,
         0.0
        ],
        [
         "744bade1fcf9ff3f31d860ace076d422",
         2,
         "credit_card",
         0,
         58.69
        ],
        [
         "4637ca194b6387e2d538dc89b124b0ee",
         1,
         "not_defined",
         1,
         0.0
        ],
        [
         "00b1cb0320190ca0daa2c88b35206009",
         1,
         "not_defined",
         1,
         0.0
        ],
        [
         "45ed6e85398a87c253db47c2d9f48216",
         3,
         "voucher",
         1,
         0.0
        ],
        [
         "fa65dad1b0e818e3ccc5cb0e39231352",
         13,
         "voucher",
         1,
         0.0
        ],
        [
         "1a57108394169c0b47d8f876acc9ba2d",
         2,
         "credit_card",
         0,
         129.94
        ],
        [
         "c8c528189310eaa44a745b8d9d26908b",
         1,
         "not_defined",
         1,
         0.0
        ],
        [
         "b23878b3e8eb4d25a158f57d96331b18",
         4,
         "voucher",
         1,
         0.0
        ]
       ],
       "datasetInfos": [],
       "dbfsResultPath": null,
       "isJsonSchema": true,
       "metadata": {},
       "overflow": false,
       "plotOptions": {
        "customPlotOptions": {},
        "displayType": "table",
        "pivotAggregation": null,
        "pivotColumns": null,
        "xColumns": null,
        "yColumns": null
       },
       "removedWidgets": [],
       "schema": [
        {
         "metadata": "{}",
         "name": "order_id",
         "type": "\"string\""
        },
        {
         "metadata": "{}",
         "name": "payment_sequential",
         "type": "\"long\""
        },
        {
         "metadata": "{}",
         "name": "payment_type",
         "type": "\"string\""
        },
        {
         "metadata": "{}",
         "name": "payment_installments",
         "type": "\"long\""
        },
        {
         "metadata": "{}",
         "name": "payment_value",
         "type": "\"double\""
        }
       ],
       "type": "table"
      }
     },
     "output_type": "display_data"
    }
   ],
   "source": [
    "order_payments_data_cleaned = order_payments_data.copy()  # Creating a copy of the original dataFrame\n",
    "\n",
    "#check how many records have payment_installments or payment_value as 0\n",
    "temp_zero_values = order_payments_data_cleaned[(order_payments_data_cleaned['payment_installments'] == 0) | (order_payments_data_cleaned['payment_value'] == 0)]\n",
    "display(temp_zero_values)\n"
   ]
  },
  {
   "cell_type": "code",
   "execution_count": 0,
   "metadata": {
    "application/vnd.databricks.v1+cell": {
     "cellMetadata": {
      "byteLimit": 2048000,
      "rowLimit": 10000
     },
     "inputWidgets": {},
     "nuid": "094a5428-f736-4ae2-afdc-8c0f517e0cca",
     "showTitle": false,
     "title": ""
    }
   },
   "outputs": [
    {
     "output_type": "stream",
     "name": "stdout",
     "output_type": "stream",
     "text": [
      "\nInspecting Order Payments Data Cleaned:\nFirst 10 Rows:\n"
     ]
    },
    {
     "output_type": "display_data",
     "data": {
      "text/html": [
       "<style scoped>\n",
       "  .table-result-container {\n",
       "    max-height: 300px;\n",
       "    overflow: auto;\n",
       "  }\n",
       "  table, th, td {\n",
       "    border: 1px solid black;\n",
       "    border-collapse: collapse;\n",
       "  }\n",
       "  th, td {\n",
       "    padding: 5px;\n",
       "  }\n",
       "  th {\n",
       "    text-align: left;\n",
       "  }\n",
       "</style><div class='table-result-container'><table class='table-result'><thead style='background-color: white'><tr><th>order_id</th><th>payment_sequential</th><th>payment_type</th><th>payment_installments</th><th>payment_value</th></tr></thead><tbody><tr><td>b81ef226f3fe1789b1e8b2acac839d17</td><td>1</td><td>credit_card</td><td>8</td><td>99.33</td></tr><tr><td>a9810da82917af2d9aefd1278f1dcfa0</td><td>1</td><td>credit_card</td><td>1</td><td>24.39</td></tr><tr><td>25e8ea4e93396b6fa0d3dd708e76c1bd</td><td>1</td><td>credit_card</td><td>1</td><td>65.71</td></tr><tr><td>ba78997921bbcdc1373bb41e913ab953</td><td>1</td><td>credit_card</td><td>8</td><td>107.78</td></tr><tr><td>42fdf880ba16b47b59251dd489d4441a</td><td>1</td><td>credit_card</td><td>2</td><td>128.45</td></tr><tr><td>298fcdf1f73eb413e4d26d01b25bc1cd</td><td>1</td><td>credit_card</td><td>2</td><td>96.12</td></tr><tr><td>771ee386b001f06208a7419e4fc1bbd7</td><td>1</td><td>credit_card</td><td>1</td><td>81.16</td></tr><tr><td>3d7239c394a212faae122962df514ac7</td><td>1</td><td>credit_card</td><td>3</td><td>51.84</td></tr><tr><td>1f78449c87a54faf9e96e88ba1491fa9</td><td>1</td><td>credit_card</td><td>6</td><td>341.09</td></tr><tr><td>0573b5e23cbd798006520e1d5b4c6714</td><td>1</td><td>boleto</td><td>1</td><td>51.95</td></tr></tbody></table></div>"
      ]
     },
     "metadata": {
      "application/vnd.databricks.v1+output": {
       "addedWidgets": {},
       "aggData": [],
       "aggError": "",
       "aggOverflow": false,
       "aggSchema": [],
       "aggSeriesLimitReached": false,
       "aggType": "",
       "arguments": {},
       "columnCustomDisplayInfos": {},
       "data": [
        [
         "b81ef226f3fe1789b1e8b2acac839d17",
         1,
         "credit_card",
         8,
         99.33
        ],
        [
         "a9810da82917af2d9aefd1278f1dcfa0",
         1,
         "credit_card",
         1,
         24.39
        ],
        [
         "25e8ea4e93396b6fa0d3dd708e76c1bd",
         1,
         "credit_card",
         1,
         65.71
        ],
        [
         "ba78997921bbcdc1373bb41e913ab953",
         1,
         "credit_card",
         8,
         107.78
        ],
        [
         "42fdf880ba16b47b59251dd489d4441a",
         1,
         "credit_card",
         2,
         128.45
        ],
        [
         "298fcdf1f73eb413e4d26d01b25bc1cd",
         1,
         "credit_card",
         2,
         96.12
        ],
        [
         "771ee386b001f06208a7419e4fc1bbd7",
         1,
         "credit_card",
         1,
         81.16
        ],
        [
         "3d7239c394a212faae122962df514ac7",
         1,
         "credit_card",
         3,
         51.84
        ],
        [
         "1f78449c87a54faf9e96e88ba1491fa9",
         1,
         "credit_card",
         6,
         341.09
        ],
        [
         "0573b5e23cbd798006520e1d5b4c6714",
         1,
         "boleto",
         1,
         51.95
        ]
       ],
       "datasetInfos": [],
       "dbfsResultPath": null,
       "isJsonSchema": true,
       "metadata": {},
       "overflow": false,
       "plotOptions": {
        "customPlotOptions": {},
        "displayType": "table",
        "pivotAggregation": null,
        "pivotColumns": null,
        "xColumns": null,
        "yColumns": null
       },
       "removedWidgets": [],
       "schema": [
        {
         "metadata": "{}",
         "name": "order_id",
         "type": "\"string\""
        },
        {
         "metadata": "{}",
         "name": "payment_sequential",
         "type": "\"long\""
        },
        {
         "metadata": "{}",
         "name": "payment_type",
         "type": "\"string\""
        },
        {
         "metadata": "{}",
         "name": "payment_installments",
         "type": "\"long\""
        },
        {
         "metadata": "{}",
         "name": "payment_value",
         "type": "\"double\""
        }
       ],
       "type": "table"
      }
     },
     "output_type": "display_data"
    },
    {
     "output_type": "stream",
     "name": "stdout",
     "output_type": "stream",
     "text": [
      "Basic Information:\n<class 'pandas.core.frame.DataFrame'>\nInt64Index: 103877 entries, 0 to 103885\nData columns (total 5 columns):\n #   Column                Non-Null Count   Dtype  \n---  ------                --------------   -----  \n 0   order_id              103877 non-null  object \n 1   payment_sequential    103877 non-null  int64  \n 2   payment_type          103877 non-null  object \n 3   payment_installments  103877 non-null  int64  \n 4   payment_value         103877 non-null  float64\ndtypes: float64(1), int64(2), object(2)\nmemory usage: 4.8+ MB\nBasic Statistics:\n       payment_sequential  payment_installments  payment_value\ncount       103877.000000         103877.000000  103877.000000\nmean             1.092340              2.853529     154.113732\nstd              0.704312              2.687095     217.498755\nmin              1.000000              1.000000       0.010000\n25%              1.000000              1.000000      56.820000\n50%              1.000000              1.000000     100.000000\n75%              1.000000              4.000000     171.840000\nmax             29.000000             24.000000   13664.080000\nMissing Values:\n"
     ]
    },
    {
     "output_type": "display_data",
     "data": {
      "text/plain": [
       "order_id                0\n",
       "payment_sequential      0\n",
       "payment_type            0\n",
       "payment_installments    0\n",
       "payment_value           0\n",
       "dtype: int64"
      ]
     },
     "metadata": {},
     "output_type": "display_data"
    },
    {
     "output_type": "stream",
     "name": "stdout",
     "output_type": "stream",
     "text": [
      "Duplicate Rows:\n"
     ]
    },
    {
     "output_type": "display_data",
     "data": {
      "text/plain": [
       "0"
      ]
     },
     "metadata": {},
     "output_type": "display_data"
    },
    {
     "output_type": "stream",
     "name": "stdout",
     "output_type": "stream",
     "text": [
      "Value Counts for order_id:\n"
     ]
    },
    {
     "output_type": "display_data",
     "data": {
      "text/plain": [
       "fa65dad1b0e818e3ccc5cb0e39231352    27\n",
       "ccf804e764ed5650cd8759557269dc13    26\n",
       "285c2e15bebd4ac83635ccc563dc71f4    22\n",
       "895ab968e7bb0d5659d16cd74cd1650c    21\n",
       "fedcd9f7ccdc8cba3a18defedd1a5547    19\n",
       "ee9ca989fc93ba09a6eddc250ce01742    19\n",
       "21577126c19bf11a0b91592e5844ba78    15\n",
       "4bfcba9e084f46c8e3cb49b0fa6e6159    15\n",
       "4689b1816de42507a7d63a4617383c59    14\n",
       "3c58bffb70dcf45f12bdf66a3c215905    14\n",
       "Name: order_id, dtype: int64"
      ]
     },
     "metadata": {},
     "output_type": "display_data"
    },
    {
     "output_type": "stream",
     "name": "stdout",
     "output_type": "stream",
     "text": [
      "Value Counts for payment_type:\n"
     ]
    },
    {
     "output_type": "display_data",
     "data": {
      "text/plain": [
       "credit_card    76795\n",
       "boleto         19784\n",
       "voucher         5769\n",
       "debit_card      1529\n",
       "Name: payment_type, dtype: int64"
      ]
     },
     "metadata": {},
     "output_type": "display_data"
    },
    {
     "output_type": "stream",
     "name": "stdout",
     "output_type": "stream",
     "text": [
      "--------------------------------------------------------------------------------\n"
     ]
    }
   ],
   "source": [
    "#1. Handling rows where 'payment_installments' or 'payment_value' are 0\n",
    "\n",
    "#Replacing 'payment_installments' with 1 since there are only two records with 0 value and their payment_value is <>0\n",
    "order_payments_data_cleaned['payment_installments'] = order_payments_data_cleaned['payment_installments'].replace(0, 1)\n",
    "\n",
    "#Removing rows where 'payment_value' is 0 since payment installment is not zero\n",
    "order_payments_data_cleaned = order_payments_data_cleaned[order_payments_data_cleaned['payment_value'] > 0]\n",
    "\n",
    "inspect_data(order_payments_data_cleaned, \"Order Payments Data Cleaned\")\n"
   ]
  },
  {
   "cell_type": "markdown",
   "metadata": {
    "application/vnd.databricks.v1+cell": {
     "cellMetadata": {
      "byteLimit": 2048000,
      "rowLimit": 10000
     },
     "inputWidgets": {},
     "nuid": "9bbc1dca-3ddc-4de3-bfcd-46d57a20d77f",
     "showTitle": false,
     "title": ""
    }
   },
   "source": [
    "    5.8. Order Reviews Dataset"
   ]
  },
  {
   "cell_type": "code",
   "execution_count": 0,
   "metadata": {
    "application/vnd.databricks.v1+cell": {
     "cellMetadata": {
      "byteLimit": 2048000,
      "rowLimit": 10000
     },
     "inputWidgets": {},
     "nuid": "63612e8d-8204-4a53-a4b9-165d299264cd",
     "showTitle": false,
     "title": ""
    }
   },
   "outputs": [
    {
     "output_type": "stream",
     "name": "stdout",
     "output_type": "stream",
     "text": [
      "\nInspecting Order Reviews Data:\nFirst 10 Rows:\n"
     ]
    },
    {
     "output_type": "display_data",
     "data": {
      "text/html": [
       "<style scoped>\n",
       "  .table-result-container {\n",
       "    max-height: 300px;\n",
       "    overflow: auto;\n",
       "  }\n",
       "  table, th, td {\n",
       "    border: 1px solid black;\n",
       "    border-collapse: collapse;\n",
       "  }\n",
       "  th, td {\n",
       "    padding: 5px;\n",
       "  }\n",
       "  th {\n",
       "    text-align: left;\n",
       "  }\n",
       "</style><div class='table-result-container'><table class='table-result'><thead style='background-color: white'><tr><th>review_id</th><th>order_id</th><th>review_score</th><th>review_comment_title</th><th>review_comment_message</th><th>review_creation_date</th><th>review_answer_timestamp</th></tr></thead><tbody><tr><td>7bc2406110b926393aa56f80a40eba40</td><td>73fc7af87114b39712e6da79b0a377eb</td><td>4</td><td>null</td><td>null</td><td>2018-01-18 00:00:00</td><td>2018-01-18 21:46:59</td></tr><tr><td>80e641a11e56f04c1ad469d5645fdfde</td><td>a548910a1c6147796b98fdf73dbeba33</td><td>5</td><td>null</td><td>null</td><td>2018-03-10 00:00:00</td><td>2018-03-11 03:05:13</td></tr><tr><td>228ce5500dc1d8e020d8d1322874b6f0</td><td>f9e4b658b201a9f2ecdecbb34bed034b</td><td>5</td><td>null</td><td>null</td><td>2018-02-17 00:00:00</td><td>2018-02-18 14:36:24</td></tr><tr><td>e64fb393e7b32834bb789ff8bb30750e</td><td>658677c97b385a9be170737859d3511b</td><td>5</td><td>null</td><td>Recebi bem antes do prazo estipulado.</td><td>2017-04-21 00:00:00</td><td>2017-04-21 22:02:06</td></tr><tr><td>f7c4243c7fe1938f181bec41a392bdeb</td><td>8e6bfb81e283fa7e4f11123a3fb894f1</td><td>5</td><td>null</td><td>Parabéns lojas lannister adorei comprar pela Internet seguro e prático Parabéns a todos feliz Páscoa</td><td>2018-03-01 00:00:00</td><td>2018-03-02 10:26:53</td></tr><tr><td>15197aa66ff4d0650b5434f1b46cda19</td><td>b18dcdf73be66366873cd26c5724d1dc</td><td>1</td><td>null</td><td>null</td><td>2018-04-13 00:00:00</td><td>2018-04-16 00:39:37</td></tr><tr><td>07f9bee5d1b850860defd761afa7ff16</td><td>e48aa0d2dcec3a2e87348811bcfdf22b</td><td>5</td><td>null</td><td>null</td><td>2017-07-16 00:00:00</td><td>2017-07-18 19:30:34</td></tr><tr><td>7c6400515c67679fbee952a7525281ef</td><td>c31a859e34e3adac22f376954e19b39d</td><td>5</td><td>null</td><td>null</td><td>2018-08-14 00:00:00</td><td>2018-08-14 21:36:06</td></tr><tr><td>a3f6f7f6f433de0aefbb97da197c554c</td><td>9c214ac970e84273583ab523dfafd09b</td><td>5</td><td>null</td><td>null</td><td>2017-05-17 00:00:00</td><td>2017-05-18 12:05:37</td></tr><tr><td>8670d52e15e00043ae7de4c01cc2fe06</td><td>b9bf720beb4ab3728760088589c62129</td><td>4</td><td>recomendo</td><td>aparelho eficiente. no site a marca do aparelho esta impresso como 3desinfector e ao chegar esta com outro nome...atualizar com a marca correta uma vez que é o mesmo aparelho</td><td>2018-05-22 00:00:00</td><td>2018-05-23 16:45:47</td></tr></tbody></table></div>"
      ]
     },
     "metadata": {
      "application/vnd.databricks.v1+output": {
       "addedWidgets": {},
       "aggData": [],
       "aggError": "",
       "aggOverflow": false,
       "aggSchema": [],
       "aggSeriesLimitReached": false,
       "aggType": "",
       "arguments": {},
       "columnCustomDisplayInfos": {},
       "data": [
        [
         "7bc2406110b926393aa56f80a40eba40",
         "73fc7af87114b39712e6da79b0a377eb",
         4,
         null,
         null,
         "2018-01-18 00:00:00",
         "2018-01-18 21:46:59"
        ],
        [
         "80e641a11e56f04c1ad469d5645fdfde",
         "a548910a1c6147796b98fdf73dbeba33",
         5,
         null,
         null,
         "2018-03-10 00:00:00",
         "2018-03-11 03:05:13"
        ],
        [
         "228ce5500dc1d8e020d8d1322874b6f0",
         "f9e4b658b201a9f2ecdecbb34bed034b",
         5,
         null,
         null,
         "2018-02-17 00:00:00",
         "2018-02-18 14:36:24"
        ],
        [
         "e64fb393e7b32834bb789ff8bb30750e",
         "658677c97b385a9be170737859d3511b",
         5,
         null,
         "Recebi bem antes do prazo estipulado.",
         "2017-04-21 00:00:00",
         "2017-04-21 22:02:06"
        ],
        [
         "f7c4243c7fe1938f181bec41a392bdeb",
         "8e6bfb81e283fa7e4f11123a3fb894f1",
         5,
         null,
         "Parabéns lojas lannister adorei comprar pela Internet seguro e prático Parabéns a todos feliz Páscoa",
         "2018-03-01 00:00:00",
         "2018-03-02 10:26:53"
        ],
        [
         "15197aa66ff4d0650b5434f1b46cda19",
         "b18dcdf73be66366873cd26c5724d1dc",
         1,
         null,
         null,
         "2018-04-13 00:00:00",
         "2018-04-16 00:39:37"
        ],
        [
         "07f9bee5d1b850860defd761afa7ff16",
         "e48aa0d2dcec3a2e87348811bcfdf22b",
         5,
         null,
         null,
         "2017-07-16 00:00:00",
         "2017-07-18 19:30:34"
        ],
        [
         "7c6400515c67679fbee952a7525281ef",
         "c31a859e34e3adac22f376954e19b39d",
         5,
         null,
         null,
         "2018-08-14 00:00:00",
         "2018-08-14 21:36:06"
        ],
        [
         "a3f6f7f6f433de0aefbb97da197c554c",
         "9c214ac970e84273583ab523dfafd09b",
         5,
         null,
         null,
         "2017-05-17 00:00:00",
         "2017-05-18 12:05:37"
        ],
        [
         "8670d52e15e00043ae7de4c01cc2fe06",
         "b9bf720beb4ab3728760088589c62129",
         4,
         "recomendo",
         "aparelho eficiente. no site a marca do aparelho esta impresso como 3desinfector e ao chegar esta com outro nome...atualizar com a marca correta uma vez que é o mesmo aparelho",
         "2018-05-22 00:00:00",
         "2018-05-23 16:45:47"
        ]
       ],
       "datasetInfos": [],
       "dbfsResultPath": null,
       "isJsonSchema": true,
       "metadata": {},
       "overflow": false,
       "plotOptions": {
        "customPlotOptions": {},
        "displayType": "table",
        "pivotAggregation": null,
        "pivotColumns": null,
        "xColumns": null,
        "yColumns": null
       },
       "removedWidgets": [],
       "schema": [
        {
         "metadata": "{}",
         "name": "review_id",
         "type": "\"string\""
        },
        {
         "metadata": "{}",
         "name": "order_id",
         "type": "\"string\""
        },
        {
         "metadata": "{}",
         "name": "review_score",
         "type": "\"long\""
        },
        {
         "metadata": "{}",
         "name": "review_comment_title",
         "type": "\"string\""
        },
        {
         "metadata": "{}",
         "name": "review_comment_message",
         "type": "\"string\""
        },
        {
         "metadata": "{}",
         "name": "review_creation_date",
         "type": "\"string\""
        },
        {
         "metadata": "{}",
         "name": "review_answer_timestamp",
         "type": "\"string\""
        }
       ],
       "type": "table"
      }
     },
     "output_type": "display_data"
    },
    {
     "output_type": "stream",
     "name": "stdout",
     "output_type": "stream",
     "text": [
      "Basic Information:\n<class 'pandas.core.frame.DataFrame'>\nRangeIndex: 99224 entries, 0 to 99223\nData columns (total 7 columns):\n #   Column                   Non-Null Count  Dtype \n---  ------                   --------------  ----- \n 0   review_id                99224 non-null  object\n 1   order_id                 99224 non-null  object\n 2   review_score             99224 non-null  int64 \n 3   review_comment_title     11568 non-null  object\n 4   review_comment_message   40977 non-null  object\n 5   review_creation_date     99224 non-null  object\n 6   review_answer_timestamp  99224 non-null  object\ndtypes: int64(1), object(6)\nmemory usage: 5.3+ MB\nBasic Statistics:\n       review_score\ncount  99224.000000\nmean       4.086421\nstd        1.347579\nmin        1.000000\n25%        4.000000\n50%        5.000000\n75%        5.000000\nmax        5.000000\nMissing Values:\n"
     ]
    },
    {
     "output_type": "display_data",
     "data": {
      "text/plain": [
       "review_id                      0\n",
       "order_id                       0\n",
       "review_score                   0\n",
       "review_comment_title       87656\n",
       "review_comment_message     58247\n",
       "review_creation_date           0\n",
       "review_answer_timestamp        0\n",
       "dtype: int64"
      ]
     },
     "metadata": {},
     "output_type": "display_data"
    },
    {
     "output_type": "stream",
     "name": "stdout",
     "output_type": "stream",
     "text": [
      "Duplicate Rows:\n"
     ]
    },
    {
     "output_type": "display_data",
     "data": {
      "text/plain": [
       "0"
      ]
     },
     "metadata": {},
     "output_type": "display_data"
    },
    {
     "output_type": "stream",
     "name": "stdout",
     "output_type": "stream",
     "text": [
      "Value Counts for review_id:\n"
     ]
    },
    {
     "output_type": "display_data",
     "data": {
      "text/plain": [
       "7b606b0d57b078384f0b58eac1d41d78    3\n",
       "dbdf1ea31790c8ecfcc6750525661a9b    3\n",
       "32415bbf6e341d5d517080a796f79b5c    3\n",
       "0c76e7a547a531e7bf9f0b99cba071c1    3\n",
       "4219a80ab469e3fc9901437b73da3f75    3\n",
       "abbfacb2964f74f6487c9c10ac46daa6    3\n",
       "e44840754f12fad2b8646712121b349a    3\n",
       "70509c441d994fa03d6c1457930c9024    3\n",
       "2172867fd5b1a55f98fe4608e1547b4b    3\n",
       "832acec9bbf4efe65c3fb6423d8b4ed7    3\n",
       "Name: review_id, dtype: int64"
      ]
     },
     "metadata": {},
     "output_type": "display_data"
    },
    {
     "output_type": "stream",
     "name": "stdout",
     "output_type": "stream",
     "text": [
      "Value Counts for order_id:\n"
     ]
    },
    {
     "output_type": "display_data",
     "data": {
      "text/plain": [
       "c88b1d1b157a9999ce368f218a407141    3\n",
       "8e17072ec97ce29f0e1f111e598b0c85    3\n",
       "df56136b8031ecd28e200bb18e6ddb2e    3\n",
       "03c939fd7fd3b38f8485a0f95798f1f6    3\n",
       "5cb890a68b91b6158d69257e4e2bc359    2\n",
       "2143393cca994a4b8235bc1d67ded772    2\n",
       "25320e12b3d6e8f54f17389037588bba    2\n",
       "0176a6846bcb3b0d3aa3116a9a768597    2\n",
       "d9e44c3fd2ce16086619f299e92e12d8    2\n",
       "21cb4961399b846b168d0358100f473b    2\n",
       "Name: order_id, dtype: int64"
      ]
     },
     "metadata": {},
     "output_type": "display_data"
    },
    {
     "output_type": "stream",
     "name": "stdout",
     "output_type": "stream",
     "text": [
      "Value Counts for review_comment_title:\n"
     ]
    },
    {
     "output_type": "display_data",
     "data": {
      "text/plain": [
       "Recomendo          423\n",
       "recomendo          345\n",
       "Bom                293\n",
       "super recomendo    270\n",
       "Excelente          248\n",
       "Muito bom          247\n",
       "Ótimo              240\n",
       "Super recomendo    217\n",
       "Ótimo              207\n",
       "Otimo              174\n",
       "Name: review_comment_title, dtype: int64"
      ]
     },
     "metadata": {},
     "output_type": "display_data"
    },
    {
     "output_type": "stream",
     "name": "stdout",
     "output_type": "stream",
     "text": [
      "Value Counts for review_comment_message:\n"
     ]
    },
    {
     "output_type": "display_data",
     "data": {
      "text/plain": [
       "Muito bom    230\n",
       "Bom          189\n",
       "muito bom    122\n",
       "bom          107\n",
       "Recomendo    100\n",
       "Otimo         99\n",
       "otimo         96\n",
       "Ótimo         77\n",
       "Ótimo         74\n",
       "Ok            72\n",
       "Name: review_comment_message, dtype: int64"
      ]
     },
     "metadata": {},
     "output_type": "display_data"
    },
    {
     "output_type": "stream",
     "name": "stdout",
     "output_type": "stream",
     "text": [
      "Value Counts for review_creation_date:\n"
     ]
    },
    {
     "output_type": "display_data",
     "data": {
      "text/plain": [
       "2017-12-19 00:00:00    463\n",
       "2018-08-28 00:00:00    452\n",
       "2017-12-20 00:00:00    440\n",
       "2018-05-19 00:00:00    434\n",
       "2018-05-15 00:00:00    425\n",
       "2018-08-14 00:00:00    423\n",
       "2018-03-29 00:00:00    421\n",
       "2018-05-22 00:00:00    414\n",
       "2018-05-04 00:00:00    412\n",
       "2018-04-12 00:00:00    408\n",
       "Name: review_creation_date, dtype: int64"
      ]
     },
     "metadata": {},
     "output_type": "display_data"
    },
    {
     "output_type": "stream",
     "name": "stdout",
     "output_type": "stream",
     "text": [
      "Value Counts for review_answer_timestamp:\n"
     ]
    },
    {
     "output_type": "display_data",
     "data": {
      "text/plain": [
       "2017-06-15 23:21:05    4\n",
       "2018-02-26 15:53:18    3\n",
       "2018-04-07 21:13:05    3\n",
       "2017-02-21 23:30:22    3\n",
       "2017-08-12 14:35:35    3\n",
       "2018-06-17 23:48:04    3\n",
       "2018-02-23 10:58:06    3\n",
       "2017-06-25 14:04:22    3\n",
       "2018-08-06 00:09:52    3\n",
       "2017-08-30 11:18:29    3\n",
       "Name: review_answer_timestamp, dtype: int64"
      ]
     },
     "metadata": {},
     "output_type": "display_data"
    },
    {
     "output_type": "stream",
     "name": "stdout",
     "output_type": "stream",
     "text": [
      "--------------------------------------------------------------------------------\n"
     ]
    }
   ],
   "source": [
    "inspect_data(order_reviews_data, \"Order Reviews Data\")"
   ]
  },
  {
   "cell_type": "markdown",
   "metadata": {
    "application/vnd.databricks.v1+cell": {
     "cellMetadata": {
      "byteLimit": 2048000,
      "rowLimit": 10000
     },
     "inputWidgets": {},
     "nuid": "9292d21d-842b-40e1-a03c-f732d0438b7c",
     "showTitle": false,
     "title": ""
    }
   },
   "source": [
    "      Inspection Summary for Order Payments Dataset:\n",
    "        - Missing Values: found.\n",
    "        - Duplicates: No duplicate rows found.\n",
    "        - Data Types: date columns converted to datetime format \n",
    "      Key Observations:\n",
    "        - Significant missing values in the comment-related columns.\n",
    "      Transformations Applied:\n",
    "      1. Converted review_creation_date and review_answer_timestamp to datetime format.\n",
    "      2. Checked for duplicate review_id and order_id entries (none found)."
   ]
  },
  {
   "cell_type": "code",
   "execution_count": 0,
   "metadata": {
    "application/vnd.databricks.v1+cell": {
     "cellMetadata": {
      "byteLimit": 2048000,
      "rowLimit": 10000
     },
     "inputWidgets": {},
     "nuid": "07e6686d-fbf6-4a99-a5aa-58c62eda81c4",
     "showTitle": false,
     "title": ""
    }
   },
   "outputs": [
    {
     "output_type": "stream",
     "name": "stdout",
     "output_type": "stream",
     "text": [
      "No duplicates found.\n\nInspecting Order Reviews Data Cleaned:\nFirst 10 Rows:\n"
     ]
    },
    {
     "output_type": "display_data",
     "data": {
      "text/html": [
       "<style scoped>\n",
       "  .table-result-container {\n",
       "    max-height: 300px;\n",
       "    overflow: auto;\n",
       "  }\n",
       "  table, th, td {\n",
       "    border: 1px solid black;\n",
       "    border-collapse: collapse;\n",
       "  }\n",
       "  th, td {\n",
       "    padding: 5px;\n",
       "  }\n",
       "  th {\n",
       "    text-align: left;\n",
       "  }\n",
       "</style><div class='table-result-container'><table class='table-result'><thead style='background-color: white'><tr><th>review_id</th><th>order_id</th><th>review_score</th><th>review_comment_title</th><th>review_comment_message</th><th>review_creation_date</th><th>review_answer_timestamp</th></tr></thead><tbody><tr><td>7bc2406110b926393aa56f80a40eba40</td><td>73fc7af87114b39712e6da79b0a377eb</td><td>4</td><td>No Title</td><td>No Message</td><td>2018-01-18T00:00:00Z</td><td>2018-01-18T21:46:59Z</td></tr><tr><td>80e641a11e56f04c1ad469d5645fdfde</td><td>a548910a1c6147796b98fdf73dbeba33</td><td>5</td><td>No Title</td><td>No Message</td><td>2018-03-10T00:00:00Z</td><td>2018-03-11T03:05:13Z</td></tr><tr><td>228ce5500dc1d8e020d8d1322874b6f0</td><td>f9e4b658b201a9f2ecdecbb34bed034b</td><td>5</td><td>No Title</td><td>No Message</td><td>2018-02-17T00:00:00Z</td><td>2018-02-18T14:36:24Z</td></tr><tr><td>e64fb393e7b32834bb789ff8bb30750e</td><td>658677c97b385a9be170737859d3511b</td><td>5</td><td>No Title</td><td>Recebi bem antes do prazo estipulado.</td><td>2017-04-21T00:00:00Z</td><td>2017-04-21T22:02:06Z</td></tr><tr><td>f7c4243c7fe1938f181bec41a392bdeb</td><td>8e6bfb81e283fa7e4f11123a3fb894f1</td><td>5</td><td>No Title</td><td>Parabéns lojas lannister adorei comprar pela Internet seguro e prático Parabéns a todos feliz Páscoa</td><td>2018-03-01T00:00:00Z</td><td>2018-03-02T10:26:53Z</td></tr><tr><td>15197aa66ff4d0650b5434f1b46cda19</td><td>b18dcdf73be66366873cd26c5724d1dc</td><td>1</td><td>No Title</td><td>No Message</td><td>2018-04-13T00:00:00Z</td><td>2018-04-16T00:39:37Z</td></tr><tr><td>07f9bee5d1b850860defd761afa7ff16</td><td>e48aa0d2dcec3a2e87348811bcfdf22b</td><td>5</td><td>No Title</td><td>No Message</td><td>2017-07-16T00:00:00Z</td><td>2017-07-18T19:30:34Z</td></tr><tr><td>7c6400515c67679fbee952a7525281ef</td><td>c31a859e34e3adac22f376954e19b39d</td><td>5</td><td>No Title</td><td>No Message</td><td>2018-08-14T00:00:00Z</td><td>2018-08-14T21:36:06Z</td></tr><tr><td>a3f6f7f6f433de0aefbb97da197c554c</td><td>9c214ac970e84273583ab523dfafd09b</td><td>5</td><td>No Title</td><td>No Message</td><td>2017-05-17T00:00:00Z</td><td>2017-05-18T12:05:37Z</td></tr><tr><td>8670d52e15e00043ae7de4c01cc2fe06</td><td>b9bf720beb4ab3728760088589c62129</td><td>4</td><td>recomendo</td><td>aparelho eficiente. no site a marca do aparelho esta impresso como 3desinfector e ao chegar esta com outro nome...atualizar com a marca correta uma vez que é o mesmo aparelho</td><td>2018-05-22T00:00:00Z</td><td>2018-05-23T16:45:47Z</td></tr></tbody></table></div>"
      ]
     },
     "metadata": {
      "application/vnd.databricks.v1+output": {
       "addedWidgets": {},
       "aggData": [],
       "aggError": "",
       "aggOverflow": false,
       "aggSchema": [],
       "aggSeriesLimitReached": false,
       "aggType": "",
       "arguments": {},
       "columnCustomDisplayInfos": {},
       "data": [
        [
         "7bc2406110b926393aa56f80a40eba40",
         "73fc7af87114b39712e6da79b0a377eb",
         4,
         "No Title",
         "No Message",
         "2018-01-18T00:00:00Z",
         "2018-01-18T21:46:59Z"
        ],
        [
         "80e641a11e56f04c1ad469d5645fdfde",
         "a548910a1c6147796b98fdf73dbeba33",
         5,
         "No Title",
         "No Message",
         "2018-03-10T00:00:00Z",
         "2018-03-11T03:05:13Z"
        ],
        [
         "228ce5500dc1d8e020d8d1322874b6f0",
         "f9e4b658b201a9f2ecdecbb34bed034b",
         5,
         "No Title",
         "No Message",
         "2018-02-17T00:00:00Z",
         "2018-02-18T14:36:24Z"
        ],
        [
         "e64fb393e7b32834bb789ff8bb30750e",
         "658677c97b385a9be170737859d3511b",
         5,
         "No Title",
         "Recebi bem antes do prazo estipulado.",
         "2017-04-21T00:00:00Z",
         "2017-04-21T22:02:06Z"
        ],
        [
         "f7c4243c7fe1938f181bec41a392bdeb",
         "8e6bfb81e283fa7e4f11123a3fb894f1",
         5,
         "No Title",
         "Parabéns lojas lannister adorei comprar pela Internet seguro e prático Parabéns a todos feliz Páscoa",
         "2018-03-01T00:00:00Z",
         "2018-03-02T10:26:53Z"
        ],
        [
         "15197aa66ff4d0650b5434f1b46cda19",
         "b18dcdf73be66366873cd26c5724d1dc",
         1,
         "No Title",
         "No Message",
         "2018-04-13T00:00:00Z",
         "2018-04-16T00:39:37Z"
        ],
        [
         "07f9bee5d1b850860defd761afa7ff16",
         "e48aa0d2dcec3a2e87348811bcfdf22b",
         5,
         "No Title",
         "No Message",
         "2017-07-16T00:00:00Z",
         "2017-07-18T19:30:34Z"
        ],
        [
         "7c6400515c67679fbee952a7525281ef",
         "c31a859e34e3adac22f376954e19b39d",
         5,
         "No Title",
         "No Message",
         "2018-08-14T00:00:00Z",
         "2018-08-14T21:36:06Z"
        ],
        [
         "a3f6f7f6f433de0aefbb97da197c554c",
         "9c214ac970e84273583ab523dfafd09b",
         5,
         "No Title",
         "No Message",
         "2017-05-17T00:00:00Z",
         "2017-05-18T12:05:37Z"
        ],
        [
         "8670d52e15e00043ae7de4c01cc2fe06",
         "b9bf720beb4ab3728760088589c62129",
         4,
         "recomendo",
         "aparelho eficiente. no site a marca do aparelho esta impresso como 3desinfector e ao chegar esta com outro nome...atualizar com a marca correta uma vez que é o mesmo aparelho",
         "2018-05-22T00:00:00Z",
         "2018-05-23T16:45:47Z"
        ]
       ],
       "datasetInfos": [],
       "dbfsResultPath": null,
       "isJsonSchema": true,
       "metadata": {},
       "overflow": false,
       "plotOptions": {
        "customPlotOptions": {},
        "displayType": "table",
        "pivotAggregation": null,
        "pivotColumns": null,
        "xColumns": null,
        "yColumns": null
       },
       "removedWidgets": [],
       "schema": [
        {
         "metadata": "{}",
         "name": "review_id",
         "type": "\"string\""
        },
        {
         "metadata": "{}",
         "name": "order_id",
         "type": "\"string\""
        },
        {
         "metadata": "{}",
         "name": "review_score",
         "type": "\"long\""
        },
        {
         "metadata": "{}",
         "name": "review_comment_title",
         "type": "\"string\""
        },
        {
         "metadata": "{}",
         "name": "review_comment_message",
         "type": "\"string\""
        },
        {
         "metadata": "{}",
         "name": "review_creation_date",
         "type": "\"timestamp\""
        },
        {
         "metadata": "{}",
         "name": "review_answer_timestamp",
         "type": "\"timestamp\""
        }
       ],
       "type": "table"
      }
     },
     "output_type": "display_data"
    },
    {
     "output_type": "stream",
     "name": "stdout",
     "output_type": "stream",
     "text": [
      "Basic Information:\n<class 'pandas.core.frame.DataFrame'>\nRangeIndex: 99224 entries, 0 to 99223\nData columns (total 7 columns):\n #   Column                   Non-Null Count  Dtype         \n---  ------                   --------------  -----         \n 0   review_id                99224 non-null  object        \n 1   order_id                 99224 non-null  object        \n 2   review_score             99224 non-null  int64         \n 3   review_comment_title     99224 non-null  object        \n 4   review_comment_message   99224 non-null  object        \n 5   review_creation_date     99224 non-null  datetime64[ns]\n 6   review_answer_timestamp  99224 non-null  datetime64[ns]\ndtypes: datetime64[ns](2), int64(1), object(4)\nmemory usage: 5.3+ MB\nBasic Statistics:\n       review_score           review_creation_date        review_answer_timestamp\ncount  99224.000000                          99224                          99224\nmean       4.086421  2018-01-12 20:49:23.948238336  2018-01-16 00:23:56.977938688\nmin        1.000000            2016-10-02 00:00:00            2016-10-07 18:32:28\n25%        4.000000            2017-09-23 00:00:00  2017-09-27 01:53:27.249999872\n50%        5.000000            2018-02-02 00:00:00     2018-02-04 22:41:47.500000\n75%        5.000000            2018-05-16 00:00:00     2018-05-20 12:11:21.500000\nmax        5.000000            2018-08-31 00:00:00            2018-10-29 12:27:35\nstd        1.347579                            NaN                            NaN\nMissing Values:\n"
     ]
    },
    {
     "output_type": "display_data",
     "data": {
      "text/plain": [
       "review_id                  0\n",
       "order_id                   0\n",
       "review_score               0\n",
       "review_comment_title       0\n",
       "review_comment_message     0\n",
       "review_creation_date       0\n",
       "review_answer_timestamp    0\n",
       "dtype: int64"
      ]
     },
     "metadata": {},
     "output_type": "display_data"
    },
    {
     "output_type": "stream",
     "name": "stdout",
     "output_type": "stream",
     "text": [
      "Duplicate Rows:\n"
     ]
    },
    {
     "output_type": "display_data",
     "data": {
      "text/plain": [
       "0"
      ]
     },
     "metadata": {},
     "output_type": "display_data"
    },
    {
     "output_type": "stream",
     "name": "stdout",
     "output_type": "stream",
     "text": [
      "Value Counts for review_id:\n"
     ]
    },
    {
     "output_type": "display_data",
     "data": {
      "text/plain": [
       "7b606b0d57b078384f0b58eac1d41d78    3\n",
       "dbdf1ea31790c8ecfcc6750525661a9b    3\n",
       "32415bbf6e341d5d517080a796f79b5c    3\n",
       "0c76e7a547a531e7bf9f0b99cba071c1    3\n",
       "4219a80ab469e3fc9901437b73da3f75    3\n",
       "abbfacb2964f74f6487c9c10ac46daa6    3\n",
       "e44840754f12fad2b8646712121b349a    3\n",
       "70509c441d994fa03d6c1457930c9024    3\n",
       "2172867fd5b1a55f98fe4608e1547b4b    3\n",
       "832acec9bbf4efe65c3fb6423d8b4ed7    3\n",
       "Name: review_id, dtype: int64"
      ]
     },
     "metadata": {},
     "output_type": "display_data"
    },
    {
     "output_type": "stream",
     "name": "stdout",
     "output_type": "stream",
     "text": [
      "Value Counts for order_id:\n"
     ]
    },
    {
     "output_type": "display_data",
     "data": {
      "text/plain": [
       "c88b1d1b157a9999ce368f218a407141    3\n",
       "8e17072ec97ce29f0e1f111e598b0c85    3\n",
       "df56136b8031ecd28e200bb18e6ddb2e    3\n",
       "03c939fd7fd3b38f8485a0f95798f1f6    3\n",
       "5cb890a68b91b6158d69257e4e2bc359    2\n",
       "2143393cca994a4b8235bc1d67ded772    2\n",
       "25320e12b3d6e8f54f17389037588bba    2\n",
       "0176a6846bcb3b0d3aa3116a9a768597    2\n",
       "d9e44c3fd2ce16086619f299e92e12d8    2\n",
       "21cb4961399b846b168d0358100f473b    2\n",
       "Name: order_id, dtype: int64"
      ]
     },
     "metadata": {},
     "output_type": "display_data"
    },
    {
     "output_type": "stream",
     "name": "stdout",
     "output_type": "stream",
     "text": [
      "Value Counts for review_comment_title:\n"
     ]
    },
    {
     "output_type": "display_data",
     "data": {
      "text/plain": [
       "No Title           87656\n",
       "Recomendo            423\n",
       "recomendo            345\n",
       "Bom                  293\n",
       "super recomendo      270\n",
       "Excelente            248\n",
       "Muito bom            247\n",
       "Ótimo                240\n",
       "Super recomendo      217\n",
       "Ótimo                207\n",
       "Name: review_comment_title, dtype: int64"
      ]
     },
     "metadata": {},
     "output_type": "display_data"
    },
    {
     "output_type": "stream",
     "name": "stdout",
     "output_type": "stream",
     "text": [
      "Value Counts for review_comment_message:\n"
     ]
    },
    {
     "output_type": "display_data",
     "data": {
      "text/plain": [
       "No Message    58247\n",
       "Muito bom       230\n",
       "Bom             189\n",
       "muito bom       122\n",
       "bom             107\n",
       "Recomendo       100\n",
       "Otimo            99\n",
       "otimo            96\n",
       "Ótimo            77\n",
       "Ótimo            74\n",
       "Name: review_comment_message, dtype: int64"
      ]
     },
     "metadata": {},
     "output_type": "display_data"
    },
    {
     "output_type": "stream",
     "name": "stdout",
     "output_type": "stream",
     "text": [
      "--------------------------------------------------------------------------------\n"
     ]
    }
   ],
   "source": [
    "order_reviews_data_cleaned = order_reviews_data.copy() # Creating a copy of the original dataFrame\n",
    "\n",
    "# Check for duplicate rows based on 'review_id' and 'order_id'\n",
    "duplicates = order_reviews_data_cleaned[order_reviews_data_cleaned.duplicated(subset=['review_id','order_id'],keep=False)]\n",
    "\n",
    "# Display the duplicate rows\n",
    "if not duplicates.empty:\n",
    "    display(duplicates)\n",
    "else:\n",
    "    print(\"No duplicates found.\")\n",
    "\n",
    "# Convert 'review_creation_date' and 'review_answer_timestamp' to datetime format\n",
    "order_reviews_data_cleaned['review_creation_date'] = pd.to_datetime(order_reviews_data_cleaned['review_creation_date'], errors='coerce')\n",
    "order_reviews_data_cleaned['review_answer_timestamp'] = pd.to_datetime(order_reviews_data_cleaned['review_answer_timestamp'], errors='coerce')\n",
    "\n",
    "#Fill missing values with default messages\n",
    "order_reviews_data_cleaned.fillna({'review_comment_title': 'No Title', 'review_comment_message': 'No Message'}, inplace=True)\n",
    "\n",
    "inspect_data(order_reviews_data_cleaned, \"Order Reviews Data Cleaned\")"
   ]
  },
  {
   "cell_type": "markdown",
   "metadata": {
    "application/vnd.databricks.v1+cell": {
     "cellMetadata": {
      "byteLimit": 2048000,
      "rowLimit": 10000
     },
     "inputWidgets": {},
     "nuid": "28dbea67-6c50-4e76-8f7e-8551f131c424",
     "showTitle": false,
     "title": ""
    }
   },
   "source": [
    "    5.9. Sellers Dataset"
   ]
  },
  {
   "cell_type": "code",
   "execution_count": 0,
   "metadata": {
    "application/vnd.databricks.v1+cell": {
     "cellMetadata": {
      "byteLimit": 2048000,
      "rowLimit": 10000
     },
     "inputWidgets": {},
     "nuid": "9a9a8d0c-3a58-4354-85be-ebad848a4d4e",
     "showTitle": false,
     "title": ""
    }
   },
   "outputs": [
    {
     "output_type": "stream",
     "name": "stdout",
     "output_type": "stream",
     "text": [
      "\nInspecting Sellers Data:\nFirst 10 Rows:\n"
     ]
    },
    {
     "output_type": "display_data",
     "data": {
      "text/html": [
       "<style scoped>\n",
       "  .table-result-container {\n",
       "    max-height: 300px;\n",
       "    overflow: auto;\n",
       "  }\n",
       "  table, th, td {\n",
       "    border: 1px solid black;\n",
       "    border-collapse: collapse;\n",
       "  }\n",
       "  th, td {\n",
       "    padding: 5px;\n",
       "  }\n",
       "  th {\n",
       "    text-align: left;\n",
       "  }\n",
       "</style><div class='table-result-container'><table class='table-result'><thead style='background-color: white'><tr><th>seller_id</th><th>seller_zip_code_prefix</th><th>seller_city</th><th>seller_state</th></tr></thead><tbody><tr><td>3442f8959a84dea7ee197c632cb2df15</td><td>13023</td><td>campinas</td><td>SP</td></tr><tr><td>d1b65fc7debc3361ea86b5f14c68d2e2</td><td>13844</td><td>mogi guacu</td><td>SP</td></tr><tr><td>ce3ad9de960102d0677a81f5d0bb7b2d</td><td>20031</td><td>rio de janeiro</td><td>RJ</td></tr><tr><td>c0f3eea2e14555b6faeea3dd58c1b1c3</td><td>4195</td><td>sao paulo</td><td>SP</td></tr><tr><td>51a04a8a6bdcb23deccc82b0b80742cf</td><td>12914</td><td>braganca paulista</td><td>SP</td></tr><tr><td>c240c4061717ac1806ae6ee72be3533b</td><td>20920</td><td>rio de janeiro</td><td>RJ</td></tr><tr><td>e49c26c3edfa46d227d5121a6b6e4d37</td><td>55325</td><td>brejao</td><td>PE</td></tr><tr><td>1b938a7ec6ac5061a66a3766e0e75f90</td><td>16304</td><td>penapolis</td><td>SP</td></tr><tr><td>768a86e36ad6aae3d03ee3c6433d61df</td><td>1529</td><td>sao paulo</td><td>SP</td></tr><tr><td>ccc4bbb5f32a6ab2b7066a4130f114e3</td><td>80310</td><td>curitiba</td><td>PR</td></tr></tbody></table></div>"
      ]
     },
     "metadata": {
      "application/vnd.databricks.v1+output": {
       "addedWidgets": {},
       "aggData": [],
       "aggError": "",
       "aggOverflow": false,
       "aggSchema": [],
       "aggSeriesLimitReached": false,
       "aggType": "",
       "arguments": {},
       "columnCustomDisplayInfos": {},
       "data": [
        [
         "3442f8959a84dea7ee197c632cb2df15",
         13023,
         "campinas",
         "SP"
        ],
        [
         "d1b65fc7debc3361ea86b5f14c68d2e2",
         13844,
         "mogi guacu",
         "SP"
        ],
        [
         "ce3ad9de960102d0677a81f5d0bb7b2d",
         20031,
         "rio de janeiro",
         "RJ"
        ],
        [
         "c0f3eea2e14555b6faeea3dd58c1b1c3",
         4195,
         "sao paulo",
         "SP"
        ],
        [
         "51a04a8a6bdcb23deccc82b0b80742cf",
         12914,
         "braganca paulista",
         "SP"
        ],
        [
         "c240c4061717ac1806ae6ee72be3533b",
         20920,
         "rio de janeiro",
         "RJ"
        ],
        [
         "e49c26c3edfa46d227d5121a6b6e4d37",
         55325,
         "brejao",
         "PE"
        ],
        [
         "1b938a7ec6ac5061a66a3766e0e75f90",
         16304,
         "penapolis",
         "SP"
        ],
        [
         "768a86e36ad6aae3d03ee3c6433d61df",
         1529,
         "sao paulo",
         "SP"
        ],
        [
         "ccc4bbb5f32a6ab2b7066a4130f114e3",
         80310,
         "curitiba",
         "PR"
        ]
       ],
       "datasetInfos": [],
       "dbfsResultPath": null,
       "isJsonSchema": true,
       "metadata": {},
       "overflow": false,
       "plotOptions": {
        "customPlotOptions": {},
        "displayType": "table",
        "pivotAggregation": null,
        "pivotColumns": null,
        "xColumns": null,
        "yColumns": null
       },
       "removedWidgets": [],
       "schema": [
        {
         "metadata": "{}",
         "name": "seller_id",
         "type": "\"string\""
        },
        {
         "metadata": "{}",
         "name": "seller_zip_code_prefix",
         "type": "\"long\""
        },
        {
         "metadata": "{}",
         "name": "seller_city",
         "type": "\"string\""
        },
        {
         "metadata": "{}",
         "name": "seller_state",
         "type": "\"string\""
        }
       ],
       "type": "table"
      }
     },
     "output_type": "display_data"
    },
    {
     "output_type": "stream",
     "name": "stdout",
     "output_type": "stream",
     "text": [
      "Basic Information:\n<class 'pandas.core.frame.DataFrame'>\nRangeIndex: 3095 entries, 0 to 3094\nData columns (total 4 columns):\n #   Column                  Non-Null Count  Dtype \n---  ------                  --------------  ----- \n 0   seller_id               3095 non-null   object\n 1   seller_zip_code_prefix  3095 non-null   int64 \n 2   seller_city             3095 non-null   object\n 3   seller_state            3095 non-null   object\ndtypes: int64(1), object(3)\nmemory usage: 96.8+ KB\nBasic Statistics:\n       seller_zip_code_prefix\ncount             3095.000000\nmean             32291.059451\nstd              32713.453830\nmin               1001.000000\n25%               7093.500000\n50%              14940.000000\n75%              64552.500000\nmax              99730.000000\nMissing Values:\n"
     ]
    },
    {
     "output_type": "display_data",
     "data": {
      "text/plain": [
       "seller_id                 0\n",
       "seller_zip_code_prefix    0\n",
       "seller_city               0\n",
       "seller_state              0\n",
       "dtype: int64"
      ]
     },
     "metadata": {},
     "output_type": "display_data"
    },
    {
     "output_type": "stream",
     "name": "stdout",
     "output_type": "stream",
     "text": [
      "Duplicate Rows:\n"
     ]
    },
    {
     "output_type": "display_data",
     "data": {
      "text/plain": [
       "0"
      ]
     },
     "metadata": {},
     "output_type": "display_data"
    },
    {
     "output_type": "stream",
     "name": "stdout",
     "output_type": "stream",
     "text": [
      "Value Counts for seller_id:\n"
     ]
    },
    {
     "output_type": "display_data",
     "data": {
      "text/plain": [
       "3442f8959a84dea7ee197c632cb2df15    1\n",
       "e26901d5ab434ce92fd9b5c256820a4e    1\n",
       "7e3f87d16fb353f408d467e74fbd8014    1\n",
       "9140bd1d9de28b197dce077bdd687438    1\n",
       "a2b911e9ad40dc7d61c142a4683e2d85    1\n",
       "a56e351445e5863fc8960640ba9190c7    1\n",
       "bb135baca94c82fcb731335ad5b04a03    1\n",
       "a353b1083c9863d756d9404695016d64    1\n",
       "b56828a9f9027f3c918c04ca720d9e3c    1\n",
       "6e0908ef4d4efadbc3cc2b74ea477cb0    1\n",
       "Name: seller_id, dtype: int64"
      ]
     },
     "metadata": {},
     "output_type": "display_data"
    },
    {
     "output_type": "stream",
     "name": "stdout",
     "output_type": "stream",
     "text": [
      "Value Counts for seller_city:\n"
     ]
    },
    {
     "output_type": "display_data",
     "data": {
      "text/plain": [
       "sao paulo         694\n",
       "curitiba          127\n",
       "rio de janeiro     96\n",
       "belo horizonte     68\n",
       "ribeirao preto     52\n",
       "guarulhos          50\n",
       "ibitinga           49\n",
       "santo andre        45\n",
       "campinas           41\n",
       "maringa            40\n",
       "Name: seller_city, dtype: int64"
      ]
     },
     "metadata": {},
     "output_type": "display_data"
    },
    {
     "output_type": "stream",
     "name": "stdout",
     "output_type": "stream",
     "text": [
      "Value Counts for seller_state:\n"
     ]
    },
    {
     "output_type": "display_data",
     "data": {
      "text/plain": [
       "SP    1849\n",
       "PR     349\n",
       "MG     244\n",
       "SC     190\n",
       "RJ     171\n",
       "RS     129\n",
       "GO      40\n",
       "DF      30\n",
       "ES      23\n",
       "BA      19\n",
       "Name: seller_state, dtype: int64"
      ]
     },
     "metadata": {},
     "output_type": "display_data"
    },
    {
     "output_type": "stream",
     "name": "stdout",
     "output_type": "stream",
     "text": [
      "--------------------------------------------------------------------------------\n"
     ]
    }
   ],
   "source": [
    "inspect_data(sellers_data, \"Sellers Data\")"
   ]
  },
  {
   "cell_type": "markdown",
   "metadata": {
    "application/vnd.databricks.v1+cell": {
     "cellMetadata": {
      "byteLimit": 2048000,
      "rowLimit": 10000
     },
     "inputWidgets": {},
     "nuid": "7a6f836b-2608-476f-a8f6-929416764e46",
     "showTitle": false,
     "title": ""
    }
   },
   "source": [
    "      Inspection Summary for Order Sellers Dataset:\n",
    "        - Missing Values: None.\n",
    "        - Duplicates: No duplicate rows found.\n",
    "        - Data Types: Correct.\n",
    "\n",
    "      Transformations Applied:\n",
    "      1. City names standardized."
   ]
  },
  {
   "cell_type": "code",
   "execution_count": 0,
   "metadata": {
    "application/vnd.databricks.v1+cell": {
     "cellMetadata": {
      "byteLimit": 2048000,
      "rowLimit": 10000
     },
     "inputWidgets": {},
     "nuid": "ed6b870c-9ed8-42eb-b45f-bcba2fa492d6",
     "showTitle": false,
     "title": ""
    }
   },
   "outputs": [],
   "source": [
    "sellers_data_cleaned = sellers_data.copy() # Creating a copy of the original dataFrame\n",
    "\n",
    "#1. Standardizing the city names\n",
    "sellers_data_cleaned['seller_city'] = sellers_data_cleaned['seller_city'].str.title() "
   ]
  },
  {
   "cell_type": "code",
   "execution_count": 0,
   "metadata": {
    "application/vnd.databricks.v1+cell": {
     "cellMetadata": {
      "byteLimit": 2048000,
      "rowLimit": 10000
     },
     "inputWidgets": {},
     "nuid": "143e6bd9-4439-4473-97e6-044a45cec5db",
     "showTitle": false,
     "title": ""
    }
   },
   "outputs": [
    {
     "output_type": "stream",
     "name": "stdout",
     "output_type": "stream",
     "text": [
      "\nInspecting Sellers Data:\nFirst 10 Rows:\n"
     ]
    },
    {
     "output_type": "display_data",
     "data": {
      "text/html": [
       "<style scoped>\n",
       "  .table-result-container {\n",
       "    max-height: 300px;\n",
       "    overflow: auto;\n",
       "  }\n",
       "  table, th, td {\n",
       "    border: 1px solid black;\n",
       "    border-collapse: collapse;\n",
       "  }\n",
       "  th, td {\n",
       "    padding: 5px;\n",
       "  }\n",
       "  th {\n",
       "    text-align: left;\n",
       "  }\n",
       "</style><div class='table-result-container'><table class='table-result'><thead style='background-color: white'><tr><th>seller_id</th><th>seller_zip_code_prefix</th><th>seller_city</th><th>seller_state</th></tr></thead><tbody><tr><td>3442f8959a84dea7ee197c632cb2df15</td><td>13023</td><td>Campinas</td><td>SP</td></tr><tr><td>d1b65fc7debc3361ea86b5f14c68d2e2</td><td>13844</td><td>Mogi Guacu</td><td>SP</td></tr><tr><td>ce3ad9de960102d0677a81f5d0bb7b2d</td><td>20031</td><td>Rio De Janeiro</td><td>RJ</td></tr><tr><td>c0f3eea2e14555b6faeea3dd58c1b1c3</td><td>4195</td><td>Sao Paulo</td><td>SP</td></tr><tr><td>51a04a8a6bdcb23deccc82b0b80742cf</td><td>12914</td><td>Braganca Paulista</td><td>SP</td></tr><tr><td>c240c4061717ac1806ae6ee72be3533b</td><td>20920</td><td>Rio De Janeiro</td><td>RJ</td></tr><tr><td>e49c26c3edfa46d227d5121a6b6e4d37</td><td>55325</td><td>Brejao</td><td>PE</td></tr><tr><td>1b938a7ec6ac5061a66a3766e0e75f90</td><td>16304</td><td>Penapolis</td><td>SP</td></tr><tr><td>768a86e36ad6aae3d03ee3c6433d61df</td><td>1529</td><td>Sao Paulo</td><td>SP</td></tr><tr><td>ccc4bbb5f32a6ab2b7066a4130f114e3</td><td>80310</td><td>Curitiba</td><td>PR</td></tr></tbody></table></div>"
      ]
     },
     "metadata": {
      "application/vnd.databricks.v1+output": {
       "addedWidgets": {},
       "aggData": [],
       "aggError": "",
       "aggOverflow": false,
       "aggSchema": [],
       "aggSeriesLimitReached": false,
       "aggType": "",
       "arguments": {},
       "columnCustomDisplayInfos": {},
       "data": [
        [
         "3442f8959a84dea7ee197c632cb2df15",
         13023,
         "Campinas",
         "SP"
        ],
        [
         "d1b65fc7debc3361ea86b5f14c68d2e2",
         13844,
         "Mogi Guacu",
         "SP"
        ],
        [
         "ce3ad9de960102d0677a81f5d0bb7b2d",
         20031,
         "Rio De Janeiro",
         "RJ"
        ],
        [
         "c0f3eea2e14555b6faeea3dd58c1b1c3",
         4195,
         "Sao Paulo",
         "SP"
        ],
        [
         "51a04a8a6bdcb23deccc82b0b80742cf",
         12914,
         "Braganca Paulista",
         "SP"
        ],
        [
         "c240c4061717ac1806ae6ee72be3533b",
         20920,
         "Rio De Janeiro",
         "RJ"
        ],
        [
         "e49c26c3edfa46d227d5121a6b6e4d37",
         55325,
         "Brejao",
         "PE"
        ],
        [
         "1b938a7ec6ac5061a66a3766e0e75f90",
         16304,
         "Penapolis",
         "SP"
        ],
        [
         "768a86e36ad6aae3d03ee3c6433d61df",
         1529,
         "Sao Paulo",
         "SP"
        ],
        [
         "ccc4bbb5f32a6ab2b7066a4130f114e3",
         80310,
         "Curitiba",
         "PR"
        ]
       ],
       "datasetInfos": [],
       "dbfsResultPath": null,
       "isJsonSchema": true,
       "metadata": {},
       "overflow": false,
       "plotOptions": {
        "customPlotOptions": {},
        "displayType": "table",
        "pivotAggregation": null,
        "pivotColumns": null,
        "xColumns": null,
        "yColumns": null
       },
       "removedWidgets": [],
       "schema": [
        {
         "metadata": "{}",
         "name": "seller_id",
         "type": "\"string\""
        },
        {
         "metadata": "{}",
         "name": "seller_zip_code_prefix",
         "type": "\"long\""
        },
        {
         "metadata": "{}",
         "name": "seller_city",
         "type": "\"string\""
        },
        {
         "metadata": "{}",
         "name": "seller_state",
         "type": "\"string\""
        }
       ],
       "type": "table"
      }
     },
     "output_type": "display_data"
    },
    {
     "output_type": "stream",
     "name": "stdout",
     "output_type": "stream",
     "text": [
      "Basic Information:\n<class 'pandas.core.frame.DataFrame'>\nRangeIndex: 3095 entries, 0 to 3094\nData columns (total 4 columns):\n #   Column                  Non-Null Count  Dtype \n---  ------                  --------------  ----- \n 0   seller_id               3095 non-null   object\n 1   seller_zip_code_prefix  3095 non-null   int64 \n 2   seller_city             3095 non-null   object\n 3   seller_state            3095 non-null   object\ndtypes: int64(1), object(3)\nmemory usage: 96.8+ KB\nBasic Statistics:\n       seller_zip_code_prefix\ncount             3095.000000\nmean             32291.059451\nstd              32713.453830\nmin               1001.000000\n25%               7093.500000\n50%              14940.000000\n75%              64552.500000\nmax              99730.000000\nMissing Values:\n"
     ]
    },
    {
     "output_type": "display_data",
     "data": {
      "text/plain": [
       "seller_id                 0\n",
       "seller_zip_code_prefix    0\n",
       "seller_city               0\n",
       "seller_state              0\n",
       "dtype: int64"
      ]
     },
     "metadata": {},
     "output_type": "display_data"
    },
    {
     "output_type": "stream",
     "name": "stdout",
     "output_type": "stream",
     "text": [
      "Duplicate Rows:\n"
     ]
    },
    {
     "output_type": "display_data",
     "data": {
      "text/plain": [
       "0"
      ]
     },
     "metadata": {},
     "output_type": "display_data"
    },
    {
     "output_type": "stream",
     "name": "stdout",
     "output_type": "stream",
     "text": [
      "Value Counts for seller_id:\n"
     ]
    },
    {
     "output_type": "display_data",
     "data": {
      "text/plain": [
       "3442f8959a84dea7ee197c632cb2df15    1\n",
       "e26901d5ab434ce92fd9b5c256820a4e    1\n",
       "7e3f87d16fb353f408d467e74fbd8014    1\n",
       "9140bd1d9de28b197dce077bdd687438    1\n",
       "a2b911e9ad40dc7d61c142a4683e2d85    1\n",
       "a56e351445e5863fc8960640ba9190c7    1\n",
       "bb135baca94c82fcb731335ad5b04a03    1\n",
       "a353b1083c9863d756d9404695016d64    1\n",
       "b56828a9f9027f3c918c04ca720d9e3c    1\n",
       "6e0908ef4d4efadbc3cc2b74ea477cb0    1\n",
       "Name: seller_id, dtype: int64"
      ]
     },
     "metadata": {},
     "output_type": "display_data"
    },
    {
     "output_type": "stream",
     "name": "stdout",
     "output_type": "stream",
     "text": [
      "Value Counts for seller_city:\n"
     ]
    },
    {
     "output_type": "display_data",
     "data": {
      "text/plain": [
       "Sao Paulo         694\n",
       "Curitiba          127\n",
       "Rio De Janeiro     96\n",
       "Belo Horizonte     68\n",
       "Ribeirao Preto     52\n",
       "Guarulhos          50\n",
       "Ibitinga           49\n",
       "Santo Andre        45\n",
       "Campinas           41\n",
       "Maringa            40\n",
       "Name: seller_city, dtype: int64"
      ]
     },
     "metadata": {},
     "output_type": "display_data"
    },
    {
     "output_type": "stream",
     "name": "stdout",
     "output_type": "stream",
     "text": [
      "Value Counts for seller_state:\n"
     ]
    },
    {
     "output_type": "display_data",
     "data": {
      "text/plain": [
       "SP    1849\n",
       "PR     349\n",
       "MG     244\n",
       "SC     190\n",
       "RJ     171\n",
       "RS     129\n",
       "GO      40\n",
       "DF      30\n",
       "ES      23\n",
       "BA      19\n",
       "Name: seller_state, dtype: int64"
      ]
     },
     "metadata": {},
     "output_type": "display_data"
    },
    {
     "output_type": "stream",
     "name": "stdout",
     "output_type": "stream",
     "text": [
      "--------------------------------------------------------------------------------\n"
     ]
    }
   ],
   "source": [
    "inspect_data(sellers_data_cleaned, \"Sellers Data\")"
   ]
  },
  {
   "cell_type": "code",
   "execution_count": 0,
   "metadata": {
    "application/vnd.databricks.v1+cell": {
     "cellMetadata": {
      "byteLimit": 2048000,
      "rowLimit": 10000
     },
     "inputWidgets": {},
     "nuid": "c84d64ef-3109-44f8-9558-5e0dafd32269",
     "showTitle": false,
     "title": ""
    }
   },
   "outputs": [],
   "source": [
    "#Merging where possible after data cleaning \n",
    "\n",
    "# Merge product name translations with products data\n",
    "products_data_cleaned = products_data_cleaned.merge(prod_name_translation_data_cleaned, how='left', left_on='product_category_name', right_on='product_category_name')\n",
    "\n",
    "# Merge order items with orders, products, and sellers\n",
    "order_items_data_cleaned = order_items_data_cleaned.merge(orders_data_cleaned, on='order_id', how='left')\n",
    "order_items_data_cleaned = order_items_data_cleaned.merge(products_data_cleaned, on='product_id', how='left')\n",
    "order_items_data_cleaned = order_items_data_cleaned.merge(sellers_data_cleaned, on='seller_id', how='left')\n",
    "\n",
    "# Merge orders with customers\n",
    "orders_customers_data_cleaned = orders_data_cleaned.merge(customers_data_cleaned, on='customer_id', how='left')\n"
   ]
  },
  {
   "cell_type": "code",
   "execution_count": 0,
   "metadata": {
    "application/vnd.databricks.v1+cell": {
     "cellMetadata": {
      "byteLimit": 2048000,
      "rowLimit": 10000
     },
     "inputWidgets": {},
     "nuid": "6928612e-7132-416b-b648-3f29177602b4",
     "showTitle": false,
     "title": ""
    }
   },
   "outputs": [],
   "source": [
    "# Save the cleaned DataFrames to CSV files\n",
    "products_data_cleaned.to_csv('products_data_cleaned.csv', index=False)\n",
    "order_items_data_cleaned.to_csv('order_items_data_cleaned.csv', index=False)\n",
    "orders_customers_data_cleaned.to_csv('orders_customers_data_cleaned.csv', index=False)\n",
    "order_payments_data_cleaned.to_csv('order_payments_data_cleaned.csv', index=False)\n",
    "orders_data_cleaned.to_csv('orders_data_cleaned.csv', index=False)\n",
    "customers_data_cleaned.to_csv('customers_data_cleaned.csv', index=False)\n",
    "geolocation_data_cleaned.to_csv('geolocation_data_cleaned.csv', index=False)\n",
    "sellers_data_cleaned.to_csv('sellers_data_cleaned.csv', index=False)\n",
    "order_reviews_data_cleaned.to_csv('order_reviews_data_cleaned.csv', index=False)\n",
    "prod_name_translation_data_cleaned.to_csv('prod_name_translation_data_cleaned.csv', index=False)"
   ]
  }
 ],
 "metadata": {
  "application/vnd.databricks.v1+notebook": {
   "dashboards": [],
   "environmentMetadata": null,
   "language": "python",
   "notebookMetadata": {
    "pythonIndentUnit": 4
   },
   "notebookName": "4.1 Data Cleaning and Transformation",
   "widgets": {}
  }
 },
 "nbformat": 4,
 "nbformat_minor": 0
}
